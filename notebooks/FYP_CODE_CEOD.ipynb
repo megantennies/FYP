{
 "cells": [
  {
   "cell_type": "markdown",
   "metadata": {},
   "source": [
    "Imports"
   ]
  },
  {
   "cell_type": "code",
   "execution_count": 2,
   "metadata": {},
   "outputs": [],
   "source": [
    "# !pip install scipy==1.6.0\n",
    "# !pip install matplotlib==3.1.0"
   ]
  },
  {
   "cell_type": "code",
   "execution_count": 1,
   "metadata": {},
   "outputs": [],
   "source": [
    "import os, json, random\n",
    "random.seed(1)\n",
    "import numpy as np\n",
    "import pandas as pd\n",
    "import seaborn as sns\n",
    "from IPython.display import Markdown, display, Image\n",
    "from tqdm import tqdm\n",
    "from collections import OrderedDict\n",
    "import matplotlib.pyplot as plt\n",
    "%matplotlib inline"
   ]
  },
  {
   "cell_type": "code",
   "execution_count": 2,
   "metadata": {},
   "outputs": [],
   "source": [
    "# AIF360\n",
    "import aif360\n",
    "from aif360.datasets import CompasDataset\n",
    "from aif360.sklearn.datasets import fetch_compas\n",
    "# fairness metrics\n",
    "from aif360.metrics import BinaryLabelDatasetMetric, ClassificationMetric, DatasetMetric\n",
    "from aif360.metrics.common_utils import compute_metrics\n",
    "from aif360.metrics.utils import compute_num_instances\n",
    "# data preprocessing\n",
    "from aif360.algorithms.preprocessing.optim_preproc_helpers.data_preproc_functions import load_preproc_data_compas\n",
    "# explainers\n",
    "from aif360.explainers import MetricTextExplainer\n",
    "# bias mitigation techniques\n",
    "from aif360.algorithms.preprocessing import Reweighing\n",
    "from aif360.algorithms.inprocessing import AdversarialDebiasing, PrejudiceRemover, GerryFairClassifier\n",
    "from aif360.sklearn.inprocessing import AdversarialDebiasing as SKLearnAdversarialDebiasing\n",
    "from aif360.algorithms.inprocessing.gerryfair.clean import array_to_tuple\n",
    "from aif360.algorithms.inprocessing.gerryfair.auditor import Auditor\n",
    "from aif360.algorithms.postprocessing import CalibratedEqOddsPostprocessing, RejectOptionClassification\n",
    "from aif360.sklearn.utils import check_inputs, check_groups"
   ]
  },
  {
   "cell_type": "code",
   "execution_count": 3,
   "metadata": {},
   "outputs": [],
   "source": [
    "# TensorFlow\n",
    "import tensorflow\n",
    "import tensorflow.compat.v1 as tf\n",
    "tf.compat.v1.disable_eager_execution()"
   ]
  },
  {
   "cell_type": "code",
   "execution_count": 4,
   "metadata": {},
   "outputs": [],
   "source": [
    "import sklearn\n",
    "# scalers\n",
    "from sklearn.preprocessing import StandardScaler, MinMaxScaler, MaxAbsScaler, OneHotEncoder\n",
    "from sklearn.compose import make_column_transformer\n",
    "# classifiers\n",
    "from sklearn.linear_model import LogisticRegression\n",
    "from sklearn.ensemble import RandomForestClassifier\n",
    "from sklearn import svm, tree, linear_model\n",
    "# metrics\n",
    "from sklearn.metrics import accuracy_score, roc_curve, classification_report, confusion_matrix\n",
    "# kernels\n",
    "from sklearn.kernel_ridge import KernelRidge\n",
    "\n",
    "from sklearn.decomposition import PCA, FactorAnalysis\n",
    "from sklearn.datasets import make_blobs\n",
    "from sklearn.pipeline import make_pipeline\n",
    "from sklearn.model_selection import train_test_split, GridSearchCV, RepeatedStratifiedKFold\n",
    "from sklearn.inspection import permutation_importance"
   ]
  },
  {
   "cell_type": "markdown",
   "metadata": {},
   "source": [
    "Helper Functions"
   ]
  },
  {
   "cell_type": "code",
   "execution_count": 5,
   "metadata": {},
   "outputs": [],
   "source": [
    "FILES = '/Users/megantennies/FYP/saved data'"
   ]
  },
  {
   "cell_type": "code",
   "execution_count": 6,
   "metadata": {},
   "outputs": [],
   "source": [
    "def save_to_json(filename, data):\n",
    "    with open(os.path.join(FILES, filename), 'w') as write:\n",
    "        json.dump(data, write)"
   ]
  },
  {
   "cell_type": "code",
   "execution_count": 7,
   "metadata": {},
   "outputs": [],
   "source": [
    "def json_to_df(filename):\n",
    "    with open(filename, 'r') as load:\n",
    "        data = json.load(load)\n",
    "    df = pd.DataFrame(data)\n",
    "    return df"
   ]
  },
  {
   "cell_type": "code",
   "execution_count": 8,
   "metadata": {},
   "outputs": [],
   "source": [
    "def df_to_json(filename, df):\n",
    "    df.to_json(os.path.join(FILES, filename), orient = 'split', \n",
    "    compression = 'infer', index = True)"
   ]
  },
  {
   "cell_type": "code",
   "execution_count": 9,
   "metadata": {},
   "outputs": [],
   "source": [
    "def plot_metric_graphs(metric_name, filename):\n",
    "    pass"
   ]
  },
  {
   "cell_type": "markdown",
   "metadata": {},
   "source": [
    "Data"
   ]
  },
  {
   "cell_type": "code",
   "execution_count": 10,
   "metadata": {},
   "outputs": [],
   "source": [
    "privileged_groups = [{'race': 1}]\n",
    "unprivileged_groups = [{'race': 0}]\n",
    "original_dataset = load_preproc_data_compas(['race'])"
   ]
  },
  {
   "cell_type": "code",
   "execution_count": 11,
   "metadata": {},
   "outputs": [],
   "source": [
    "default_mappings = {'label_maps': [{1.0: 'Recid', 0.0: 'Non-Recid'}], \n",
    "    'protected_attribute_maps': [{1.0: 'Male', 0.0: 'Female'}, \n",
    "    {1.0: 'White', 0.0: 'Non-White'}]}\n",
    "metrics = ['Statistical parity difference', 'Average odds difference', \n",
    "    'Equal opportunity difference']"
   ]
  },
  {
   "cell_type": "code",
   "execution_count": 12,
   "metadata": {},
   "outputs": [],
   "source": [
    "original_train, original_val_test = original_dataset.split([0.7], shuffle = True)\n",
    "original_val, original_test = original_val_test.split([0.5], shuffle = True)"
   ]
  },
  {
   "cell_type": "code",
   "execution_count": 13,
   "metadata": {},
   "outputs": [],
   "source": [
    "def describe(train = None, val = None, test = None):\n",
    "    if train is not None:\n",
    "        display(Markdown('#### Training dataset shape'))\n",
    "        print(train.features.shape)\n",
    "    if val is not None:\n",
    "        display(Markdown('#### Validation dataset shape'))\n",
    "        print(val.features.shape)\n",
    "    display(Markdown('#### Test dataset shape'))\n",
    "    print(test.features.shape)\n",
    "    display(Markdown('#### Favorable and unfavorable labels'))\n",
    "    print(test.favorable_label, test.unfavorable_label)\n",
    "    display(Markdown('#### Protected attribute names'))\n",
    "    print(test.protected_attribute_names)\n",
    "    display(Markdown('#### Privileged and unprivileged protected attribute values'))\n",
    "    print(test.privileged_protected_attributes, test.unprivileged_protected_attributes)\n",
    "    display(Markdown(\"#### Dataset feature names\"))\n",
    "    print(train.feature_names)"
   ]
  },
  {
   "cell_type": "code",
   "execution_count": 14,
   "metadata": {},
   "outputs": [
    {
     "data": {
      "text/markdown": [
       "#### Training dataset shape"
      ],
      "text/plain": [
       "<IPython.core.display.Markdown object>"
      ]
     },
     "metadata": {},
     "output_type": "display_data"
    },
    {
     "name": "stdout",
     "output_type": "stream",
     "text": [
      "(3694, 10)\n"
     ]
    },
    {
     "data": {
      "text/markdown": [
       "#### Validation dataset shape"
      ],
      "text/plain": [
       "<IPython.core.display.Markdown object>"
      ]
     },
     "metadata": {},
     "output_type": "display_data"
    },
    {
     "name": "stdout",
     "output_type": "stream",
     "text": [
      "(792, 10)\n"
     ]
    },
    {
     "data": {
      "text/markdown": [
       "#### Test dataset shape"
      ],
      "text/plain": [
       "<IPython.core.display.Markdown object>"
      ]
     },
     "metadata": {},
     "output_type": "display_data"
    },
    {
     "name": "stdout",
     "output_type": "stream",
     "text": [
      "(792, 10)\n"
     ]
    },
    {
     "data": {
      "text/markdown": [
       "#### Favorable and unfavorable labels"
      ],
      "text/plain": [
       "<IPython.core.display.Markdown object>"
      ]
     },
     "metadata": {},
     "output_type": "display_data"
    },
    {
     "name": "stdout",
     "output_type": "stream",
     "text": [
      "0.0 1.0\n"
     ]
    },
    {
     "data": {
      "text/markdown": [
       "#### Protected attribute names"
      ],
      "text/plain": [
       "<IPython.core.display.Markdown object>"
      ]
     },
     "metadata": {},
     "output_type": "display_data"
    },
    {
     "name": "stdout",
     "output_type": "stream",
     "text": [
      "['race']\n"
     ]
    },
    {
     "data": {
      "text/markdown": [
       "#### Privileged and unprivileged protected attribute values"
      ],
      "text/plain": [
       "<IPython.core.display.Markdown object>"
      ]
     },
     "metadata": {},
     "output_type": "display_data"
    },
    {
     "name": "stdout",
     "output_type": "stream",
     "text": [
      "[array([1.])] [array([0.])]\n"
     ]
    },
    {
     "data": {
      "text/markdown": [
       "#### Dataset feature names"
      ],
      "text/plain": [
       "<IPython.core.display.Markdown object>"
      ]
     },
     "metadata": {},
     "output_type": "display_data"
    },
    {
     "name": "stdout",
     "output_type": "stream",
     "text": [
      "['sex', 'race', 'age_cat=25 to 45', 'age_cat=Greater than 45', 'age_cat=Less than 25', 'priors_count=0', 'priors_count=1 to 3', 'priors_count=More than 3', 'c_charge_degree=F', 'c_charge_degree=M']\n"
     ]
    }
   ],
   "source": [
    "describe(original_train, original_val, original_test)"
   ]
  },
  {
   "cell_type": "code",
   "execution_count": 15,
   "metadata": {},
   "outputs": [],
   "source": [
    "original_metric = BinaryLabelDatasetMetric(original_train, \n",
    "    unprivileged_groups = unprivileged_groups, \n",
    "    privileged_groups = privileged_groups)"
   ]
  },
  {
   "cell_type": "code",
   "execution_count": 16,
   "metadata": {},
   "outputs": [
    {
     "data": {
      "text/markdown": [
       "#### Original COMPAS training data"
      ],
      "text/plain": [
       "<IPython.core.display.Markdown object>"
      ]
     },
     "metadata": {},
     "output_type": "display_data"
    },
    {
     "name": "stdout",
     "output_type": "stream",
     "text": [
      "Training data: Difference in mean outcomes between unprivileged and privileged groups = -0.121970\n",
      "Validation data: Difference in mean outcomes between unprivileged and privileged groups = -0.131346\n",
      "Testing data: Difference in mean outcomes between unprivileged and privileged groups = -0.180519\n"
     ]
    }
   ],
   "source": [
    "original_explainer = MetricTextExplainer(original_metric)\n",
    "display(Markdown('#### Original COMPAS training data'))\n",
    "\n",
    "original_train_metric = BinaryLabelDatasetMetric(original_train, \n",
    "    unprivileged_groups = unprivileged_groups, privileged_groups = privileged_groups)\n",
    "print('Training data: Difference in mean outcomes between unprivileged and privileged groups = %f' % original_train_metric.mean_difference())\n",
    "\n",
    "original_val_metric = BinaryLabelDatasetMetric(original_val, \n",
    "    unprivileged_groups = unprivileged_groups, privileged_groups = privileged_groups)\n",
    "print('Validation data: Difference in mean outcomes between unprivileged and privileged groups = %f' % original_val_metric.mean_difference())\n",
    "\n",
    "original_test_metric = BinaryLabelDatasetMetric(original_test, \n",
    "    unprivileged_groups = unprivileged_groups, privileged_groups = privileged_groups)\n",
    "print('Testing data: Difference in mean outcomes between unprivileged and privileged groups = %f' % original_test_metric.mean_difference())"
   ]
  },
  {
   "cell_type": "markdown",
   "metadata": {},
   "source": [
    "LR"
   ]
  },
  {
   "cell_type": "code",
   "execution_count": 17,
   "metadata": {},
   "outputs": [],
   "source": [
    "original_scaler = StandardScaler()\n",
    "X_train = original_scaler.fit_transform(original_train.features)\n",
    "y_train = original_train.labels.ravel()\n",
    "w_train = original_train.instance_weights.ravel()"
   ]
  },
  {
   "cell_type": "code",
   "execution_count": 18,
   "metadata": {},
   "outputs": [],
   "source": [
    "lr = LogisticRegression()\n",
    "lr.fit(X_train, y_train, sample_weight = original_train.instance_weights)\n",
    "y_train_preds = lr.predict(X_train)"
   ]
  },
  {
   "cell_type": "code",
   "execution_count": 19,
   "metadata": {},
   "outputs": [],
   "source": [
    "pos_ind = np.where(lr.classes_ == original_train.favorable_label)[0][0]"
   ]
  },
  {
   "cell_type": "code",
   "execution_count": 20,
   "metadata": {},
   "outputs": [],
   "source": [
    "original_train_preds = original_train.copy()\n",
    "original_train_preds.labels = y_train_preds\n",
    "\n",
    "original_val_preds = original_val.copy(deepcopy = True)\n",
    "X_val = original_scaler.transform(original_val_preds.features)\n",
    "y_val = original_val_preds.labels\n",
    "original_val_preds.scores = lr.predict_proba(X_val)[:, pos_ind].reshape(-1, 1)\n",
    "\n",
    "original_test_preds = original_test.copy(deepcopy = True)\n",
    "X_test = original_scaler.transform(original_test_preds.features)\n",
    "y_test = original_test_preds.labels\n",
    "original_test_preds.scores = lr.predict_proba(X_test)[:, pos_ind].reshape(-1, 1)"
   ]
  },
  {
   "cell_type": "code",
   "execution_count": 21,
   "metadata": {},
   "outputs": [],
   "source": [
    "num_thresh = 100\n",
    "bal_arr = np.zeros(num_thresh)\n",
    "class_thresh_arr = np.linspace(0.01, 0.99, num_thresh)\n",
    "\n",
    "for idx, class_thresh in enumerate(class_thresh_arr):\n",
    "    fav_inds = original_val_preds.scores > class_thresh\n",
    "    original_val_preds.labels[fav_inds] = original_val_preds.favorable_label\n",
    "    original_val_preds.labels[~fav_inds] = original_val_preds.unfavorable_label\n",
    "\n",
    "    original_val_metric = ClassificationMetric(original_val, \n",
    "        original_val_preds, unprivileged_groups = unprivileged_groups, \n",
    "        privileged_groups = privileged_groups)\n",
    "\n",
    "    bal_arr[idx] = 0.5 * (original_val_metric.true_positive_rate() \n",
    "        + original_val_metric.true_negative_rate())"
   ]
  },
  {
   "cell_type": "code",
   "execution_count": 22,
   "metadata": {},
   "outputs": [
    {
     "data": {
      "text/markdown": [
       "#### Original COMPAS data"
      ],
      "text/plain": [
       "<IPython.core.display.Markdown object>"
      ]
     },
     "metadata": {},
     "output_type": "display_data"
    },
    {
     "name": "stdout",
     "output_type": "stream",
     "text": [
      "Best balanced accuracy (no transforming): 0.6720\n",
      "Optimal classification threshold (no transforming): 0.5049\n"
     ]
    }
   ],
   "source": [
    "best_ind = np.where(bal_arr == np.max(bal_arr))[0][0]\n",
    "best_class_thresh = class_thresh_arr[best_ind]\n",
    "\n",
    "display(Markdown('#### Original COMPAS data'))\n",
    "print('Best balanced accuracy (no transforming): %.4f' % np.max(bal_arr))\n",
    "print('Optimal classification threshold (no transforming): %.4f' % best_class_thresh)"
   ]
  },
  {
   "cell_type": "code",
   "execution_count": 34,
   "metadata": {},
   "outputs": [],
   "source": [
    "bal_acc_arr = []\n",
    "disp_imp_arr = []\n",
    "avg_odds_diff_arr = []\n",
    "eq_opp_diff_arr = []\n",
    "outcome_unfair_arr = []\n",
    "acc_equal_arr = []"
   ]
  },
  {
   "cell_type": "code",
   "execution_count": 35,
   "metadata": {},
   "outputs": [
    {
     "data": {
      "text/markdown": [
       "#### Predictions from the original testing data"
      ],
      "text/plain": [
       "<IPython.core.display.Markdown object>"
      ]
     },
     "metadata": {},
     "output_type": "display_data"
    },
    {
     "name": "stderr",
     "output_type": "stream",
     "text": [
      " 69%|██████▉   | 69/100 [00:00<00:00, 315.73it/s]"
     ]
    },
    {
     "name": "stdout",
     "output_type": "stream",
     "text": [
      "Classification threshold used: 0.4258\n",
      "Balanced accuracy = 0.6605\n",
      "Statistical parity difference = -0.2801\n",
      "Disparate impact = 0.6556\n",
      "Average odds difference = -0.2425\n",
      "Equal opportunity difference = -0.2173\n",
      "Theil index = 0.1652\n"
     ]
    },
    {
     "name": "stderr",
     "output_type": "stream",
     "text": [
      "invalid value encountered in double_scalars\n",
      "100%|██████████| 100/100 [00:00<00:00, 361.95it/s]\n"
     ]
    }
   ],
   "source": [
    "display(Markdown('#### Predictions from the original testing data'))\n",
    "print('Classification threshold used: %.4f' % best_class_thresh)\n",
    "\n",
    "for thresh in tqdm(class_thresh_arr):\n",
    "    if thresh == best_class_thresh:\n",
    "        disp = True\n",
    "    else:\n",
    "        disp = False\n",
    "    fav_inds = original_test_preds.scores > thresh\n",
    "    original_test_preds.labels[fav_inds] = original_test_preds.favorable_label\n",
    "    original_test_preds.labels[~fav_inds] = original_test_preds.unfavorable_label\n",
    "    \n",
    "    metric_test = compute_metrics(original_test, original_test_preds, \\\n",
    "        unprivileged_groups, privileged_groups, disp = disp)\n",
    "    class_metric_test = ClassificationMetric(original_test, original_test_preds, \\\n",
    "        unprivileged_groups, privileged_groups)\n",
    "    \n",
    "    bal_acc_arr.append(metric_test['Balanced accuracy'])\n",
    "    avg_odds_diff_arr.append(metric_test['Average odds difference'])\n",
    "    disp_imp_arr.append(metric_test['Disparate impact'])\n",
    "    eq_opp_diff_arr.append(metric_test['Equal opportunity difference'])\n",
    "    outcome_unfair_arr.append(class_metric_test.false_discovery_rate_difference() \\\n",
    "        + class_metric_test.false_positive_rate_difference())\n",
    "    acc_equal_arr.append((class_metric_test.true_positive_rate(privileged = False) + \\\n",
    "        class_metric_test.true_negative_rate(privileged = False)) - \\\n",
    "            (class_metric_test.true_positive_rate(privileged = True) + \\\n",
    "                class_metric_test.true_negative_rate(privileged = True)))"
   ]
  },
  {
   "cell_type": "code",
   "execution_count": 39,
   "metadata": {},
   "outputs": [],
   "source": [
    "LR_bal_acc = np.interp(best_class_thresh, class_thresh_arr, bal_acc_arr)\n",
    "LR_acc_equal = np.interp(best_class_thresh, class_thresh_arr, acc_equal_arr)\n",
    "LR_disp_imp = np.interp(best_class_thresh, class_thresh_arr, disp_imp_arr)\n",
    "LR_out_unf = np.interp(best_class_thresh, class_thresh_arr, outcome_unfair_arr)\n",
    "LR_avg_odds = np.interp(best_class_thresh, class_thresh_arr, avg_odds_diff_arr)\n",
    "LR_eq_odds = np.interp(best_class_thresh, class_thresh_arr, eq_opp_diff_arr)"
   ]
  },
  {
   "cell_type": "code",
   "execution_count": 40,
   "metadata": {},
   "outputs": [
    {
     "data": {
      "text/html": [
       "<div>\n",
       "<style scoped>\n",
       "    .dataframe tbody tr th:only-of-type {\n",
       "        vertical-align: middle;\n",
       "    }\n",
       "\n",
       "    .dataframe tbody tr th {\n",
       "        vertical-align: top;\n",
       "    }\n",
       "\n",
       "    .dataframe thead th {\n",
       "        text-align: right;\n",
       "    }\n",
       "</style>\n",
       "<table border=\"1\" class=\"dataframe\">\n",
       "  <thead>\n",
       "    <tr style=\"text-align: right;\">\n",
       "      <th></th>\n",
       "      <th>Metric</th>\n",
       "      <th>Logistic Regression</th>\n",
       "    </tr>\n",
       "  </thead>\n",
       "  <tbody>\n",
       "    <tr>\n",
       "      <th>0</th>\n",
       "      <td>Balanced Accuracy</td>\n",
       "      <td>0.660480</td>\n",
       "    </tr>\n",
       "    <tr>\n",
       "      <th>1</th>\n",
       "      <td>Accuracy Equality</td>\n",
       "      <td>0.050261</td>\n",
       "    </tr>\n",
       "    <tr>\n",
       "      <th>2</th>\n",
       "      <td>Disparate Impact</td>\n",
       "      <td>0.655639</td>\n",
       "    </tr>\n",
       "    <tr>\n",
       "      <th>3</th>\n",
       "      <td>Outcome Unfairess</td>\n",
       "      <td>-0.196279</td>\n",
       "    </tr>\n",
       "    <tr>\n",
       "      <th>4</th>\n",
       "      <td>Average Odds Difference</td>\n",
       "      <td>-0.242456</td>\n",
       "    </tr>\n",
       "    <tr>\n",
       "      <th>5</th>\n",
       "      <td>Equal Opportunity Difference</td>\n",
       "      <td>-0.217325</td>\n",
       "    </tr>\n",
       "  </tbody>\n",
       "</table>\n",
       "</div>"
      ],
      "text/plain": [
       "                         Metric  Logistic Regression\n",
       "0             Balanced Accuracy             0.660480\n",
       "1             Accuracy Equality             0.050261\n",
       "2              Disparate Impact             0.655639\n",
       "3             Outcome Unfairess            -0.196279\n",
       "4       Average Odds Difference            -0.242456\n",
       "5  Equal Opportunity Difference            -0.217325"
      ]
     },
     "execution_count": 40,
     "metadata": {},
     "output_type": "execute_result"
    }
   ],
   "source": [
    "LR_results = {'Metric': ['Balanced Accuracy', 'Accuracy Equality', 'Disparate Impact', 'Outcome Unfairess', 'Average Odds Difference', 'Equal Opportunity Difference'],\n",
    "    'Logistic Regression': [LR_bal_acc, LR_acc_equal, LR_disp_imp, LR_out_unf, LR_avg_odds, LR_eq_odds]}\n",
    "LR_results_df = pd.DataFrame(LR_results)\n",
    "LR_results_df"
   ]
  },
  {
   "cell_type": "code",
   "execution_count": 46,
   "metadata": {},
   "outputs": [],
   "source": [
    "df_to_json(filename = 'LR_results.json', df = LR_results_df)"
   ]
  },
  {
   "cell_type": "markdown",
   "metadata": {},
   "source": [
    "CEOD"
   ]
  },
  {
   "cell_type": "code",
   "execution_count": 29,
   "metadata": {},
   "outputs": [],
   "source": [
    "def get_cost_constraint(constraints, dataset):\n",
    "    validation_constraints = {'Cost Constraint': [], 'Difference in GFPR': [], 'Difference in GFNR': []}\n",
    "    testing_constraints = {'Cost Constraint': [], 'Difference in GFPR': [], 'Difference in GFNR': []}\n",
    "    if dataset == 'Validation':\n",
    "        for constraint in constraints:\n",
    "            ceo = CalibratedEqOddsPostprocessing(privileged_groups = privileged_groups, unprivileged_groups = unprivileged_groups, \n",
    "            cost_constraint = constraint, seed = 12345679)\n",
    "            ceo.fit(original_val, original_val_preds)\n",
    "            transf_val_preds = ceo.predict(original_val_preds)\n",
    "            post_val_metric = ClassificationMetric(original_val_preds, transf_val_preds, unprivileged_groups = unprivileged_groups, \n",
    "                privileged_groups = privileged_groups)\n",
    "            validation_constraints['Cost Constraint'].append(constraint)\n",
    "            validation_constraints['Difference in GFPR'].append(post_val_metric.difference(post_val_metric.generalized_false_positive_rate))\n",
    "            validation_constraints['Difference in GFNR'].append(post_val_metric.difference(post_val_metric.generalized_false_negative_rate))\n",
    "        return pd.DataFrame(validation_constraints)\n",
    "    elif dataset == 'Testing':\n",
    "        for constraint in constraints:\n",
    "            ceo = CalibratedEqOddsPostprocessing(privileged_groups = privileged_groups, unprivileged_groups = unprivileged_groups, \n",
    "            cost_constraint = constraint, seed = 12345679)\n",
    "            ceo.fit(original_test, original_test_preds)\n",
    "            transf_test_preds = ceo.predict(original_test_preds)\n",
    "            post_test_metric = ClassificationMetric(original_test_preds, transf_test_preds, unprivileged_groups = unprivileged_groups, \n",
    "                privileged_groups = privileged_groups)\n",
    "            testing_constraints['Cost Constraint'].append(constraint)\n",
    "            testing_constraints['Difference in GFPR'].append(post_test_metric.difference(post_test_metric.generalized_false_positive_rate))\n",
    "            testing_constraints['Difference in GFNR'].append(post_test_metric.difference(post_test_metric.generalized_false_negative_rate))       \n",
    "        return pd.DataFrame(testing_constraints)"
   ]
  },
  {
   "cell_type": "code",
   "execution_count": 30,
   "metadata": {},
   "outputs": [
    {
     "name": "stderr",
     "output_type": "stream",
     "text": [
      "invalid value encountered in double_scalars\n",
      "invalid value encountered in double_scalars\n"
     ]
    },
    {
     "data": {
      "text/html": [
       "<div>\n",
       "<style scoped>\n",
       "    .dataframe tbody tr th:only-of-type {\n",
       "        vertical-align: middle;\n",
       "    }\n",
       "\n",
       "    .dataframe tbody tr th {\n",
       "        vertical-align: top;\n",
       "    }\n",
       "\n",
       "    .dataframe thead th {\n",
       "        text-align: right;\n",
       "    }\n",
       "</style>\n",
       "<table border=\"1\" class=\"dataframe\">\n",
       "  <thead>\n",
       "    <tr style=\"text-align: right;\">\n",
       "      <th></th>\n",
       "      <th>Cost Constraint</th>\n",
       "      <th>Difference in GFPR</th>\n",
       "      <th>Difference in GFNR</th>\n",
       "    </tr>\n",
       "  </thead>\n",
       "  <tbody>\n",
       "    <tr>\n",
       "      <th>0</th>\n",
       "      <td>fpr</td>\n",
       "      <td>-0.148025</td>\n",
       "      <td>NaN</td>\n",
       "    </tr>\n",
       "    <tr>\n",
       "      <th>1</th>\n",
       "      <td>fnr</td>\n",
       "      <td>-0.113512</td>\n",
       "      <td>NaN</td>\n",
       "    </tr>\n",
       "    <tr>\n",
       "      <th>2</th>\n",
       "      <td>weighted</td>\n",
       "      <td>-0.127954</td>\n",
       "      <td>NaN</td>\n",
       "    </tr>\n",
       "  </tbody>\n",
       "</table>\n",
       "</div>"
      ],
      "text/plain": [
       "  Cost Constraint  Difference in GFPR  Difference in GFNR\n",
       "0             fpr           -0.148025                 NaN\n",
       "1             fnr           -0.113512                 NaN\n",
       "2        weighted           -0.127954                 NaN"
      ]
     },
     "execution_count": 30,
     "metadata": {},
     "output_type": "execute_result"
    }
   ],
   "source": [
    "constraints = ['fpr', 'fnr', 'weighted']\n",
    "get_cost_constraint(constraints = constraints, dataset = 'Validation')"
   ]
  },
  {
   "cell_type": "code",
   "execution_count": 28,
   "metadata": {},
   "outputs": [
    {
     "data": {
      "text/html": [
       "<div>\n",
       "<style scoped>\n",
       "    .dataframe tbody tr th:only-of-type {\n",
       "        vertical-align: middle;\n",
       "    }\n",
       "\n",
       "    .dataframe tbody tr th {\n",
       "        vertical-align: top;\n",
       "    }\n",
       "\n",
       "    .dataframe thead th {\n",
       "        text-align: right;\n",
       "    }\n",
       "</style>\n",
       "<table border=\"1\" class=\"dataframe\">\n",
       "  <thead>\n",
       "    <tr style=\"text-align: right;\">\n",
       "      <th></th>\n",
       "      <th>Cost Constraint</th>\n",
       "      <th>Difference in GFPR</th>\n",
       "      <th>Difference in GFNR</th>\n",
       "    </tr>\n",
       "  </thead>\n",
       "  <tbody>\n",
       "    <tr>\n",
       "      <th>0</th>\n",
       "      <td>fpr</td>\n",
       "      <td>-0.070120</td>\n",
       "      <td>0.194528</td>\n",
       "    </tr>\n",
       "    <tr>\n",
       "      <th>1</th>\n",
       "      <td>fnr</td>\n",
       "      <td>-0.214103</td>\n",
       "      <td>0.083026</td>\n",
       "    </tr>\n",
       "    <tr>\n",
       "      <th>2</th>\n",
       "      <td>weighted</td>\n",
       "      <td>-0.143638</td>\n",
       "      <td>0.094765</td>\n",
       "    </tr>\n",
       "  </tbody>\n",
       "</table>\n",
       "</div>"
      ],
      "text/plain": [
       "  Cost Constraint  Difference in GFPR  Difference in GFNR\n",
       "0             fpr           -0.070120            0.194528\n",
       "1             fnr           -0.214103            0.083026\n",
       "2        weighted           -0.143638            0.094765"
      ]
     },
     "execution_count": 28,
     "metadata": {},
     "output_type": "execute_result"
    }
   ],
   "source": [
    "get_cost_constraint(constraints = constraints, dataset = 'Testing')"
   ]
  },
  {
   "cell_type": "code",
   "execution_count": 32,
   "metadata": {},
   "outputs": [
    {
     "data": {
      "text/plain": [
       "<aif360.algorithms.postprocessing.calibrated_eq_odds_postprocessing.CalibratedEqOddsPostprocessing at 0x7fd05cb7f710>"
      ]
     },
     "execution_count": 32,
     "metadata": {},
     "output_type": "execute_result"
    }
   ],
   "source": [
    "ceo = CalibratedEqOddsPostprocessing(privileged_groups = privileged_groups, \n",
    "    unprivileged_groups = unprivileged_groups, cost_constraint = 'weighted')\n",
    "ceo.fit(original_train, original_train)"
   ]
  },
  {
   "cell_type": "code",
   "execution_count": 36,
   "metadata": {},
   "outputs": [],
   "source": [
    "transf_val_preds = ceo.predict(original_val_preds)\n",
    "transf_test_preds = ceo.predict(original_test_preds)"
   ]
  },
  {
   "cell_type": "code",
   "execution_count": 37,
   "metadata": {},
   "outputs": [],
   "source": [
    "transf_val_metric = ClassificationMetric(original_val_preds, transf_val_preds, unprivileged_groups = unprivileged_groups, \n",
    "    privileged_groups = privileged_groups)\n",
    "transf_test_metric = ClassificationMetric(original_test_preds, transf_test_preds, unprivileged_groups = unprivileged_groups, \n",
    "    privileged_groups = privileged_groups)"
   ]
  },
  {
   "cell_type": "code",
   "execution_count": 40,
   "metadata": {},
   "outputs": [],
   "source": [
    "pre_transf_val_metric = ClassificationMetric(original_val, original_val_preds, unprivileged_groups = unprivileged_groups, \n",
    "    privileged_groups = privileged_groups)\n",
    "pre_transf_test_metric = ClassificationMetric(original_test, original_test_preds, unprivileged_groups = unprivileged_groups, \n",
    "    privileged_groups = privileged_groups)"
   ]
  },
  {
   "cell_type": "code",
   "execution_count": 43,
   "metadata": {},
   "outputs": [],
   "source": [
    "# assert np.abs(transf_val_metric.difference(transf_val_metric.generalized_false_negative_rate)) \\\n",
    "#     < np.abs(pre_transf_val_metric.difference(pre_transf_val_metric.generalized_false_negative_rate)) "
   ]
  },
  {
   "cell_type": "code",
   "execution_count": 44,
   "metadata": {},
   "outputs": [],
   "source": [
    "# assert np.abs(transf_test_metric.difference(transf_test_metric.generalized_false_negative_rate)) \\\n",
    "#     < np.abs(pre_transf_test_metric.difference(pre_transf_test_metric.generalized_false_negative_rate)) "
   ]
  },
  {
   "cell_type": "code",
   "execution_count": 45,
   "metadata": {},
   "outputs": [],
   "source": [
    "CEOD_bal_acc_arr = []\n",
    "CEOD_disp_imp_arr = []\n",
    "CEOD_avg_odds_diff_arr = []\n",
    "CEOD_eq_opp_diff_arr = []\n",
    "CEOD_outcome_unfair_arr = []\n",
    "CEOD_acc_equal_arr = []"
   ]
  },
  {
   "cell_type": "code",
   "execution_count": 46,
   "metadata": {},
   "outputs": [
    {
     "data": {
      "text/markdown": [
       "#### Predictions from the original testing data"
      ],
      "text/plain": [
       "<IPython.core.display.Markdown object>"
      ]
     },
     "metadata": {},
     "output_type": "display_data"
    },
    {
     "name": "stderr",
     "output_type": "stream",
     "text": [
      " 32%|███▏      | 32/100 [00:00<00:00, 317.60it/s]"
     ]
    },
    {
     "name": "stdout",
     "output_type": "stream",
     "text": [
      "Classification threshold used: 0.5049\n",
      "Balanced accuracy = 0.6743\n",
      "Statistical parity difference = -0.3044\n",
      "Disparate impact = 0.5916\n",
      "Average odds difference = -0.2526\n",
      "Equal opportunity difference = -0.2303\n",
      "Theil index = 0.2091\n"
     ]
    },
    {
     "name": "stderr",
     "output_type": "stream",
     "text": [
      " 72%|███████▏  | 72/100 [00:00<00:00, 337.15it/s]invalid value encountered in double_scalars\n",
      "100%|██████████| 100/100 [00:00<00:00, 282.68it/s]\n"
     ]
    }
   ],
   "source": [
    "display(Markdown('#### Predictions from the original testing data'))\n",
    "print('Classification threshold used: %.4f' % best_class_thresh)\n",
    "\n",
    "for thresh in tqdm(class_thresh_arr):\n",
    "    if thresh == best_class_thresh:\n",
    "        disp = True\n",
    "    else:\n",
    "        disp = False\n",
    "\n",
    "    fav_inds = transf_test_preds.scores > thresh\n",
    "    transf_test_preds.labels[fav_inds] = transf_test_preds.favorable_label\n",
    "    transf_test_preds.labels[~fav_inds] = transf_test_preds.unfavorable_label\n",
    "    \n",
    "    ceod_metric_test = compute_metrics(original_test, transf_test_preds, \\\n",
    "        unprivileged_groups, privileged_groups, disp = disp)\n",
    "    ceod_class_metric_test = ClassificationMetric(original_test, transf_test_preds, \\\n",
    "        unprivileged_groups, privileged_groups)\n",
    "    \n",
    "    CEOD_bal_acc_arr.append(ceod_metric_test['Balanced accuracy'])\n",
    "    CEOD_avg_odds_diff_arr.append(ceod_metric_test['Average odds difference'])\n",
    "    CEOD_disp_imp_arr.append(ceod_metric_test['Disparate impact'])\n",
    "    CEOD_eq_opp_diff_arr.append(ceod_metric_test['Equal opportunity difference'])\n",
    "    CEOD_outcome_unfair_arr.append(ceod_class_metric_test.false_discovery_rate_difference() \\\n",
    "        + ceod_class_metric_test.false_positive_rate_difference())\n",
    "    CEOD_acc_equal_arr.append((ceod_class_metric_test.true_positive_rate(privileged = False) + \\\n",
    "        ceod_class_metric_test.true_negative_rate(privileged = False)) - \\\n",
    "            (ceod_class_metric_test.true_positive_rate(privileged = True) + \\\n",
    "                ceod_class_metric_test.true_negative_rate(privileged = True)))"
   ]
  },
  {
   "cell_type": "code",
   "execution_count": 50,
   "metadata": {},
   "outputs": [],
   "source": [
    "save_to_json(filename = 'CEOD_bal_acc_arr.json', data = CEOD_bal_acc_arr)\n",
    "save_to_json(filename = 'CEOD_disp_imp_arr.json', data = CEOD_disp_imp_arr)\n",
    "save_to_json(filename = 'CEOD_avg_odds_diff_arr.json', data = CEOD_avg_odds_diff_arr)\n",
    "save_to_json(filename = 'CEOD_eq_opp_diff_arr.json', data = CEOD_eq_opp_diff_arr)\n",
    "save_to_json(filename = 'CEOD_outcome_unfair_arr.json', data = CEOD_outcome_unfair_arr)\n",
    "save_to_json(filename = 'CEOD_acc_equal_arr.json', data = CEOD_acc_equal_arr)"
   ]
  },
  {
   "cell_type": "code",
   "execution_count": 47,
   "metadata": {},
   "outputs": [],
   "source": [
    "CEOD_bal_acc = np.interp(best_class_thresh, class_thresh_arr, CEOD_bal_acc_arr)\n",
    "CEOD_acc_equal = np.interp(best_class_thresh, class_thresh_arr, CEOD_acc_equal_arr)\n",
    "CEOD_disp_imp = np.interp(best_class_thresh, class_thresh_arr, CEOD_disp_imp_arr)\n",
    "CEOD_out_unf = np.interp(best_class_thresh, class_thresh_arr, CEOD_outcome_unfair_arr)\n",
    "CEOD_avg_odds = np.interp(best_class_thresh, class_thresh_arr, CEOD_avg_odds_diff_arr)\n",
    "CEOD_eq_odds = np.interp(best_class_thresh, class_thresh_arr, CEOD_eq_opp_diff_arr)"
   ]
  },
  {
   "cell_type": "code",
   "execution_count": 48,
   "metadata": {},
   "outputs": [
    {
     "data": {
      "text/html": [
       "<div>\n",
       "<style scoped>\n",
       "    .dataframe tbody tr th:only-of-type {\n",
       "        vertical-align: middle;\n",
       "    }\n",
       "\n",
       "    .dataframe tbody tr th {\n",
       "        vertical-align: top;\n",
       "    }\n",
       "\n",
       "    .dataframe thead th {\n",
       "        text-align: right;\n",
       "    }\n",
       "</style>\n",
       "<table border=\"1\" class=\"dataframe\">\n",
       "  <thead>\n",
       "    <tr style=\"text-align: right;\">\n",
       "      <th></th>\n",
       "      <th>Metric</th>\n",
       "      <th>Calibrated Equal Odds</th>\n",
       "    </tr>\n",
       "  </thead>\n",
       "  <tbody>\n",
       "    <tr>\n",
       "      <th>0</th>\n",
       "      <td>Balanced Accuracy</td>\n",
       "      <td>0.674342</td>\n",
       "    </tr>\n",
       "    <tr>\n",
       "      <th>1</th>\n",
       "      <td>Accuracy Equality</td>\n",
       "      <td>0.044767</td>\n",
       "    </tr>\n",
       "    <tr>\n",
       "      <th>2</th>\n",
       "      <td>Disparate Impact</td>\n",
       "      <td>0.591625</td>\n",
       "    </tr>\n",
       "    <tr>\n",
       "      <th>3</th>\n",
       "      <td>Outcome Unfairess</td>\n",
       "      <td>-0.191008</td>\n",
       "    </tr>\n",
       "    <tr>\n",
       "      <th>4</th>\n",
       "      <td>Average Odds Difference</td>\n",
       "      <td>-0.252650</td>\n",
       "    </tr>\n",
       "    <tr>\n",
       "      <th>5</th>\n",
       "      <td>Equal Opportunity Difference</td>\n",
       "      <td>-0.230266</td>\n",
       "    </tr>\n",
       "  </tbody>\n",
       "</table>\n",
       "</div>"
      ],
      "text/plain": [
       "                         Metric  Calibrated Equal Odds\n",
       "0             Balanced Accuracy               0.674342\n",
       "1             Accuracy Equality               0.044767\n",
       "2              Disparate Impact               0.591625\n",
       "3             Outcome Unfairess              -0.191008\n",
       "4       Average Odds Difference              -0.252650\n",
       "5  Equal Opportunity Difference              -0.230266"
      ]
     },
     "execution_count": 48,
     "metadata": {},
     "output_type": "execute_result"
    }
   ],
   "source": [
    "CEOD_results = {'Metric': ['Balanced Accuracy', 'Accuracy Equality', 'Disparate Impact', 'Outcome Unfairess', 'Average Odds Difference', 'Equal Opportunity Difference'],\n",
    "    'Calibrated Equal Odds': [CEOD_bal_acc, CEOD_acc_equal, CEOD_disp_imp, CEOD_out_unf, CEOD_avg_odds, CEOD_eq_odds]}\n",
    "CEOD_results_df = pd.DataFrame(CEOD_results)\n",
    "CEOD_results_df"
   ]
  },
  {
   "cell_type": "code",
   "execution_count": 49,
   "metadata": {},
   "outputs": [],
   "source": [
    "df_to_json(filename = 'CEOD_results.json', df = CEOD_results_df)"
   ]
  },
  {
   "cell_type": "code",
   "execution_count": null,
   "metadata": {},
   "outputs": [],
   "source": []
  }
 ],
 "metadata": {
  "interpreter": {
   "hash": "40d3a090f54c6569ab1632332b64b2c03c39dcf918b08424e98f38b5ae0af88f"
  },
  "kernelspec": {
   "display_name": "Python 3.7.4 ('base')",
   "language": "python",
   "name": "python3"
  },
  "language_info": {
   "codemirror_mode": {
    "name": "ipython",
    "version": 3
   },
   "file_extension": ".py",
   "mimetype": "text/x-python",
   "name": "python",
   "nbconvert_exporter": "python",
   "pygments_lexer": "ipython3",
   "version": "3.7.4"
  },
  "orig_nbformat": 4
 },
 "nbformat": 4,
 "nbformat_minor": 2
}

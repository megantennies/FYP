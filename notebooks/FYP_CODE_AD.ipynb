{
 "cells": [
  {
   "cell_type": "markdown",
   "metadata": {},
   "source": [
    "Imports"
   ]
  },
  {
   "cell_type": "code",
   "execution_count": 2,
   "metadata": {},
   "outputs": [],
   "source": [
    "# !pip install scipy==1.6.0\n",
    "# !pip install matplotlib==3.1.0"
   ]
  },
  {
   "cell_type": "code",
   "execution_count": 1,
   "metadata": {},
   "outputs": [],
   "source": [
    "import os, json, random\n",
    "random.seed(1)\n",
    "import numpy as np\n",
    "import pandas as pd\n",
    "import seaborn as sns\n",
    "from IPython.display import Markdown, display, Image\n",
    "from tqdm import tqdm\n",
    "from collections import OrderedDict\n",
    "import matplotlib.pyplot as plt\n",
    "%matplotlib inline"
   ]
  },
  {
   "cell_type": "code",
   "execution_count": 2,
   "metadata": {},
   "outputs": [],
   "source": [
    "# AIF360\n",
    "import aif360\n",
    "from aif360.datasets import CompasDataset\n",
    "from aif360.sklearn.datasets import fetch_compas\n",
    "# fairness metrics\n",
    "from aif360.metrics import BinaryLabelDatasetMetric, ClassificationMetric, DatasetMetric\n",
    "from aif360.metrics.common_utils import compute_metrics\n",
    "from aif360.metrics.utils import compute_num_instances\n",
    "# data preprocessing\n",
    "from aif360.algorithms.preprocessing.optim_preproc_helpers.data_preproc_functions import load_preproc_data_compas\n",
    "# explainers\n",
    "from aif360.explainers import MetricTextExplainer\n",
    "# bias mitigation techniques\n",
    "from aif360.algorithms.preprocessing import Reweighing\n",
    "from aif360.algorithms.inprocessing import AdversarialDebiasing, PrejudiceRemover, GerryFairClassifier\n",
    "from aif360.sklearn.inprocessing import AdversarialDebiasing as SKLearnAdversarialDebiasing\n",
    "from aif360.algorithms.inprocessing.gerryfair.clean import array_to_tuple\n",
    "from aif360.algorithms.inprocessing.gerryfair.auditor import Auditor\n",
    "from aif360.algorithms.postprocessing import CalibratedEqOddsPostprocessing, RejectOptionClassification\n",
    "from aif360.sklearn.utils import check_inputs, check_groups"
   ]
  },
  {
   "cell_type": "code",
   "execution_count": 3,
   "metadata": {},
   "outputs": [],
   "source": [
    "# TensorFlow\n",
    "import tensorflow\n",
    "import tensorflow.compat.v1 as tf\n",
    "tf.compat.v1.disable_eager_execution()"
   ]
  },
  {
   "cell_type": "code",
   "execution_count": 4,
   "metadata": {},
   "outputs": [],
   "source": [
    "import sklearn\n",
    "# scalers\n",
    "from sklearn.preprocessing import StandardScaler, MinMaxScaler, MaxAbsScaler, OneHotEncoder\n",
    "from sklearn.compose import make_column_transformer\n",
    "# classifiers\n",
    "from sklearn.linear_model import LogisticRegression\n",
    "from sklearn.ensemble import RandomForestClassifier\n",
    "from sklearn import svm, tree, linear_model\n",
    "# metrics\n",
    "from sklearn.metrics import accuracy_score, roc_curve, classification_report, confusion_matrix\n",
    "# kernels\n",
    "from sklearn.kernel_ridge import KernelRidge\n",
    "\n",
    "from sklearn.decomposition import PCA, FactorAnalysis\n",
    "from sklearn.datasets import make_blobs\n",
    "from sklearn.pipeline import make_pipeline\n",
    "from sklearn.model_selection import train_test_split, GridSearchCV, RepeatedStratifiedKFold\n",
    "from sklearn.inspection import permutation_importance"
   ]
  },
  {
   "cell_type": "markdown",
   "metadata": {},
   "source": [
    "Helper Functions"
   ]
  },
  {
   "cell_type": "code",
   "execution_count": 5,
   "metadata": {},
   "outputs": [],
   "source": [
    "FILES = '/Users/megantennies/FYP/saved data'"
   ]
  },
  {
   "cell_type": "code",
   "execution_count": 6,
   "metadata": {},
   "outputs": [],
   "source": [
    "def save_to_json(filename, data):\n",
    "    with open(os.path.join(FILES, filename), 'w') as write:\n",
    "        json.dump(data, write)"
   ]
  },
  {
   "cell_type": "code",
   "execution_count": 7,
   "metadata": {},
   "outputs": [],
   "source": [
    "def json_to_df(filename):\n",
    "    with open(filename, 'r') as load:\n",
    "        data = json.load(load)\n",
    "    df = pd.DataFrame(data)\n",
    "    return df"
   ]
  },
  {
   "cell_type": "code",
   "execution_count": 8,
   "metadata": {},
   "outputs": [],
   "source": [
    "def df_to_json(filename, df):\n",
    "    df.to_json(os.path.join(FILES, filename), orient = 'split', \n",
    "    compression = 'infer', index = True)"
   ]
  },
  {
   "cell_type": "code",
   "execution_count": 9,
   "metadata": {},
   "outputs": [],
   "source": [
    "def plot_metric_graphs(metric_name, filename):\n",
    "    pass"
   ]
  },
  {
   "cell_type": "markdown",
   "metadata": {},
   "source": [
    "Data"
   ]
  },
  {
   "cell_type": "code",
   "execution_count": 10,
   "metadata": {},
   "outputs": [],
   "source": [
    "privileged_groups = [{'race': 1}]\n",
    "unprivileged_groups = [{'race': 0}]\n",
    "original_dataset = load_preproc_data_compas(['race'])"
   ]
  },
  {
   "cell_type": "code",
   "execution_count": 11,
   "metadata": {},
   "outputs": [],
   "source": [
    "default_mappings = {'label_maps': [{1.0: 'Recid', 0.0: 'Non-Recid'}], \n",
    "    'protected_attribute_maps': [{1.0: 'Male', 0.0: 'Female'}, \n",
    "    {1.0: 'White', 0.0: 'Non-White'}]}\n",
    "metrics = ['Statistical parity difference', 'Average odds difference', \n",
    "    'Equal opportunity difference']"
   ]
  },
  {
   "cell_type": "code",
   "execution_count": 12,
   "metadata": {},
   "outputs": [],
   "source": [
    "original_train, original_val_test = original_dataset.split([0.7], shuffle = True)\n",
    "original_val, original_test = original_val_test.split([0.5], shuffle = True)"
   ]
  },
  {
   "cell_type": "code",
   "execution_count": 13,
   "metadata": {},
   "outputs": [],
   "source": [
    "def describe(train = None, val = None, test = None):\n",
    "    if train is not None:\n",
    "        display(Markdown('#### Training dataset shape'))\n",
    "        print(train.features.shape)\n",
    "    if val is not None:\n",
    "        display(Markdown('#### Validation dataset shape'))\n",
    "        print(val.features.shape)\n",
    "    display(Markdown('#### Test dataset shape'))\n",
    "    print(test.features.shape)\n",
    "    display(Markdown('#### Favorable and unfavorable labels'))\n",
    "    print(test.favorable_label, test.unfavorable_label)\n",
    "    display(Markdown('#### Protected attribute names'))\n",
    "    print(test.protected_attribute_names)\n",
    "    display(Markdown('#### Privileged and unprivileged protected attribute values'))\n",
    "    print(test.privileged_protected_attributes, test.unprivileged_protected_attributes)\n",
    "    display(Markdown(\"#### Dataset feature names\"))\n",
    "    print(train.feature_names)"
   ]
  },
  {
   "cell_type": "code",
   "execution_count": 14,
   "metadata": {},
   "outputs": [
    {
     "data": {
      "text/markdown": [
       "#### Training dataset shape"
      ],
      "text/plain": [
       "<IPython.core.display.Markdown object>"
      ]
     },
     "metadata": {},
     "output_type": "display_data"
    },
    {
     "name": "stdout",
     "output_type": "stream",
     "text": [
      "(3694, 10)\n"
     ]
    },
    {
     "data": {
      "text/markdown": [
       "#### Validation dataset shape"
      ],
      "text/plain": [
       "<IPython.core.display.Markdown object>"
      ]
     },
     "metadata": {},
     "output_type": "display_data"
    },
    {
     "name": "stdout",
     "output_type": "stream",
     "text": [
      "(792, 10)\n"
     ]
    },
    {
     "data": {
      "text/markdown": [
       "#### Test dataset shape"
      ],
      "text/plain": [
       "<IPython.core.display.Markdown object>"
      ]
     },
     "metadata": {},
     "output_type": "display_data"
    },
    {
     "name": "stdout",
     "output_type": "stream",
     "text": [
      "(792, 10)\n"
     ]
    },
    {
     "data": {
      "text/markdown": [
       "#### Favorable and unfavorable labels"
      ],
      "text/plain": [
       "<IPython.core.display.Markdown object>"
      ]
     },
     "metadata": {},
     "output_type": "display_data"
    },
    {
     "name": "stdout",
     "output_type": "stream",
     "text": [
      "0.0 1.0\n"
     ]
    },
    {
     "data": {
      "text/markdown": [
       "#### Protected attribute names"
      ],
      "text/plain": [
       "<IPython.core.display.Markdown object>"
      ]
     },
     "metadata": {},
     "output_type": "display_data"
    },
    {
     "name": "stdout",
     "output_type": "stream",
     "text": [
      "['race']\n"
     ]
    },
    {
     "data": {
      "text/markdown": [
       "#### Privileged and unprivileged protected attribute values"
      ],
      "text/plain": [
       "<IPython.core.display.Markdown object>"
      ]
     },
     "metadata": {},
     "output_type": "display_data"
    },
    {
     "name": "stdout",
     "output_type": "stream",
     "text": [
      "[array([1.])] [array([0.])]\n"
     ]
    },
    {
     "data": {
      "text/markdown": [
       "#### Dataset feature names"
      ],
      "text/plain": [
       "<IPython.core.display.Markdown object>"
      ]
     },
     "metadata": {},
     "output_type": "display_data"
    },
    {
     "name": "stdout",
     "output_type": "stream",
     "text": [
      "['sex', 'race', 'age_cat=25 to 45', 'age_cat=Greater than 45', 'age_cat=Less than 25', 'priors_count=0', 'priors_count=1 to 3', 'priors_count=More than 3', 'c_charge_degree=F', 'c_charge_degree=M']\n"
     ]
    }
   ],
   "source": [
    "describe(original_train, original_val, original_test)"
   ]
  },
  {
   "cell_type": "code",
   "execution_count": 15,
   "metadata": {},
   "outputs": [],
   "source": [
    "original_metric = BinaryLabelDatasetMetric(original_train, \n",
    "    unprivileged_groups = unprivileged_groups, \n",
    "    privileged_groups = privileged_groups)"
   ]
  },
  {
   "cell_type": "code",
   "execution_count": 16,
   "metadata": {},
   "outputs": [
    {
     "data": {
      "text/markdown": [
       "#### Original COMPAS training data"
      ],
      "text/plain": [
       "<IPython.core.display.Markdown object>"
      ]
     },
     "metadata": {},
     "output_type": "display_data"
    },
    {
     "name": "stdout",
     "output_type": "stream",
     "text": [
      "Training data: Difference in mean outcomes between unprivileged and privileged groups = -0.131862\n",
      "Validation data: Difference in mean outcomes between unprivileged and privileged groups = -0.120425\n",
      "Testing data: Difference in mean outcomes between unprivileged and privileged groups = -0.146916\n"
     ]
    }
   ],
   "source": [
    "original_explainer = MetricTextExplainer(original_metric)\n",
    "display(Markdown('#### Original COMPAS training data'))\n",
    "\n",
    "original_train_metric = BinaryLabelDatasetMetric(original_train, \n",
    "    unprivileged_groups = unprivileged_groups, privileged_groups = privileged_groups)\n",
    "print('Training data: Difference in mean outcomes between unprivileged and privileged groups = %f' % original_train_metric.mean_difference())\n",
    "\n",
    "original_val_metric = BinaryLabelDatasetMetric(original_val, \n",
    "    unprivileged_groups = unprivileged_groups, privileged_groups = privileged_groups)\n",
    "print('Validation data: Difference in mean outcomes between unprivileged and privileged groups = %f' % original_val_metric.mean_difference())\n",
    "\n",
    "original_test_metric = BinaryLabelDatasetMetric(original_test, \n",
    "    unprivileged_groups = unprivileged_groups, privileged_groups = privileged_groups)\n",
    "print('Testing data: Difference in mean outcomes between unprivileged and privileged groups = %f' % original_test_metric.mean_difference())"
   ]
  },
  {
   "cell_type": "markdown",
   "metadata": {},
   "source": [
    "LR"
   ]
  },
  {
   "cell_type": "code",
   "execution_count": 17,
   "metadata": {},
   "outputs": [],
   "source": [
    "original_scaler = StandardScaler()\n",
    "X_train = original_scaler.fit_transform(original_train.features)\n",
    "y_train = original_train.labels.ravel()\n",
    "w_train = original_train.instance_weights.ravel()"
   ]
  },
  {
   "cell_type": "code",
   "execution_count": 18,
   "metadata": {},
   "outputs": [],
   "source": [
    "lr = LogisticRegression()\n",
    "lr.fit(X_train, y_train, sample_weight = original_train.instance_weights)\n",
    "y_train_preds = lr.predict(X_train)"
   ]
  },
  {
   "cell_type": "code",
   "execution_count": 19,
   "metadata": {},
   "outputs": [],
   "source": [
    "pos_ind = np.where(lr.classes_ == original_train.favorable_label)[0][0]"
   ]
  },
  {
   "cell_type": "code",
   "execution_count": 20,
   "metadata": {},
   "outputs": [],
   "source": [
    "original_train_preds = original_train.copy()\n",
    "original_train_preds.labels = y_train_preds\n",
    "\n",
    "original_val_preds = original_val.copy(deepcopy = True)\n",
    "X_val = original_scaler.transform(original_val_preds.features)\n",
    "y_val = original_val_preds.labels\n",
    "original_val_preds.scores = lr.predict_proba(X_val)[:, pos_ind].reshape(-1, 1)\n",
    "\n",
    "original_test_preds = original_test.copy(deepcopy = True)\n",
    "X_test = original_scaler.transform(original_test_preds.features)\n",
    "y_test = original_test_preds.labels\n",
    "original_test_preds.scores = lr.predict_proba(X_test)[:, pos_ind].reshape(-1, 1)"
   ]
  },
  {
   "cell_type": "code",
   "execution_count": 21,
   "metadata": {},
   "outputs": [],
   "source": [
    "num_thresh = 100\n",
    "bal_arr = np.zeros(num_thresh)\n",
    "class_thresh_arr = np.linspace(0.01, 0.99, num_thresh)\n",
    "\n",
    "for idx, class_thresh in enumerate(class_thresh_arr):\n",
    "    fav_inds = original_val_preds.scores > class_thresh\n",
    "    original_val_preds.labels[fav_inds] = original_val_preds.favorable_label\n",
    "    original_val_preds.labels[~fav_inds] = original_val_preds.unfavorable_label\n",
    "\n",
    "    original_val_metric = ClassificationMetric(original_val, \n",
    "        original_val_preds, unprivileged_groups = unprivileged_groups, \n",
    "        privileged_groups = privileged_groups)\n",
    "\n",
    "    bal_arr[idx] = 0.5 * (original_val_metric.true_positive_rate() \n",
    "        + original_val_metric.true_negative_rate())"
   ]
  },
  {
   "cell_type": "code",
   "execution_count": 22,
   "metadata": {},
   "outputs": [
    {
     "data": {
      "text/markdown": [
       "#### Original COMPAS data"
      ],
      "text/plain": [
       "<IPython.core.display.Markdown object>"
      ]
     },
     "metadata": {},
     "output_type": "display_data"
    },
    {
     "name": "stdout",
     "output_type": "stream",
     "text": [
      "Best balanced accuracy (no transforming): 0.6383\n",
      "Optimal classification threshold (no transforming): 0.5643\n"
     ]
    }
   ],
   "source": [
    "best_ind = np.where(bal_arr == np.max(bal_arr))[0][0]\n",
    "best_class_thresh = class_thresh_arr[best_ind]\n",
    "\n",
    "display(Markdown('#### Original COMPAS data'))\n",
    "print('Best balanced accuracy (no transforming): %.4f' % np.max(bal_arr))\n",
    "print('Optimal classification threshold (no transforming): %.4f' % best_class_thresh)"
   ]
  },
  {
   "cell_type": "code",
   "execution_count": 34,
   "metadata": {},
   "outputs": [],
   "source": [
    "bal_acc_arr = []\n",
    "disp_imp_arr = []\n",
    "avg_odds_diff_arr = []\n",
    "eq_opp_diff_arr = []\n",
    "outcome_unfair_arr = []\n",
    "acc_equal_arr = []"
   ]
  },
  {
   "cell_type": "code",
   "execution_count": 35,
   "metadata": {},
   "outputs": [
    {
     "data": {
      "text/markdown": [
       "#### Predictions from the original testing data"
      ],
      "text/plain": [
       "<IPython.core.display.Markdown object>"
      ]
     },
     "metadata": {},
     "output_type": "display_data"
    },
    {
     "name": "stderr",
     "output_type": "stream",
     "text": [
      " 69%|██████▉   | 69/100 [00:00<00:00, 315.73it/s]"
     ]
    },
    {
     "name": "stdout",
     "output_type": "stream",
     "text": [
      "Classification threshold used: 0.4258\n",
      "Balanced accuracy = 0.6605\n",
      "Statistical parity difference = -0.2801\n",
      "Disparate impact = 0.6556\n",
      "Average odds difference = -0.2425\n",
      "Equal opportunity difference = -0.2173\n",
      "Theil index = 0.1652\n"
     ]
    },
    {
     "name": "stderr",
     "output_type": "stream",
     "text": [
      "invalid value encountered in double_scalars\n",
      "100%|██████████| 100/100 [00:00<00:00, 361.95it/s]\n"
     ]
    }
   ],
   "source": [
    "display(Markdown('#### Predictions from the original testing data'))\n",
    "print('Classification threshold used: %.4f' % best_class_thresh)\n",
    "\n",
    "for thresh in tqdm(class_thresh_arr):\n",
    "    if thresh == best_class_thresh:\n",
    "        disp = True\n",
    "    else:\n",
    "        disp = False\n",
    "    fav_inds = original_test_preds.scores > thresh\n",
    "    original_test_preds.labels[fav_inds] = original_test_preds.favorable_label\n",
    "    original_test_preds.labels[~fav_inds] = original_test_preds.unfavorable_label\n",
    "    \n",
    "    metric_test = compute_metrics(original_test, original_test_preds, \\\n",
    "        unprivileged_groups, privileged_groups, disp = disp)\n",
    "    class_metric_test = ClassificationMetric(original_test, original_test_preds, \\\n",
    "        unprivileged_groups, privileged_groups)\n",
    "    \n",
    "    bal_acc_arr.append(metric_test['Balanced accuracy'])\n",
    "    avg_odds_diff_arr.append(metric_test['Average odds difference'])\n",
    "    disp_imp_arr.append(metric_test['Disparate impact'])\n",
    "    eq_opp_diff_arr.append(metric_test['Equal opportunity difference'])\n",
    "    outcome_unfair_arr.append(class_metric_test.false_discovery_rate_difference() \\\n",
    "        + class_metric_test.false_positive_rate_difference())\n",
    "    acc_equal_arr.append((class_metric_test.true_positive_rate(privileged = False) + \\\n",
    "        class_metric_test.true_negative_rate(privileged = False)) - \\\n",
    "            (class_metric_test.true_positive_rate(privileged = True) + \\\n",
    "                class_metric_test.true_negative_rate(privileged = True)))"
   ]
  },
  {
   "cell_type": "code",
   "execution_count": 39,
   "metadata": {},
   "outputs": [],
   "source": [
    "LR_bal_acc = np.interp(best_class_thresh, class_thresh_arr, bal_acc_arr)\n",
    "LR_acc_equal = np.interp(best_class_thresh, class_thresh_arr, acc_equal_arr)\n",
    "LR_disp_imp = np.interp(best_class_thresh, class_thresh_arr, disp_imp_arr)\n",
    "LR_out_unf = np.interp(best_class_thresh, class_thresh_arr, outcome_unfair_arr)\n",
    "LR_avg_odds = np.interp(best_class_thresh, class_thresh_arr, avg_odds_diff_arr)\n",
    "LR_eq_odds = np.interp(best_class_thresh, class_thresh_arr, eq_opp_diff_arr)"
   ]
  },
  {
   "cell_type": "code",
   "execution_count": 40,
   "metadata": {},
   "outputs": [
    {
     "data": {
      "text/html": [
       "<div>\n",
       "<style scoped>\n",
       "    .dataframe tbody tr th:only-of-type {\n",
       "        vertical-align: middle;\n",
       "    }\n",
       "\n",
       "    .dataframe tbody tr th {\n",
       "        vertical-align: top;\n",
       "    }\n",
       "\n",
       "    .dataframe thead th {\n",
       "        text-align: right;\n",
       "    }\n",
       "</style>\n",
       "<table border=\"1\" class=\"dataframe\">\n",
       "  <thead>\n",
       "    <tr style=\"text-align: right;\">\n",
       "      <th></th>\n",
       "      <th>Metric</th>\n",
       "      <th>Logistic Regression</th>\n",
       "    </tr>\n",
       "  </thead>\n",
       "  <tbody>\n",
       "    <tr>\n",
       "      <th>0</th>\n",
       "      <td>Balanced Accuracy</td>\n",
       "      <td>0.660480</td>\n",
       "    </tr>\n",
       "    <tr>\n",
       "      <th>1</th>\n",
       "      <td>Accuracy Equality</td>\n",
       "      <td>0.050261</td>\n",
       "    </tr>\n",
       "    <tr>\n",
       "      <th>2</th>\n",
       "      <td>Disparate Impact</td>\n",
       "      <td>0.655639</td>\n",
       "    </tr>\n",
       "    <tr>\n",
       "      <th>3</th>\n",
       "      <td>Outcome Unfairess</td>\n",
       "      <td>-0.196279</td>\n",
       "    </tr>\n",
       "    <tr>\n",
       "      <th>4</th>\n",
       "      <td>Average Odds Difference</td>\n",
       "      <td>-0.242456</td>\n",
       "    </tr>\n",
       "    <tr>\n",
       "      <th>5</th>\n",
       "      <td>Equal Opportunity Difference</td>\n",
       "      <td>-0.217325</td>\n",
       "    </tr>\n",
       "  </tbody>\n",
       "</table>\n",
       "</div>"
      ],
      "text/plain": [
       "                         Metric  Logistic Regression\n",
       "0             Balanced Accuracy             0.660480\n",
       "1             Accuracy Equality             0.050261\n",
       "2              Disparate Impact             0.655639\n",
       "3             Outcome Unfairess            -0.196279\n",
       "4       Average Odds Difference            -0.242456\n",
       "5  Equal Opportunity Difference            -0.217325"
      ]
     },
     "execution_count": 40,
     "metadata": {},
     "output_type": "execute_result"
    }
   ],
   "source": [
    "LR_results = {'Metric': ['Balanced Accuracy', 'Accuracy Equality', 'Disparate Impact', 'Outcome Unfairess', 'Average Odds Difference', 'Equal Opportunity Difference'],\n",
    "    'Logistic Regression': [LR_bal_acc, LR_acc_equal, LR_disp_imp, LR_out_unf, LR_avg_odds, LR_eq_odds]}\n",
    "LR_results_df = pd.DataFrame(LR_results)\n",
    "LR_results_df"
   ]
  },
  {
   "cell_type": "code",
   "execution_count": 46,
   "metadata": {},
   "outputs": [],
   "source": [
    "df_to_json(filename = 'LR_results.json', df = LR_results_df)"
   ]
  },
  {
   "cell_type": "markdown",
   "metadata": {},
   "source": [
    "AD"
   ]
  },
  {
   "cell_type": "code",
   "execution_count": 23,
   "metadata": {},
   "outputs": [],
   "source": [
    "# session.close()\n",
    "# tf.reset_default_graph()\n",
    "session = tf.Session()"
   ]
  },
  {
   "cell_type": "code",
   "execution_count": 24,
   "metadata": {},
   "outputs": [],
   "source": [
    "X, y = fetch_compas(binary_race = True)\n",
    "X.index = pd.MultiIndex.from_arrays(X.index.codes, names = X.index.names)\n",
    "y.index = pd.MultiIndex.from_arrays(y.index.codes, names = y.index.names)\n",
    "y = 1 - pd.Series(y.factorize(sort = True)[0], index = y.index)"
   ]
  },
  {
   "cell_type": "code",
   "execution_count": 25,
   "metadata": {},
   "outputs": [],
   "source": [
    "X_train, X_test, y_train, y_test = train_test_split(X, y, random_state = 1234567)\n",
    "data_preproc = make_column_transformer((OneHotEncoder(sparse = False, handle_unknown = 'ignore'), \n",
    "        X_train.dtypes == 'category'), remainder = StandardScaler())\n",
    "X_train = pd.DataFrame(data_preproc.fit_transform(X_train), index = X_train.index)\n",
    "X_test = pd.DataFrame(data_preproc.transform(X_test), index = X_test.index)"
   ]
  },
  {
   "cell_type": "code",
   "execution_count": 26,
   "metadata": {},
   "outputs": [],
   "source": [
    "def find_loss_weights(loss_weights):\n",
    "    weights = {'Adversarial Loss Weight': [], 'Mean Accuracy': []}\n",
    "    for weight in loss_weights:\n",
    "        ad = SKLearnAdversarialDebiasing(prot_attr = 'race', adversary_loss_weight = weight)\n",
    "        ad = ad.fit(X_train, y_train)\n",
    "        acc_score = ad.score(X_train, y_train)\n",
    "        weights['Adversarial Loss Weight'].append(weight)\n",
    "        weights['Mean Accuracy'].append(acc_score)\n",
    "    return pd.DataFrame(weights)"
   ]
  },
  {
   "cell_type": "code",
   "execution_count": 27,
   "metadata": {},
   "outputs": [],
   "source": [
    "loss_weights = [i for i in np.linspace(0.01, 1.0, 20)]\n",
    "weights = find_loss_weights(loss_weights = loss_weights)"
   ]
  },
  {
   "cell_type": "code",
   "execution_count": 28,
   "metadata": {},
   "outputs": [],
   "source": [
    "def plot_params(param, metric, param_data, best_x, best_y, title, file_name):\n",
    "    plt.figure(figsize = (10, 7))\n",
    "    ax = sns.lineplot(x = param, y = metric, data = param_data, color = '#348149')\n",
    "    if param == 'Adversarial Loss Weight':\n",
    "        ax.annotate(s = ' x = {:.2f}, y = {:.2f}'.format(best_x, best_y), xy = (best_x, best_y))\n",
    "    elif param == 'Number of Hidden Units':\n",
    "        ax.annotate(s = ' x = {:}, \\n y = {:.2f}'.format(best_x, best_y), xy = (best_x, best_y))\n",
    "    sns.set_style('whitegrid')\n",
    "    plt.title(title)\n",
    "    plt.savefig(file_name, bbox_inches = 'tight')"
   ]
  },
  {
   "cell_type": "code",
   "execution_count": 38,
   "metadata": {},
   "outputs": [
    {
     "data": {
      "image/png": "[encoded data removed]",
      "text/plain": [
       "<Figure size 720x504 with 1 Axes>"
      ]
     },
     "metadata": {},
     "output_type": "display_data"
    }
   ],
   "source": [
    "plot_params(param = 'Adversarial Loss Weight', metric = 'Mean Accuracy', \n",
    "    param_data = weights, best_x = 0.27, best_y = 0.794,\n",
    "    file_name = 'debiased_params_weights.png',\n",
    "    title = 'Adversarial Debiasing Hyperparameter Tuning: Adversarial Loss Weight')"
   ]
  },
  {
   "cell_type": "code",
   "execution_count": 30,
   "metadata": {},
   "outputs": [],
   "source": [
    "def find_hidden_units(num_hidden_units):\n",
    "    units = {'Number of Hidden Units': [], 'Mean Accuracy': []}\n",
    "    for unit in num_hidden_units:\n",
    "        ad = SKLearnAdversarialDebiasing(prot_attr = 'race', classifier_num_hidden_units = unit)\n",
    "        ad.fit(X_train, y_train)\n",
    "        acc_score = ad.score(X_train, y_train)\n",
    "        units['Number of Hidden Units'].append(unit)\n",
    "        units['Mean Accuracy'].append(acc_score)\n",
    "    return pd.DataFrame(units)"
   ]
  },
  {
   "cell_type": "code",
   "execution_count": 31,
   "metadata": {},
   "outputs": [],
   "source": [
    "num_hidden_units = [int(i) for i in np.linspace(1, 250, 20)]\n",
    "units = find_hidden_units(num_hidden_units = num_hidden_units)"
   ]
  },
  {
   "cell_type": "code",
   "execution_count": 32,
   "metadata": {},
   "outputs": [
    {
     "data": {
      "image/png": "[encoded data removed]",
      "text/plain": [
       "<Figure size 720x504 with 1 Axes>"
      ]
     },
     "metadata": {},
     "output_type": "display_data"
    }
   ],
   "source": [
    "plot_params(param = 'Number of Hidden Units', param_data = units, metric = 'Mean Accuracy',\n",
    "    title = 'Adversarial Debiasing Hyperparameter Tuning: Number of hidden units in the classifier', \n",
    "    file_name = 'debiased_params_units.png', best_x = 250, best_y = 0.794638)"
   ]
  },
  {
   "cell_type": "code",
   "execution_count": 33,
   "metadata": {},
   "outputs": [],
   "source": [
    "session.close()\n",
    "tf.reset_default_graph()\n",
    "session = tf.Session()"
   ]
  },
  {
   "cell_type": "code",
   "execution_count": 39,
   "metadata": {},
   "outputs": [],
   "source": [
    "ad = AdversarialDebiasing(privileged_groups = privileged_groups, \n",
    "    unprivileged_groups = unprivileged_groups, scope_name = 'debiased_classifier', \n",
    "    debias = True, sess = session, num_epochs = 100, batch_size = 32,\n",
    "    classifier_num_hidden_units = 250, adversary_loss_weight = 0.58)\n",
    "debiased_scaler = StandardScaler()\n",
    "debiased_train = original_train.copy()\n",
    "debiased_train.features = debiased_scaler.fit_transform(debiased_train.features)"
   ]
  },
  {
   "cell_type": "code",
   "execution_count": 40,
   "metadata": {},
   "outputs": [
    {
     "name": "stdout",
     "output_type": "stream",
     "text": [
      "WARNING:tensorflow:From /opt/anaconda3/lib/python3.7/site-packages/tensorflow/python/util/dispatch.py:1082: calling dropout (from tensorflow.python.ops.nn_ops) with keep_prob is deprecated and will be removed in a future version.\n",
      "Instructions for updating:\n",
      "Please use `rate` instead of `keep_prob`. Rate should be set to `rate = 1 - keep_prob`.\n",
      "epoch 0; iter: 0; batch classifier loss: 0.659894; batch adversarial loss: 0.658015\n",
      "epoch 1; iter: 0; batch classifier loss: 0.548801; batch adversarial loss: 0.820430\n",
      "epoch 2; iter: 0; batch classifier loss: 0.782227; batch adversarial loss: 0.860148\n",
      "epoch 3; iter: 0; batch classifier loss: 1.048669; batch adversarial loss: 0.888971\n",
      "epoch 4; iter: 0; batch classifier loss: 0.785303; batch adversarial loss: 0.754464\n",
      "epoch 5; iter: 0; batch classifier loss: 0.806182; batch adversarial loss: 0.807162\n",
      "epoch 6; iter: 0; batch classifier loss: 0.756588; batch adversarial loss: 0.701786\n",
      "epoch 7; iter: 0; batch classifier loss: 0.538585; batch adversarial loss: 0.689062\n",
      "epoch 8; iter: 0; batch classifier loss: 0.635695; batch adversarial loss: 0.718978\n",
      "epoch 9; iter: 0; batch classifier loss: 0.619698; batch adversarial loss: 0.636675\n",
      "epoch 10; iter: 0; batch classifier loss: 0.518623; batch adversarial loss: 0.696200\n",
      "epoch 11; iter: 0; batch classifier loss: 0.686359; batch adversarial loss: 0.702136\n",
      "epoch 12; iter: 0; batch classifier loss: 0.549037; batch adversarial loss: 0.678422\n",
      "epoch 13; iter: 0; batch classifier loss: 0.601001; batch adversarial loss: 0.627355\n",
      "epoch 14; iter: 0; batch classifier loss: 0.596946; batch adversarial loss: 0.641902\n",
      "epoch 15; iter: 0; batch classifier loss: 0.466916; batch adversarial loss: 0.660371\n",
      "epoch 16; iter: 0; batch classifier loss: 0.608849; batch adversarial loss: 0.627185\n",
      "epoch 17; iter: 0; batch classifier loss: 0.645965; batch adversarial loss: 0.619744\n",
      "epoch 18; iter: 0; batch classifier loss: 0.668223; batch adversarial loss: 0.675457\n",
      "epoch 19; iter: 0; batch classifier loss: 0.785016; batch adversarial loss: 0.690962\n",
      "epoch 20; iter: 0; batch classifier loss: 0.622922; batch adversarial loss: 0.746022\n",
      "epoch 21; iter: 0; batch classifier loss: 0.614909; batch adversarial loss: 0.682653\n",
      "epoch 22; iter: 0; batch classifier loss: 0.642458; batch adversarial loss: 0.635453\n",
      "epoch 23; iter: 0; batch classifier loss: 0.711791; batch adversarial loss: 0.718304\n",
      "epoch 24; iter: 0; batch classifier loss: 0.573868; batch adversarial loss: 0.685255\n",
      "epoch 25; iter: 0; batch classifier loss: 0.621095; batch adversarial loss: 0.668700\n",
      "epoch 26; iter: 0; batch classifier loss: 0.701717; batch adversarial loss: 0.691271\n",
      "epoch 27; iter: 0; batch classifier loss: 0.635059; batch adversarial loss: 0.749084\n",
      "epoch 28; iter: 0; batch classifier loss: 0.605834; batch adversarial loss: 0.612283\n",
      "epoch 29; iter: 0; batch classifier loss: 0.577182; batch adversarial loss: 0.657151\n",
      "epoch 30; iter: 0; batch classifier loss: 0.535736; batch adversarial loss: 0.642552\n",
      "epoch 31; iter: 0; batch classifier loss: 0.683823; batch adversarial loss: 0.655025\n",
      "epoch 32; iter: 0; batch classifier loss: 0.577518; batch adversarial loss: 0.747090\n",
      "epoch 33; iter: 0; batch classifier loss: 0.684870; batch adversarial loss: 0.681987\n",
      "epoch 34; iter: 0; batch classifier loss: 0.632320; batch adversarial loss: 0.654568\n",
      "epoch 35; iter: 0; batch classifier loss: 0.730784; batch adversarial loss: 0.670414\n",
      "epoch 36; iter: 0; batch classifier loss: 0.654153; batch adversarial loss: 0.697761\n",
      "epoch 37; iter: 0; batch classifier loss: 0.567954; batch adversarial loss: 0.657790\n",
      "epoch 38; iter: 0; batch classifier loss: 0.574249; batch adversarial loss: 0.664840\n",
      "epoch 39; iter: 0; batch classifier loss: 0.612201; batch adversarial loss: 0.766094\n",
      "epoch 40; iter: 0; batch classifier loss: 0.691186; batch adversarial loss: 0.726154\n",
      "epoch 41; iter: 0; batch classifier loss: 0.613102; batch adversarial loss: 0.655948\n",
      "epoch 42; iter: 0; batch classifier loss: 0.625682; batch adversarial loss: 0.674420\n",
      "epoch 43; iter: 0; batch classifier loss: 0.638888; batch adversarial loss: 0.629917\n",
      "epoch 44; iter: 0; batch classifier loss: 0.551713; batch adversarial loss: 0.639111\n",
      "epoch 45; iter: 0; batch classifier loss: 0.729819; batch adversarial loss: 0.659845\n",
      "epoch 46; iter: 0; batch classifier loss: 0.575339; batch adversarial loss: 0.690038\n",
      "epoch 47; iter: 0; batch classifier loss: 0.623665; batch adversarial loss: 0.668070\n",
      "epoch 48; iter: 0; batch classifier loss: 0.538159; batch adversarial loss: 0.641450\n",
      "epoch 49; iter: 0; batch classifier loss: 0.729640; batch adversarial loss: 0.641835\n",
      "epoch 50; iter: 0; batch classifier loss: 0.582590; batch adversarial loss: 0.641258\n",
      "epoch 51; iter: 0; batch classifier loss: 0.581834; batch adversarial loss: 0.669971\n",
      "epoch 52; iter: 0; batch classifier loss: 0.570674; batch adversarial loss: 0.703435\n",
      "epoch 53; iter: 0; batch classifier loss: 0.569030; batch adversarial loss: 0.666438\n",
      "epoch 54; iter: 0; batch classifier loss: 0.639635; batch adversarial loss: 0.664956\n",
      "epoch 55; iter: 0; batch classifier loss: 0.554938; batch adversarial loss: 0.651920\n",
      "epoch 56; iter: 0; batch classifier loss: 0.621955; batch adversarial loss: 0.645961\n",
      "epoch 57; iter: 0; batch classifier loss: 0.624355; batch adversarial loss: 0.680932\n",
      "epoch 58; iter: 0; batch classifier loss: 0.710878; batch adversarial loss: 0.666875\n",
      "epoch 59; iter: 0; batch classifier loss: 0.703602; batch adversarial loss: 0.687565\n",
      "epoch 60; iter: 0; batch classifier loss: 0.688603; batch adversarial loss: 0.704839\n",
      "epoch 61; iter: 0; batch classifier loss: 0.671198; batch adversarial loss: 0.702327\n",
      "epoch 62; iter: 0; batch classifier loss: 0.545869; batch adversarial loss: 0.716892\n",
      "epoch 63; iter: 0; batch classifier loss: 0.615269; batch adversarial loss: 0.750026\n",
      "epoch 64; iter: 0; batch classifier loss: 0.602537; batch adversarial loss: 0.602031\n",
      "epoch 65; iter: 0; batch classifier loss: 0.740127; batch adversarial loss: 0.661484\n",
      "epoch 66; iter: 0; batch classifier loss: 0.741064; batch adversarial loss: 0.628375\n",
      "epoch 67; iter: 0; batch classifier loss: 0.540723; batch adversarial loss: 0.613091\n",
      "epoch 68; iter: 0; batch classifier loss: 0.702221; batch adversarial loss: 0.677616\n",
      "epoch 69; iter: 0; batch classifier loss: 0.621007; batch adversarial loss: 0.665425\n",
      "epoch 70; iter: 0; batch classifier loss: 0.641545; batch adversarial loss: 0.637072\n",
      "epoch 71; iter: 0; batch classifier loss: 0.600015; batch adversarial loss: 0.669571\n",
      "epoch 72; iter: 0; batch classifier loss: 0.555704; batch adversarial loss: 0.722287\n",
      "epoch 73; iter: 0; batch classifier loss: 0.647160; batch adversarial loss: 0.644224\n",
      "epoch 74; iter: 0; batch classifier loss: 0.733465; batch adversarial loss: 0.676352\n",
      "epoch 75; iter: 0; batch classifier loss: 0.635978; batch adversarial loss: 0.634926\n",
      "epoch 76; iter: 0; batch classifier loss: 0.585338; batch adversarial loss: 0.687050\n",
      "epoch 77; iter: 0; batch classifier loss: 0.685677; batch adversarial loss: 0.671955\n",
      "epoch 78; iter: 0; batch classifier loss: 0.728654; batch adversarial loss: 0.633243\n",
      "epoch 79; iter: 0; batch classifier loss: 0.670195; batch adversarial loss: 0.608671\n",
      "epoch 80; iter: 0; batch classifier loss: 0.581055; batch adversarial loss: 0.734843\n",
      "epoch 81; iter: 0; batch classifier loss: 0.729586; batch adversarial loss: 0.627241\n",
      "epoch 82; iter: 0; batch classifier loss: 0.659977; batch adversarial loss: 0.615204\n",
      "epoch 83; iter: 0; batch classifier loss: 0.579020; batch adversarial loss: 0.722983\n",
      "epoch 84; iter: 0; batch classifier loss: 0.614598; batch adversarial loss: 0.692397\n",
      "epoch 85; iter: 0; batch classifier loss: 0.629458; batch adversarial loss: 0.649000\n",
      "epoch 86; iter: 0; batch classifier loss: 0.636116; batch adversarial loss: 0.637621\n",
      "epoch 87; iter: 0; batch classifier loss: 0.592127; batch adversarial loss: 0.606687\n",
      "epoch 88; iter: 0; batch classifier loss: 0.624598; batch adversarial loss: 0.592293\n",
      "epoch 89; iter: 0; batch classifier loss: 0.602274; batch adversarial loss: 0.678449\n",
      "epoch 90; iter: 0; batch classifier loss: 0.598144; batch adversarial loss: 0.629540\n",
      "epoch 91; iter: 0; batch classifier loss: 0.651054; batch adversarial loss: 0.641423\n",
      "epoch 92; iter: 0; batch classifier loss: 0.625718; batch adversarial loss: 0.643480\n",
      "epoch 93; iter: 0; batch classifier loss: 0.708441; batch adversarial loss: 0.731023\n",
      "epoch 94; iter: 0; batch classifier loss: 0.550510; batch adversarial loss: 0.683267\n",
      "epoch 95; iter: 0; batch classifier loss: 0.592227; batch adversarial loss: 0.647187\n",
      "epoch 96; iter: 0; batch classifier loss: 0.577218; batch adversarial loss: 0.616532\n",
      "epoch 97; iter: 0; batch classifier loss: 0.751086; batch adversarial loss: 0.689547\n",
      "epoch 98; iter: 0; batch classifier loss: 0.821035; batch adversarial loss: 0.634484\n",
      "epoch 99; iter: 0; batch classifier loss: 0.720048; batch adversarial loss: 0.643206\n"
     ]
    }
   ],
   "source": [
    "ad = ad.fit(debiased_train)"
   ]
  },
  {
   "cell_type": "code",
   "execution_count": 41,
   "metadata": {},
   "outputs": [],
   "source": [
    "debiased_val = original_val.copy()\n",
    "debiased_val.features = debiased_scaler.transform(debiased_val.features)\n",
    "y_train_preds_db = ad.predict(debiased_train).scores"
   ]
  },
  {
   "cell_type": "code",
   "execution_count": 42,
   "metadata": {},
   "outputs": [],
   "source": [
    "AD_bal_acc_arr = []\n",
    "AD_disp_imp_arr = []\n",
    "AD_avg_odds_diff_arr = []\n",
    "AD_eq_opp_diff_arr = []\n",
    "AD_outcome_unfair_arr = []\n",
    "AD_acc_equal_arr = []"
   ]
  },
  {
   "cell_type": "code",
   "execution_count": 43,
   "metadata": {},
   "outputs": [
    {
     "data": {
      "text/markdown": [
       "#### Predictions from the original testing data"
      ],
      "text/plain": [
       "<IPython.core.display.Markdown object>"
      ]
     },
     "metadata": {},
     "output_type": "display_data"
    },
    {
     "name": "stderr",
     "output_type": "stream",
     "text": [
      "  0%|          | 0/100 [00:00<?, ?it/s]invalid value encountered in double_scalars\n",
      " 14%|█▍        | 14/100 [00:00<00:00, 134.07it/s]"
     ]
    },
    {
     "name": "stdout",
     "output_type": "stream",
     "text": [
      "Classification threshold used: 0.5643\n"
     ]
    },
    {
     "name": "stderr",
     "output_type": "stream",
     "text": [
      "divide by zero encountered in double_scalars\n",
      " 77%|███████▋  | 77/100 [00:00<00:00, 117.41it/s]"
     ]
    },
    {
     "name": "stdout",
     "output_type": "stream",
     "text": [
      "Balanced accuracy = 0.3420\n",
      "Statistical parity difference = -0.0223\n",
      "Disparate impact = 0.9615\n",
      "Average odds difference = -0.0611\n",
      "Equal opportunity difference = -0.0980\n",
      "Theil index = 0.4229\n"
     ]
    },
    {
     "name": "stderr",
     "output_type": "stream",
     "text": [
      "100%|██████████| 100/100 [00:00<00:00, 123.59it/s]\n"
     ]
    }
   ],
   "source": [
    "display(Markdown('#### Predictions from the original testing data'))\n",
    "print('Classification threshold used: %.4f' % best_class_thresh)\n",
    "\n",
    "for thresh in tqdm(class_thresh_arr):\n",
    "    if thresh == best_class_thresh:\n",
    "        disp = True\n",
    "    else:\n",
    "        disp = False\n",
    "\n",
    "    y_val_preds = (y_train_preds_db[:, pos_ind] > thresh).astype(np.float64)\n",
    "    debiased_test_preds = debiased_train.copy()\n",
    "    debiased_test_preds.labels = y_val_preds\n",
    "\n",
    "    ad_metric_test = compute_metrics(debiased_train, debiased_test_preds, \\\n",
    "        unprivileged_groups, privileged_groups, disp = disp)\n",
    "    ad_class_metric_test = ClassificationMetric(debiased_train, debiased_test_preds, \\\n",
    "        unprivileged_groups, privileged_groups)\n",
    "    \n",
    "    AD_bal_acc_arr.append(ad_metric_test['Balanced accuracy'])\n",
    "    AD_avg_odds_diff_arr.append(ad_metric_test['Average odds difference'])\n",
    "    AD_disp_imp_arr.append(ad_metric_test['Disparate impact'])\n",
    "    AD_eq_opp_diff_arr.append(ad_metric_test['Equal opportunity difference'])\n",
    "    AD_outcome_unfair_arr.append(ad_class_metric_test.false_discovery_rate_difference() \\\n",
    "        + ad_class_metric_test.false_positive_rate_difference())\n",
    "    AD_acc_equal_arr.append((ad_class_metric_test.true_positive_rate(privileged = False) + \\\n",
    "        ad_class_metric_test.true_negative_rate(privileged = False)) - \\\n",
    "            (ad_class_metric_test.true_positive_rate(privileged = True) + \\\n",
    "                ad_class_metric_test.true_negative_rate(privileged = True)))"
   ]
  },
  {
   "cell_type": "code",
   "execution_count": 47,
   "metadata": {},
   "outputs": [],
   "source": [
    "save_to_json(filename = 'AD_bal_acc_arr.json', data = AD_bal_acc_arr)\n",
    "save_to_json(filename = 'AD_disp_imp_arr.json', data = AD_disp_imp_arr)\n",
    "save_to_json(filename = 'AD_avg_odds_diff_arr.json', data = AD_avg_odds_diff_arr)\n",
    "save_to_json(filename = 'AD_eq_opp_diff_arr.json', data = AD_eq_opp_diff_arr)\n",
    "save_to_json(filename = 'AD_outcome_unfair_arr.json', data = AD_outcome_unfair_arr)\n",
    "save_to_json(filename = 'AD_acc_equal_arr.json', data = AD_acc_equal_arr)"
   ]
  },
  {
   "cell_type": "code",
   "execution_count": 44,
   "metadata": {},
   "outputs": [],
   "source": [
    "AD_bal_acc = np.interp(best_class_thresh, class_thresh_arr, AD_bal_acc_arr)\n",
    "AD_acc_equal = np.interp(best_class_thresh, class_thresh_arr, AD_acc_equal_arr)\n",
    "AD_disp_imp = np.interp(best_class_thresh, class_thresh_arr, AD_disp_imp_arr)\n",
    "AD_out_unf = np.interp(best_class_thresh, class_thresh_arr, AD_outcome_unfair_arr)\n",
    "AD_avg_odds = np.interp(best_class_thresh, class_thresh_arr, AD_avg_odds_diff_arr)\n",
    "AD_eq_odds = np.interp(best_class_thresh, class_thresh_arr, AD_eq_opp_diff_arr)"
   ]
  },
  {
   "cell_type": "code",
   "execution_count": 45,
   "metadata": {},
   "outputs": [
    {
     "data": {
      "text/html": [
       "<div>\n",
       "<style scoped>\n",
       "    .dataframe tbody tr th:only-of-type {\n",
       "        vertical-align: middle;\n",
       "    }\n",
       "\n",
       "    .dataframe tbody tr th {\n",
       "        vertical-align: top;\n",
       "    }\n",
       "\n",
       "    .dataframe thead th {\n",
       "        text-align: right;\n",
       "    }\n",
       "</style>\n",
       "<table border=\"1\" class=\"dataframe\">\n",
       "  <thead>\n",
       "    <tr style=\"text-align: right;\">\n",
       "      <th></th>\n",
       "      <th>Metric</th>\n",
       "      <th>Adversarial Debiasing</th>\n",
       "    </tr>\n",
       "  </thead>\n",
       "  <tbody>\n",
       "    <tr>\n",
       "      <th>0</th>\n",
       "      <td>Balanced Accuracy</td>\n",
       "      <td>0.342027</td>\n",
       "    </tr>\n",
       "    <tr>\n",
       "      <th>1</th>\n",
       "      <td>Accuracy Equality</td>\n",
       "      <td>-0.073757</td>\n",
       "    </tr>\n",
       "    <tr>\n",
       "      <th>2</th>\n",
       "      <td>Disparate Impact</td>\n",
       "      <td>0.961528</td>\n",
       "    </tr>\n",
       "    <tr>\n",
       "      <th>3</th>\n",
       "      <td>Outcome Unfairess</td>\n",
       "      <td>0.150370</td>\n",
       "    </tr>\n",
       "    <tr>\n",
       "      <th>4</th>\n",
       "      <td>Average Odds Difference</td>\n",
       "      <td>-0.061080</td>\n",
       "    </tr>\n",
       "    <tr>\n",
       "      <th>5</th>\n",
       "      <td>Equal Opportunity Difference</td>\n",
       "      <td>-0.097959</td>\n",
       "    </tr>\n",
       "  </tbody>\n",
       "</table>\n",
       "</div>"
      ],
      "text/plain": [
       "                         Metric  Adversarial Debiasing\n",
       "0             Balanced Accuracy               0.342027\n",
       "1             Accuracy Equality              -0.073757\n",
       "2              Disparate Impact               0.961528\n",
       "3             Outcome Unfairess               0.150370\n",
       "4       Average Odds Difference              -0.061080\n",
       "5  Equal Opportunity Difference              -0.097959"
      ]
     },
     "execution_count": 45,
     "metadata": {},
     "output_type": "execute_result"
    }
   ],
   "source": [
    "AD_results = {'Metric': ['Balanced Accuracy', 'Accuracy Equality', 'Disparate Impact', 'Outcome Unfairess', 'Average Odds Difference', 'Equal Opportunity Difference'],\n",
    "    'Adversarial Debiasing': [AD_bal_acc, AD_acc_equal, AD_disp_imp, AD_out_unf, AD_avg_odds, AD_eq_odds]}\n",
    "AD_results_df = pd.DataFrame(AD_results)\n",
    "AD_results_df"
   ]
  },
  {
   "cell_type": "code",
   "execution_count": 46,
   "metadata": {},
   "outputs": [],
   "source": [
    "df_to_json(filename = 'AD_results.json', df = AD_results_df)"
   ]
  },
  {
   "cell_type": "code",
   "execution_count": null,
   "metadata": {},
   "outputs": [],
   "source": []
  }
 ],
 "metadata": {
  "interpreter": {
   "hash": "40d3a090f54c6569ab1632332b64b2c03c39dcf918b08424e98f38b5ae0af88f"
  },
  "kernelspec": {
   "display_name": "Python 3.7.4 ('base')",
   "language": "python",
   "name": "python3"
  },
  "language_info": {
   "codemirror_mode": {
    "name": "ipython",
    "version": 3
   },
   "file_extension": ".py",
   "mimetype": "text/x-python",
   "name": "python",
   "nbconvert_exporter": "python",
   "pygments_lexer": "ipython3",
   "version": "3.7.4"
  },
  "orig_nbformat": 4
 },
 "nbformat": 4,
 "nbformat_minor": 2
}

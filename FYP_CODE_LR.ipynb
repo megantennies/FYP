{
 "cells": [
  {
   "cell_type": "markdown",
   "metadata": {},
   "source": [
    "## Imports"
   ]
  },
  {
   "cell_type": "code",
   "execution_count": 2,
   "metadata": {},
   "outputs": [],
   "source": [
    "# !pip install scipy==1.6.0\n",
    "# !pip install matplotlib==3.1.0"
   ]
  },
  {
   "cell_type": "code",
   "execution_count": 2,
   "metadata": {},
   "outputs": [],
   "source": [
    "import os, json, random\n",
    "random.seed(1)\n",
    "import numpy as np\n",
    "import pandas as pd\n",
    "import seaborn as sns\n",
    "from IPython.display import Markdown, display, Image\n",
    "from tqdm import tqdm\n",
    "from collections import OrderedDict\n",
    "import matplotlib.pyplot as plt\n",
    "%matplotlib inline"
   ]
  },
  {
   "cell_type": "code",
   "execution_count": 3,
   "metadata": {},
   "outputs": [],
   "source": [
    "# AIF360\n",
    "import aif360\n",
    "from aif360.datasets import CompasDataset\n",
    "from aif360.sklearn.datasets import fetch_compas\n",
    "# fairness metrics\n",
    "from aif360.metrics import BinaryLabelDatasetMetric, ClassificationMetric, DatasetMetric\n",
    "from aif360.metrics.common_utils import compute_metrics\n",
    "from aif360.metrics.utils import compute_num_instances\n",
    "# data preprocessing\n",
    "from aif360.algorithms.preprocessing.optim_preproc_helpers.data_preproc_functions import load_preproc_data_compas\n",
    "# explainers\n",
    "from aif360.explainers import MetricTextExplainer\n",
    "# bias mitigation techniques\n",
    "from aif360.algorithms.preprocessing import Reweighing\n",
    "from aif360.algorithms.inprocessing import AdversarialDebiasing, PrejudiceRemover, GerryFairClassifier\n",
    "from aif360.sklearn.inprocessing import AdversarialDebiasing as SKLearnAdversarialDebiasing\n",
    "from aif360.algorithms.inprocessing.gerryfair.clean import array_to_tuple\n",
    "from aif360.algorithms.inprocessing.gerryfair.auditor import Auditor\n",
    "from aif360.algorithms.postprocessing import CalibratedEqOddsPostprocessing, RejectOptionClassification\n",
    "from aif360.sklearn.utils import check_inputs, check_groups"
   ]
  },
  {
   "cell_type": "code",
   "execution_count": 4,
   "metadata": {},
   "outputs": [],
   "source": [
    "# TensorFlow\n",
    "import tensorflow\n",
    "import tensorflow.compat.v1 as tf\n",
    "tf.compat.v1.disable_eager_execution()"
   ]
  },
  {
   "cell_type": "code",
   "execution_count": 5,
   "metadata": {},
   "outputs": [],
   "source": [
    "import sklearn\n",
    "# scalers\n",
    "from sklearn.preprocessing import StandardScaler, MinMaxScaler, MaxAbsScaler, OneHotEncoder\n",
    "from sklearn.compose import make_column_transformer\n",
    "# classifiers\n",
    "from sklearn.linear_model import LogisticRegression\n",
    "from sklearn.ensemble import RandomForestClassifier\n",
    "from sklearn import svm, tree, linear_model\n",
    "# metrics\n",
    "from sklearn.metrics import accuracy_score, roc_curve, classification_report, confusion_matrix\n",
    "# kernels\n",
    "from sklearn.kernel_ridge import KernelRidge\n",
    "\n",
    "from sklearn.decomposition import PCA, FactorAnalysis\n",
    "from sklearn.datasets import make_blobs\n",
    "from sklearn.pipeline import make_pipeline\n",
    "from sklearn.model_selection import train_test_split, GridSearchCV, RepeatedStratifiedKFold\n",
    "from sklearn.inspection import permutation_importance"
   ]
  },
  {
   "cell_type": "markdown",
   "metadata": {},
   "source": [
    "## Helper Functions"
   ]
  },
  {
   "cell_type": "code",
   "execution_count": 6,
   "metadata": {},
   "outputs": [],
   "source": [
    "FILES = '/Users/megantennies/FYP/saved data'"
   ]
  },
  {
   "cell_type": "code",
   "execution_count": 7,
   "metadata": {},
   "outputs": [],
   "source": [
    "def save_to_json(filename, data):\n",
    "    with open(os.path.join(FILES, filename), 'w') as write:\n",
    "        json.dump(data, write)"
   ]
  },
  {
   "cell_type": "code",
   "execution_count": 8,
   "metadata": {},
   "outputs": [],
   "source": [
    "def json_to_data(filename):\n",
    "    with open(os.path.join(FILES, filename)) as file:\n",
    "        data = json.load(file)\n",
    "    df = pd.DataFrame(columns = data['columns'], data = data['data'])\n",
    "    return df"
   ]
  },
  {
   "cell_type": "code",
   "execution_count": 9,
   "metadata": {},
   "outputs": [],
   "source": [
    "def df_to_json(filename, df):\n",
    "    df.to_json(os.path.join(FILES, filename), orient = 'split', \n",
    "    compression = 'infer', index = True)"
   ]
  },
  {
   "cell_type": "markdown",
   "metadata": {},
   "source": [
    "## Data Loading "
   ]
  },
  {
   "cell_type": "code",
   "execution_count": 10,
   "metadata": {},
   "outputs": [],
   "source": [
    "privileged_groups = [{'race': 1}]\n",
    "unprivileged_groups = [{'race': 0}]\n",
    "original_dataset = load_preproc_data_compas(['race'])"
   ]
  },
  {
   "cell_type": "code",
   "execution_count": 11,
   "metadata": {},
   "outputs": [],
   "source": [
    "default_mappings = {'label_maps': [{1.0: 'Recid', 0.0: 'Non-Recid'}], \n",
    "    'protected_attribute_maps': [{1.0: 'Male', 0.0: 'Female'}, \n",
    "    {1.0: 'White', 0.0: 'Non-White'}]}\n",
    "metrics = ['Statistical parity difference', 'Average odds difference', \n",
    "    'Equal opportunity difference']"
   ]
  },
  {
   "cell_type": "code",
   "execution_count": 12,
   "metadata": {},
   "outputs": [],
   "source": [
    "original_train, original_val_test = original_dataset.split([0.7], shuffle = True)\n",
    "original_val, original_test = original_val_test.split([0.5], shuffle = True)"
   ]
  },
  {
   "cell_type": "code",
   "execution_count": 11,
   "metadata": {},
   "outputs": [],
   "source": [
    "def describe(train = None, val = None, test = None):\n",
    "    if train is not None:\n",
    "        display(Markdown('#### Training dataset shape'))\n",
    "        print(train.features.shape)\n",
    "    if val is not None:\n",
    "        display(Markdown('#### Validation dataset shape'))\n",
    "        print(val.features.shape)\n",
    "    display(Markdown('#### Test dataset shape'))\n",
    "    print(test.features.shape)\n",
    "    display(Markdown('#### Favorable and unfavorable labels'))\n",
    "    print(test.favorable_label, test.unfavorable_label)\n",
    "    display(Markdown('#### Protected attribute names'))\n",
    "    print(test.protected_attribute_names)\n",
    "    display(Markdown('#### Privileged and unprivileged protected attribute values'))\n",
    "    print(test.privileged_protected_attributes, test.unprivileged_protected_attributes)\n",
    "    display(Markdown(\"#### Dataset feature names\"))\n",
    "    print(train.feature_names)"
   ]
  },
  {
   "cell_type": "code",
   "execution_count": 12,
   "metadata": {},
   "outputs": [
    {
     "data": {
      "text/markdown": [
       "#### Training dataset shape"
      ],
      "text/plain": [
       "<IPython.core.display.Markdown object>"
      ]
     },
     "metadata": {},
     "output_type": "display_data"
    },
    {
     "name": "stdout",
     "output_type": "stream",
     "text": [
      "(3694, 10)\n"
     ]
    },
    {
     "data": {
      "text/markdown": [
       "#### Validation dataset shape"
      ],
      "text/plain": [
       "<IPython.core.display.Markdown object>"
      ]
     },
     "metadata": {},
     "output_type": "display_data"
    },
    {
     "name": "stdout",
     "output_type": "stream",
     "text": [
      "(792, 10)\n"
     ]
    },
    {
     "data": {
      "text/markdown": [
       "#### Test dataset shape"
      ],
      "text/plain": [
       "<IPython.core.display.Markdown object>"
      ]
     },
     "metadata": {},
     "output_type": "display_data"
    },
    {
     "name": "stdout",
     "output_type": "stream",
     "text": [
      "(792, 10)\n"
     ]
    },
    {
     "data": {
      "text/markdown": [
       "#### Favorable and unfavorable labels"
      ],
      "text/plain": [
       "<IPython.core.display.Markdown object>"
      ]
     },
     "metadata": {},
     "output_type": "display_data"
    },
    {
     "name": "stdout",
     "output_type": "stream",
     "text": [
      "0.0 1.0\n"
     ]
    },
    {
     "data": {
      "text/markdown": [
       "#### Protected attribute names"
      ],
      "text/plain": [
       "<IPython.core.display.Markdown object>"
      ]
     },
     "metadata": {},
     "output_type": "display_data"
    },
    {
     "name": "stdout",
     "output_type": "stream",
     "text": [
      "['race']\n"
     ]
    },
    {
     "data": {
      "text/markdown": [
       "#### Privileged and unprivileged protected attribute values"
      ],
      "text/plain": [
       "<IPython.core.display.Markdown object>"
      ]
     },
     "metadata": {},
     "output_type": "display_data"
    },
    {
     "name": "stdout",
     "output_type": "stream",
     "text": [
      "[array([1.])] [array([0.])]\n"
     ]
    },
    {
     "data": {
      "text/markdown": [
       "#### Dataset feature names"
      ],
      "text/plain": [
       "<IPython.core.display.Markdown object>"
      ]
     },
     "metadata": {},
     "output_type": "display_data"
    },
    {
     "name": "stdout",
     "output_type": "stream",
     "text": [
      "['sex', 'race', 'age_cat=25 to 45', 'age_cat=Greater than 45', 'age_cat=Less than 25', 'priors_count=0', 'priors_count=1 to 3', 'priors_count=More than 3', 'c_charge_degree=F', 'c_charge_degree=M']\n"
     ]
    }
   ],
   "source": [
    "describe(original_train, original_val, original_test)"
   ]
  },
  {
   "cell_type": "code",
   "execution_count": 13,
   "metadata": {},
   "outputs": [],
   "source": [
    "original_metric = BinaryLabelDatasetMetric(original_train, \n",
    "    unprivileged_groups = unprivileged_groups, \n",
    "    privileged_groups = privileged_groups)"
   ]
  },
  {
   "cell_type": "code",
   "execution_count": 14,
   "metadata": {},
   "outputs": [
    {
     "data": {
      "text/markdown": [
       "#### Original COMPAS training data"
      ],
      "text/plain": [
       "<IPython.core.display.Markdown object>"
      ]
     },
     "metadata": {},
     "output_type": "display_data"
    },
    {
     "name": "stdout",
     "output_type": "stream",
     "text": [
      "Training data: Difference in mean outcomes between unprivileged and privileged groups = -0.140541\n",
      "Validation data: Difference in mean outcomes between unprivileged and privileged groups = -0.077290\n",
      "Testing data: Difference in mean outcomes between unprivileged and privileged groups = -0.148322\n"
     ]
    }
   ],
   "source": [
    "original_explainer = MetricTextExplainer(original_metric)\n",
    "display(Markdown('#### Original COMPAS training data'))\n",
    "\n",
    "original_train_metric = BinaryLabelDatasetMetric(original_train, \n",
    "    unprivileged_groups = unprivileged_groups, privileged_groups = privileged_groups)\n",
    "print('Training data: Difference in mean outcomes between unprivileged and privileged groups = %f' % original_train_metric.mean_difference())\n",
    "\n",
    "original_val_metric = BinaryLabelDatasetMetric(original_val, \n",
    "    unprivileged_groups = unprivileged_groups, privileged_groups = privileged_groups)\n",
    "print('Validation data: Difference in mean outcomes between unprivileged and privileged groups = %f' % original_val_metric.mean_difference())\n",
    "\n",
    "original_test_metric = BinaryLabelDatasetMetric(original_test, \n",
    "    unprivileged_groups = unprivileged_groups, privileged_groups = privileged_groups)\n",
    "print('Testing data: Difference in mean outcomes between unprivileged and privileged groups = %f' % original_test_metric.mean_difference())"
   ]
  },
  {
   "cell_type": "markdown",
   "metadata": {},
   "source": [
    "## Baseline Logistic Regression Model"
   ]
  },
  {
   "cell_type": "code",
   "execution_count": 77,
   "metadata": {},
   "outputs": [],
   "source": [
    "original_scaler = StandardScaler()\n",
    "X_train = original_scaler.fit_transform(original_train.features)\n",
    "y_train = original_train.labels.ravel()\n",
    "w_train = original_train.instance_weights.ravel()"
   ]
  },
  {
   "cell_type": "code",
   "execution_count": 78,
   "metadata": {},
   "outputs": [],
   "source": [
    "lr = LogisticRegression()\n",
    "lr.fit(X_train, y_train, sample_weight = original_train.instance_weights)\n",
    "y_train_preds = lr.predict(X_train)"
   ]
  },
  {
   "cell_type": "code",
   "execution_count": 79,
   "metadata": {},
   "outputs": [],
   "source": [
    "pos_ind = np.where(lr.classes_ == original_train.favorable_label)[0][0]"
   ]
  },
  {
   "cell_type": "code",
   "execution_count": 80,
   "metadata": {},
   "outputs": [],
   "source": [
    "original_train_preds = original_train.copy()\n",
    "original_train_preds.labels = y_train_preds\n",
    "\n",
    "original_val_preds = original_val.copy(deepcopy = True)\n",
    "X_val = original_scaler.transform(original_val_preds.features)\n",
    "y_val = original_val_preds.labels\n",
    "original_val_preds.scores = lr.predict_proba(X_val)[:, pos_ind].reshape(-1, 1)\n",
    "\n",
    "original_test_preds = original_test.copy(deepcopy = True)\n",
    "X_test = original_scaler.transform(original_test_preds.features)\n",
    "y_test = original_test_preds.labels\n",
    "original_test_preds.scores = lr.predict_proba(X_test)[:, pos_ind].reshape(-1, 1)"
   ]
  },
  {
   "cell_type": "code",
   "execution_count": 81,
   "metadata": {},
   "outputs": [],
   "source": [
    "num_thresh = 100\n",
    "bal_arr = np.zeros(num_thresh)\n",
    "class_thresh_arr = np.linspace(0.01, 0.99, num_thresh)\n",
    "\n",
    "for idx, class_thresh in enumerate(class_thresh_arr):\n",
    "    fav_inds = original_val_preds.scores > class_thresh\n",
    "    original_val_preds.labels[fav_inds] = original_val_preds.favorable_label\n",
    "    original_val_preds.labels[~fav_inds] = original_val_preds.unfavorable_label\n",
    "\n",
    "    original_val_metric = ClassificationMetric(original_val, \n",
    "        original_val_preds, unprivileged_groups = unprivileged_groups, \n",
    "        privileged_groups = privileged_groups)\n",
    "\n",
    "    bal_arr[idx] = 0.5 * (original_val_metric.true_positive_rate() \n",
    "        + original_val_metric.true_negative_rate())"
   ]
  },
  {
   "cell_type": "code",
   "execution_count": 82,
   "metadata": {},
   "outputs": [
    {
     "data": {
      "text/markdown": [
       "#### Original COMPAS data"
      ],
      "text/plain": [
       "<IPython.core.display.Markdown object>"
      ]
     },
     "metadata": {},
     "output_type": "display_data"
    },
    {
     "name": "stdout",
     "output_type": "stream",
     "text": [
      "Best balanced accuracy (no transforming): 0.6582\n",
      "Optimal classification threshold (no transforming): 0.5445\n"
     ]
    }
   ],
   "source": [
    "best_ind = np.where(bal_arr == np.max(bal_arr))[0][0]\n",
    "best_class_thresh = class_thresh_arr[best_ind]\n",
    "\n",
    "display(Markdown('#### Original COMPAS data'))\n",
    "print('Best balanced accuracy (no transforming): %.4f' % np.max(bal_arr))\n",
    "print('Optimal classification threshold (no transforming): %.4f' % best_class_thresh)"
   ]
  },
  {
   "cell_type": "code",
   "execution_count": 83,
   "metadata": {},
   "outputs": [],
   "source": [
    "bal_acc_arr = []\n",
    "disp_imp_arr = []\n",
    "avg_odds_diff_arr = []\n",
    "eq_opp_diff_arr = []\n",
    "outcome_unfair_arr = []\n",
    "acc_equal_arr = []"
   ]
  },
  {
   "cell_type": "code",
   "execution_count": 84,
   "metadata": {},
   "outputs": [
    {
     "data": {
      "text/markdown": [
       "#### Predictions from the original testing data"
      ],
      "text/plain": [
       "<IPython.core.display.Markdown object>"
      ]
     },
     "metadata": {},
     "output_type": "display_data"
    },
    {
     "name": "stderr",
     "output_type": "stream",
     "text": [
      " 71%|███████   | 71/100 [00:00<00:00, 328.13it/s]"
     ]
    },
    {
     "name": "stdout",
     "output_type": "stream",
     "text": [
      "Classification threshold used: 0.5445\n",
      "Balanced accuracy = 0.6764\n",
      "Statistical parity difference = -0.3400\n",
      "Disparate impact = 0.4908\n",
      "Average odds difference = -0.3021\n",
      "Equal opportunity difference = -0.3199\n",
      "Theil index = 0.2498\n"
     ]
    },
    {
     "name": "stderr",
     "output_type": "stream",
     "text": [
      "invalid value encountered in double_scalars\n",
      "100%|██████████| 100/100 [00:00<00:00, 365.88it/s]\n"
     ]
    }
   ],
   "source": [
    "display(Markdown('#### Predictions from the original testing data'))\n",
    "print('Classification threshold used: %.4f' % best_class_thresh)\n",
    "\n",
    "for thresh in tqdm(class_thresh_arr):\n",
    "    if thresh == best_class_thresh:\n",
    "        disp = True\n",
    "    else:\n",
    "        disp = False\n",
    "    fav_inds = original_test_preds.scores > thresh\n",
    "    original_test_preds.labels[fav_inds] = original_test_preds.favorable_label\n",
    "    original_test_preds.labels[~fav_inds] = original_test_preds.unfavorable_label\n",
    "    \n",
    "    metric_test = compute_metrics(original_test, original_test_preds, \\\n",
    "        unprivileged_groups, privileged_groups, disp = disp)\n",
    "    class_metric_test = ClassificationMetric(original_test, original_test_preds, \\\n",
    "        unprivileged_groups, privileged_groups)\n",
    "    \n",
    "    bal_acc_arr.append(metric_test['Balanced accuracy'])\n",
    "    avg_odds_diff_arr.append(metric_test['Average odds difference'])\n",
    "    disp_imp_arr.append(metric_test['Disparate impact'])\n",
    "    eq_opp_diff_arr.append(metric_test['Equal opportunity difference'])\n",
    "    outcome_unfair_arr.append(class_metric_test.false_discovery_rate_difference() \\\n",
    "        + class_metric_test.false_positive_rate_difference())\n",
    "    acc_equal_arr.append((class_metric_test.true_positive_rate(privileged = True) + \\\n",
    "        class_metric_test.true_negative_rate(privileged = True)) - \\\n",
    "            (class_metric_test.true_positive_rate(privileged = False) + \\\n",
    "                class_metric_test.true_negative_rate(privileged = False)))"
   ]
  },
  {
   "cell_type": "code",
   "execution_count": 85,
   "metadata": {},
   "outputs": [],
   "source": [
    "save_to_json(filename = 'LR_bal_acc_arr.json', data = bal_acc_arr)\n",
    "save_to_json(filename = 'LR_disp_imp_arr.json', data = disp_imp_arr)\n",
    "save_to_json(filename = 'LR_avg_odds_diff_arr.json', data = avg_odds_diff_arr)\n",
    "save_to_json(filename = 'LR_eq_opp_diff_arr.json', data = eq_opp_diff_arr)\n",
    "save_to_json(filename = 'LR_outcome_unfair_arr.json', data = outcome_unfair_arr)\n",
    "save_to_json(filename = 'LR_acc_equal_arr.json', data = acc_equal_arr)"
   ]
  },
  {
   "cell_type": "code",
   "execution_count": 86,
   "metadata": {},
   "outputs": [],
   "source": [
    "LR_bal_acc = np.interp(best_class_thresh, class_thresh_arr, bal_acc_arr)\n",
    "LR_acc_equal = np.interp(best_class_thresh, class_thresh_arr, acc_equal_arr)\n",
    "LR_disp_imp = np.interp(best_class_thresh, class_thresh_arr, disp_imp_arr)\n",
    "LR_out_unf = np.interp(best_class_thresh, class_thresh_arr, outcome_unfair_arr)\n",
    "LR_avg_odds = np.interp(best_class_thresh, class_thresh_arr, avg_odds_diff_arr)\n",
    "LR_eq_odds = np.interp(best_class_thresh, class_thresh_arr, eq_opp_diff_arr)"
   ]
  },
  {
   "cell_type": "code",
   "execution_count": 87,
   "metadata": {},
   "outputs": [
    {
     "data": {
      "text/html": [
       "<div>\n",
       "<style scoped>\n",
       "    .dataframe tbody tr th:only-of-type {\n",
       "        vertical-align: middle;\n",
       "    }\n",
       "\n",
       "    .dataframe tbody tr th {\n",
       "        vertical-align: top;\n",
       "    }\n",
       "\n",
       "    .dataframe thead th {\n",
       "        text-align: right;\n",
       "    }\n",
       "</style>\n",
       "<table border=\"1\" class=\"dataframe\">\n",
       "  <thead>\n",
       "    <tr style=\"text-align: right;\">\n",
       "      <th></th>\n",
       "      <th>Metric</th>\n",
       "      <th>Logistic Regression</th>\n",
       "    </tr>\n",
       "  </thead>\n",
       "  <tbody>\n",
       "    <tr>\n",
       "      <th>0</th>\n",
       "      <td>Balanced Accuracy</td>\n",
       "      <td>0.676400</td>\n",
       "    </tr>\n",
       "    <tr>\n",
       "      <th>1</th>\n",
       "      <td>Accuracy Equality</td>\n",
       "      <td>0.035523</td>\n",
       "    </tr>\n",
       "    <tr>\n",
       "      <th>2</th>\n",
       "      <td>Disparate Impact</td>\n",
       "      <td>0.490774</td>\n",
       "    </tr>\n",
       "    <tr>\n",
       "      <th>3</th>\n",
       "      <td>Outcome Unfairess</td>\n",
       "      <td>-0.276927</td>\n",
       "    </tr>\n",
       "    <tr>\n",
       "      <th>4</th>\n",
       "      <td>Average Odds Difference</td>\n",
       "      <td>-0.302140</td>\n",
       "    </tr>\n",
       "    <tr>\n",
       "      <th>5</th>\n",
       "      <td>Equal Opportunity Difference</td>\n",
       "      <td>-0.319902</td>\n",
       "    </tr>\n",
       "  </tbody>\n",
       "</table>\n",
       "</div>"
      ],
      "text/plain": [
       "                         Metric  Logistic Regression\n",
       "0             Balanced Accuracy             0.676400\n",
       "1             Accuracy Equality             0.035523\n",
       "2              Disparate Impact             0.490774\n",
       "3             Outcome Unfairess            -0.276927\n",
       "4       Average Odds Difference            -0.302140\n",
       "5  Equal Opportunity Difference            -0.319902"
      ]
     },
     "execution_count": 87,
     "metadata": {},
     "output_type": "execute_result"
    }
   ],
   "source": [
    "LR_results = {'Metric': ['Balanced Accuracy', 'Accuracy Equality', 'Disparate Impact', 'Outcome Unfairess', 'Average Odds Difference', 'Equal Opportunity Difference'],\n",
    "    'Logistic Regression': [LR_bal_acc, LR_acc_equal, LR_disp_imp, LR_out_unf, LR_avg_odds, LR_eq_odds]}\n",
    "LR_results_df = pd.DataFrame(LR_results)\n",
    "df_to_json(filename = 'LR_results.json', df = LR_results_df)\n",
    "LR_results_df"
   ]
  },
  {
   "cell_type": "markdown",
   "metadata": {},
   "source": [
    "## Applying Bias Mitigation Techniques"
   ]
  },
  {
   "cell_type": "markdown",
   "metadata": {},
   "source": [
    "### Reweighing"
   ]
  },
  {
   "cell_type": "markdown",
   "metadata": {},
   "source": [
    "**Reweighing the dataset**"
   ]
  },
  {
   "cell_type": "code",
   "execution_count": 88,
   "metadata": {},
   "outputs": [],
   "source": [
    "original_train_rw = original_train.copy(deepcopy = True)"
   ]
  },
  {
   "cell_type": "code",
   "execution_count": 89,
   "metadata": {},
   "outputs": [],
   "source": [
    "rw = Reweighing(unprivileged_groups = unprivileged_groups, \n",
    "    privileged_groups = privileged_groups)\n",
    "rw.fit(original_train_rw)\n",
    "reweighed_train = rw.transform(original_train_rw)"
   ]
  },
  {
   "cell_type": "markdown",
   "metadata": {},
   "source": [
    "**Calculating the weights used for each class**\n",
    "\n",
    "The weights are calculated as follows:\n",
    "$$ W_{positive privileged} = \\frac{N_{privileged}*N_{positive}}{N_{all}*N_{positive privileged}} $$"
   ]
  },
  {
   "cell_type": "code",
   "execution_count": 90,
   "metadata": {},
   "outputs": [],
   "source": [
    "def get_weightings(processor, dataset):\n",
    "    priv_cond, unpriv_cond, fav_cond, unfav_cond, \\\n",
    "    cond_p_fav, cond_p_unfav, cond_up_fav, cond_up_unfav = \\\n",
    "        processor._obtain_conditionings(dataset)\n",
    "    \n",
    "    n = np.sum(dataset.instance_weights, dtype = np.float64)\n",
    "    n_p = np.sum(dataset.instance_weights[priv_cond], dtype = np.float64)\n",
    "    n_up = np.sum(dataset.instance_weights[unpriv_cond], dtype = np.float64)\n",
    "    n_fav = np.sum(dataset.instance_weights[fav_cond], dtype = np.float64)\n",
    "    n_unfav = np.sum(dataset.instance_weights[unfav_cond], dtype = np.float64)\n",
    "\n",
    "    n_p_fav = np.sum(dataset.instance_weights[cond_p_fav], dtype = np.float64)\n",
    "    n_p_unfav = np.sum(dataset.instance_weights[cond_p_unfav],\n",
    "        dtype = np.float64)\n",
    "    n_up_fav = np.sum(dataset.instance_weights[cond_up_fav],\n",
    "        dtype = np.float64)\n",
    "    n_up_unfav = np.sum(dataset.instance_weights[cond_up_unfav],\n",
    "        dtype = np.float64)\n",
    "    \n",
    "    w_p_fav = n_fav * n_p / (n * n_p_fav)\n",
    "    w_p_unfav = n_unfav * n_p / (n * n_p_unfav)\n",
    "    w_up_fav = n_fav * n_up / (n * n_up_fav)\n",
    "    w_up_unfav = n_unfav * n_up / (n * n_up_unfav)\n",
    "\n",
    "    weights = {'Race': ['White', 'White', 'Non-White', 'Non-White'],\n",
    "        'Label': [0.0, 1.0, 0.0, 1.0],\n",
    "        'Weight': [w_p_fav, w_p_unfav, w_up_fav, w_up_unfav]}\n",
    "    return weights"
   ]
  },
  {
   "cell_type": "code",
   "execution_count": 91,
   "metadata": {},
   "outputs": [
    {
     "data": {
      "text/markdown": [
       "#### Weights for the Reweighed training data"
      ],
      "text/plain": [
       "<IPython.core.display.Markdown object>"
      ]
     },
     "metadata": {},
     "output_type": "display_data"
    },
    {
     "data": {
      "text/html": [
       "<div>\n",
       "<style scoped>\n",
       "    .dataframe tbody tr th:only-of-type {\n",
       "        vertical-align: middle;\n",
       "    }\n",
       "\n",
       "    .dataframe tbody tr th {\n",
       "        vertical-align: top;\n",
       "    }\n",
       "\n",
       "    .dataframe thead th {\n",
       "        text-align: right;\n",
       "    }\n",
       "</style>\n",
       "<table border=\"1\" class=\"dataframe\">\n",
       "  <thead>\n",
       "    <tr style=\"text-align: right;\">\n",
       "      <th></th>\n",
       "      <th>Race</th>\n",
       "      <th>Label</th>\n",
       "      <th>Weight</th>\n",
       "    </tr>\n",
       "  </thead>\n",
       "  <tbody>\n",
       "    <tr>\n",
       "      <th>0</th>\n",
       "      <td>White</td>\n",
       "      <td>0.0</td>\n",
       "      <td>0.863650</td>\n",
       "    </tr>\n",
       "    <tr>\n",
       "      <th>1</th>\n",
       "      <td>White</td>\n",
       "      <td>1.0</td>\n",
       "      <td>1.218949</td>\n",
       "    </tr>\n",
       "    <tr>\n",
       "      <th>2</th>\n",
       "      <td>Non-White</td>\n",
       "      <td>0.0</td>\n",
       "      <td>1.112318</td>\n",
       "    </tr>\n",
       "    <tr>\n",
       "      <th>3</th>\n",
       "      <td>Non-White</td>\n",
       "      <td>1.0</td>\n",
       "      <td>0.896954</td>\n",
       "    </tr>\n",
       "  </tbody>\n",
       "</table>\n",
       "</div>"
      ],
      "text/plain": [
       "        Race  Label    Weight\n",
       "0      White    0.0  0.863650\n",
       "1      White    1.0  1.218949\n",
       "2  Non-White    0.0  1.112318\n",
       "3  Non-White    1.0  0.896954"
      ]
     },
     "execution_count": 91,
     "metadata": {},
     "output_type": "execute_result"
    }
   ],
   "source": [
    "updated_weights = get_weightings(processor = rw, dataset = original_train_rw)\n",
    "updated_weights = pd.DataFrame(updated_weights)\n",
    "display(Markdown('#### Weights for the Reweighed training data'))\n",
    "updated_weights"
   ]
  },
  {
   "cell_type": "markdown",
   "metadata": {},
   "source": [
    "**Calculating fairness metrics on the reweighed dataset**"
   ]
  },
  {
   "cell_type": "code",
   "execution_count": 92,
   "metadata": {},
   "outputs": [],
   "source": [
    "assert np.abs(reweighed_train.instance_weights.sum() \n",
    "    - original_train_rw.instance_weights.sum()) < 1e-6"
   ]
  },
  {
   "cell_type": "code",
   "execution_count": 94,
   "metadata": {},
   "outputs": [
    {
     "data": {
      "text/markdown": [
       "#### Reweighed COMPAS training data"
      ],
      "text/plain": [
       "<IPython.core.display.Markdown object>"
      ]
     },
     "metadata": {},
     "output_type": "display_data"
    },
    {
     "name": "stdout",
     "output_type": "stream",
     "text": [
      "Disparate impact (probability of favorable outcome for unprivileged instances / probability of favorable outcome for privileged instances): 0.9999999999999998\n",
      "Train set: Difference in mean outcomes between unprivileged and privileged groups = -0.000000\n"
     ]
    }
   ],
   "source": [
    "reweighed_metric = BinaryLabelDatasetMetric(reweighed_train, \n",
    "    unprivileged_groups = unprivileged_groups, privileged_groups = privileged_groups)\n",
    "reweighed_explainer = MetricTextExplainer(reweighed_metric)\n",
    "display(Markdown('#### Reweighed COMPAS training data'))\n",
    "print(reweighed_explainer.disparate_impact())\n",
    "reweighed_train_metric = BinaryLabelDatasetMetric(reweighed_train, \n",
    "    unprivileged_groups = unprivileged_groups, privileged_groups = privileged_groups)\n",
    "print(\"Train set: Difference in mean outcomes between unprivileged and privileged groups = %f\" % reweighed_train_metric.mean_difference())"
   ]
  },
  {
   "cell_type": "code",
   "execution_count": 95,
   "metadata": {},
   "outputs": [],
   "source": [
    "assert np.abs(reweighed_metric.mean_difference()) < 1e-6"
   ]
  },
  {
   "cell_type": "markdown",
   "metadata": {},
   "source": [
    "**Training LR model on the reweighed data**"
   ]
  },
  {
   "cell_type": "code",
   "execution_count": 96,
   "metadata": {},
   "outputs": [],
   "source": [
    "reweighed_scaler = StandardScaler()\n",
    "X_train_rw = reweighed_scaler.fit_transform(reweighed_train.features)\n",
    "y_train_rw = reweighed_train.labels.ravel()"
   ]
  },
  {
   "cell_type": "code",
   "execution_count": 97,
   "metadata": {},
   "outputs": [],
   "source": [
    "lr = LogisticRegression()\n",
    "lr.fit(X_train_rw, y_train_rw, sample_weight = reweighed_train.instance_weights)\n",
    "y_train_preds_rw = lr.predict(X_train_rw)"
   ]
  },
  {
   "cell_type": "code",
   "execution_count": 98,
   "metadata": {},
   "outputs": [],
   "source": [
    "reweighed_test_preds = original_test.copy(deepcopy = True)\n",
    "X_test_rw = reweighed_scaler.fit_transform(reweighed_test_preds.features)\n",
    "y_test_rw = reweighed_test_preds.labels\n",
    "reweighed_test_preds.scores = lr.predict_proba(X_test_rw)[:, pos_ind].reshape(-1, 1)"
   ]
  },
  {
   "cell_type": "markdown",
   "metadata": {},
   "source": [
    "**Calculating results over all classification thresholds**"
   ]
  },
  {
   "cell_type": "code",
   "execution_count": 99,
   "metadata": {},
   "outputs": [
    {
     "data": {
      "text/markdown": [
       "#### Predictions from the transformed testing data"
      ],
      "text/plain": [
       "<IPython.core.display.Markdown object>"
      ]
     },
     "metadata": {},
     "output_type": "display_data"
    },
    {
     "name": "stderr",
     "output_type": "stream",
     "text": [
      " 69%|██████▉   | 69/100 [00:00<00:00, 320.30it/s]"
     ]
    },
    {
     "name": "stdout",
     "output_type": "stream",
     "text": [
      "Classification threshold used: 0.5445\n",
      "Balanced accuracy = 0.6567\n",
      "Statistical parity difference = 0.0005\n",
      "Disparate impact = 1.0010\n",
      "Average odds difference = 0.0370\n",
      "Equal opportunity difference = 0.0357\n",
      "Theil index = 0.2449\n"
     ]
    },
    {
     "name": "stderr",
     "output_type": "stream",
     "text": [
      "divide by zero encountered in double_scalars\n",
      "invalid value encountered in double_scalars\n",
      "100%|██████████| 100/100 [00:00<00:00, 352.91it/s]\n"
     ]
    }
   ],
   "source": [
    "RW_bal_acc_arr = []\n",
    "RW_disp_imp_arr = []\n",
    "RW_avg_odds_diff_arr = []\n",
    "RW_eq_opp_diff_arr = []\n",
    "RW_outcome_unfair_arr = []\n",
    "RW_acc_equal_arr = []\n",
    "\n",
    "display(Markdown('#### Predictions from the transformed testing data'))\n",
    "print('Classification threshold used: %.4f' % best_class_thresh)\n",
    "\n",
    "for thresh in tqdm(class_thresh_arr):\n",
    "    if thresh == best_class_thresh:\n",
    "        disp = True\n",
    "    else:\n",
    "        disp = False\n",
    "    fav_inds = reweighed_test_preds.scores > thresh\n",
    "    reweighed_test_preds.labels[fav_inds] = reweighed_test_preds.favorable_label\n",
    "    reweighed_test_preds.labels[~fav_inds] = reweighed_test_preds.unfavorable_label\n",
    "    \n",
    "    rw_metric_test = compute_metrics(original_test, reweighed_test_preds, \n",
    "        unprivileged_groups, privileged_groups, disp = disp)\n",
    "    rw_class_metric_test = ClassificationMetric(original_test, reweighed_test_preds, \\\n",
    "        unprivileged_groups, privileged_groups)\n",
    "    \n",
    "    RW_bal_acc_arr.append(rw_metric_test['Balanced accuracy'])\n",
    "    RW_avg_odds_diff_arr.append(rw_metric_test['Average odds difference'])\n",
    "    RW_disp_imp_arr.append(rw_metric_test['Disparate impact'])\n",
    "    RW_eq_opp_diff_arr.append(rw_metric_test['Equal opportunity difference'])\n",
    "    RW_outcome_unfair_arr.append(rw_class_metric_test.false_discovery_rate_difference() \\\n",
    "        + rw_class_metric_test.false_positive_rate_difference())\n",
    "    RW_acc_equal_arr.append((rw_class_metric_test.true_positive_rate(privileged = True) + \\\n",
    "        rw_class_metric_test.true_negative_rate(privileged = True)) - \\\n",
    "            (rw_class_metric_test.true_positive_rate(privileged = False) + \\\n",
    "                rw_class_metric_test.true_negative_rate(privileged = False)))"
   ]
  },
  {
   "cell_type": "code",
   "execution_count": 100,
   "metadata": {},
   "outputs": [],
   "source": [
    "save_to_json(filename = 'RW_bal_acc_arr.json', data = RW_bal_acc_arr)\n",
    "save_to_json(filename = 'RW_disp_imp_arr.json', data = RW_disp_imp_arr)\n",
    "save_to_json(filename = 'RW_avg_odds_diff_arr.json', data = RW_avg_odds_diff_arr)\n",
    "save_to_json(filename = 'RW_eq_opp_diff_arr.json', data = RW_eq_opp_diff_arr)\n",
    "save_to_json(filename = 'RW_outcome_unfair_arr.json', data = RW_outcome_unfair_arr)\n",
    "save_to_json(filename = 'RW_acc_equal_arr.json', data = RW_acc_equal_arr)"
   ]
  },
  {
   "cell_type": "markdown",
   "metadata": {},
   "source": [
    "**Calculating results at the best classification threshold**"
   ]
  },
  {
   "cell_type": "code",
   "execution_count": 101,
   "metadata": {},
   "outputs": [],
   "source": [
    "RW_bal_acc = np.interp(best_class_thresh, class_thresh_arr, RW_bal_acc_arr)\n",
    "RW_acc_equal = np.interp(best_class_thresh, class_thresh_arr, RW_acc_equal_arr)\n",
    "RW_disp_imp = np.interp(best_class_thresh, class_thresh_arr, RW_disp_imp_arr)\n",
    "RW_out_unf = np.interp(best_class_thresh, class_thresh_arr, RW_outcome_unfair_arr)\n",
    "RW_avg_odds = np.interp(best_class_thresh, class_thresh_arr, RW_avg_odds_diff_arr)\n",
    "RW_eq_odds = np.interp(best_class_thresh, class_thresh_arr, RW_eq_opp_diff_arr)"
   ]
  },
  {
   "cell_type": "code",
   "execution_count": 102,
   "metadata": {},
   "outputs": [
    {
     "data": {
      "text/html": [
       "<div>\n",
       "<style scoped>\n",
       "    .dataframe tbody tr th:only-of-type {\n",
       "        vertical-align: middle;\n",
       "    }\n",
       "\n",
       "    .dataframe tbody tr th {\n",
       "        vertical-align: top;\n",
       "    }\n",
       "\n",
       "    .dataframe thead th {\n",
       "        text-align: right;\n",
       "    }\n",
       "</style>\n",
       "<table border=\"1\" class=\"dataframe\">\n",
       "  <thead>\n",
       "    <tr style=\"text-align: right;\">\n",
       "      <th></th>\n",
       "      <th>Metric</th>\n",
       "      <th>Reweighing</th>\n",
       "    </tr>\n",
       "  </thead>\n",
       "  <tbody>\n",
       "    <tr>\n",
       "      <th>0</th>\n",
       "      <td>Balanced Accuracy</td>\n",
       "      <td>0.656675</td>\n",
       "    </tr>\n",
       "    <tr>\n",
       "      <th>1</th>\n",
       "      <td>Accuracy Equality</td>\n",
       "      <td>0.002596</td>\n",
       "    </tr>\n",
       "    <tr>\n",
       "      <th>2</th>\n",
       "      <td>Disparate Impact</td>\n",
       "      <td>1.001024</td>\n",
       "    </tr>\n",
       "    <tr>\n",
       "      <th>3</th>\n",
       "      <td>Outcome Unfairess</td>\n",
       "      <td>0.151314</td>\n",
       "    </tr>\n",
       "    <tr>\n",
       "      <th>4</th>\n",
       "      <td>Average Odds Difference</td>\n",
       "      <td>0.037048</td>\n",
       "    </tr>\n",
       "    <tr>\n",
       "      <th>5</th>\n",
       "      <td>Equal Opportunity Difference</td>\n",
       "      <td>0.035749</td>\n",
       "    </tr>\n",
       "  </tbody>\n",
       "</table>\n",
       "</div>"
      ],
      "text/plain": [
       "                         Metric  Reweighing\n",
       "0             Balanced Accuracy    0.656675\n",
       "1             Accuracy Equality    0.002596\n",
       "2              Disparate Impact    1.001024\n",
       "3             Outcome Unfairess    0.151314\n",
       "4       Average Odds Difference    0.037048\n",
       "5  Equal Opportunity Difference    0.035749"
      ]
     },
     "execution_count": 102,
     "metadata": {},
     "output_type": "execute_result"
    }
   ],
   "source": [
    "RW_results = {'Metric': ['Balanced Accuracy', 'Accuracy Equality', 'Disparate Impact', 'Outcome Unfairess', 'Average Odds Difference', 'Equal Opportunity Difference'],\n",
    "    'Reweighing': [RW_bal_acc, RW_acc_equal, RW_disp_imp, RW_out_unf, RW_avg_odds, RW_eq_odds]}\n",
    "RW_results_df = pd.DataFrame(RW_results)\n",
    "df_to_json(filename = 'RW_results.json', df = RW_results_df)\n",
    "RW_results_df"
   ]
  },
  {
   "cell_type": "markdown",
   "metadata": {},
   "source": [
    "### Prejudice Remover"
   ]
  },
  {
   "cell_type": "code",
   "execution_count": 43,
   "metadata": {},
   "outputs": [],
   "source": [
    "original_train_pr = original_train.copy(deepcopy = True)\n",
    "\n",
    "sens_ind = 0\n",
    "sens_attr = original_train_pr.protected_attribute_names[sens_ind]\n",
    "\n",
    "unprivileged_groups = [{sens_attr: v} for v in original_train_pr.unprivileged_protected_attributes[sens_ind]]\n",
    "privileged_groups = [{sens_attr: v} for v in original_train_pr.privileged_protected_attributes[sens_ind]]"
   ]
  },
  {
   "cell_type": "code",
   "execution_count": 44,
   "metadata": {},
   "outputs": [],
   "source": [
    "pr = PrejudiceRemover(sensitive_attr = sens_attr, eta = 10000)\n",
    "pred_scaler = StandardScaler()\n",
    "pred_train = original_train_pr.copy()\n",
    "pred_train.features = pred_scaler.fit_transform(pred_train.features)\n",
    "pr = pr.fit(pred_train)"
   ]
  },
  {
   "cell_type": "code",
   "execution_count": 45,
   "metadata": {},
   "outputs": [],
   "source": [
    "pred_val = original_val.copy(deepcopy = True)\n",
    "pred_val.features = pred_scaler.transform(pred_val.features)\n",
    "y_train_preds_pr = pr.predict(pred_train).scores"
   ]
  },
  {
   "cell_type": "code",
   "execution_count": 46,
   "metadata": {},
   "outputs": [],
   "source": [
    "PR_bal_acc_arr = []\n",
    "PR_disp_imp_arr = []\n",
    "PR_avg_odds_diff_arr = []\n",
    "PR_eq_opp_diff_arr = []\n",
    "PR_outcome_unfair_arr = []\n",
    "PR_acc_equal_arr = []"
   ]
  },
  {
   "cell_type": "code",
   "execution_count": 47,
   "metadata": {},
   "outputs": [],
   "source": [
    "save_to_json(filename = 'PR_bal_acc_arr.json', data = PR_bal_acc_arr)\n",
    "save_to_json(filename = 'PR_disp_imp_arr.json', data = PR_disp_imp_arr)\n",
    "save_to_json(filename = 'PR_avg_odds_diff_arr.json', data = PR_avg_odds_diff_arr)\n",
    "save_to_json(filename = 'PR_eq_opp_diff_arr.json', data = PR_eq_opp_diff_arr)\n",
    "save_to_json(filename = 'PR_outcome_unfair_arr.json', data = PR_outcome_unfair_arr)\n",
    "save_to_json(filename = 'PR_acc_equal_arr.json', data = PR_acc_equal_arr)"
   ]
  },
  {
   "cell_type": "code",
   "execution_count": 48,
   "metadata": {},
   "outputs": [
    {
     "name": "stderr",
     "output_type": "stream",
     "text": [
      "  0%|          | 0/100 [00:00<?, ?it/s]invalid value encountered in double_scalars\n",
      " 81%|████████  | 81/100 [00:00<00:00, 150.65it/s]"
     ]
    },
    {
     "name": "stdout",
     "output_type": "stream",
     "text": [
      "Balanced accuracy = 0.4438\n",
      "Statistical parity difference = -0.0135\n",
      "Disparate impact = 0.9781\n",
      "Average odds difference = -0.0042\n",
      "Equal opportunity difference = -0.2008\n",
      "Theil index = 0.3295\n"
     ]
    },
    {
     "name": "stderr",
     "output_type": "stream",
     "text": [
      "100%|██████████| 100/100 [00:00<00:00, 160.07it/s]\n"
     ]
    }
   ],
   "source": [
    "for thresh in tqdm(class_thresh_arr):\n",
    "    if thresh == best_class_thresh:\n",
    "        disp = True\n",
    "    else:\n",
    "        disp = False\n",
    "\n",
    "    y_val_preds = (y_train_preds_pr[:, pos_ind] > thresh).astype(np.float64)\n",
    "    pred_test_preds = pred_train.copy()\n",
    "    pred_test_preds.labels = y_val_preds\n",
    "    \n",
    "    pr_metric_test = compute_metrics(pred_train, pred_test_preds, \n",
    "        unprivileged_groups, privileged_groups, disp = disp)\n",
    "    pr_class_metric_test = ClassificationMetric(pred_train, pred_test_preds, \\\n",
    "        unprivileged_groups, privileged_groups)\n",
    "    \n",
    "    PR_bal_acc_arr.append(pr_metric_test['Balanced accuracy'])\n",
    "    PR_avg_odds_diff_arr.append(pr_metric_test['Average odds difference'])\n",
    "    PR_disp_imp_arr.append(pr_metric_test['Disparate impact'])\n",
    "    PR_eq_opp_diff_arr.append(pr_metric_test['Equal opportunity difference'])\n",
    "    PR_outcome_unfair_arr.append(pr_class_metric_test.false_discovery_rate_difference() \\\n",
    "        + pr_class_metric_test.false_positive_rate_difference())\n",
    "    PR_acc_equal_arr.append((pr_class_metric_test.true_positive_rate(privileged = True) + \\\n",
    "        pr_class_metric_test.true_negative_rate(privileged = True)) - \\\n",
    "            (pr_class_metric_test.true_positive_rate(privileged = False) + \\\n",
    "                pr_class_metric_test.true_negative_rate(privileged = False)))"
   ]
  },
  {
   "cell_type": "code",
   "execution_count": 49,
   "metadata": {},
   "outputs": [],
   "source": [
    "PR_bal_acc = np.interp(best_class_thresh, class_thresh_arr, PR_bal_acc_arr)\n",
    "PR_acc_equal = np.interp(best_class_thresh, class_thresh_arr, PR_acc_equal_arr)\n",
    "PR_disp_imp = np.interp(best_class_thresh, class_thresh_arr, PR_disp_imp_arr)\n",
    "PR_out_unf = np.interp(best_class_thresh, class_thresh_arr, PR_outcome_unfair_arr)\n",
    "PR_avg_odds = np.interp(best_class_thresh, class_thresh_arr, PR_avg_odds_diff_arr)\n",
    "PR_eq_odds = np.interp(best_class_thresh, class_thresh_arr, PR_eq_opp_diff_arr)"
   ]
  },
  {
   "cell_type": "code",
   "execution_count": 50,
   "metadata": {},
   "outputs": [
    {
     "data": {
      "text/html": [
       "<div>\n",
       "<style scoped>\n",
       "    .dataframe tbody tr th:only-of-type {\n",
       "        vertical-align: middle;\n",
       "    }\n",
       "\n",
       "    .dataframe tbody tr th {\n",
       "        vertical-align: top;\n",
       "    }\n",
       "\n",
       "    .dataframe thead th {\n",
       "        text-align: right;\n",
       "    }\n",
       "</style>\n",
       "<table border=\"1\" class=\"dataframe\">\n",
       "  <thead>\n",
       "    <tr style=\"text-align: right;\">\n",
       "      <th></th>\n",
       "      <th>Metric</th>\n",
       "      <th>Prejudice Remover</th>\n",
       "    </tr>\n",
       "  </thead>\n",
       "  <tbody>\n",
       "    <tr>\n",
       "      <th>0</th>\n",
       "      <td>Balanced Accuracy</td>\n",
       "      <td>0.443809</td>\n",
       "    </tr>\n",
       "    <tr>\n",
       "      <th>1</th>\n",
       "      <td>Accuracy Equality</td>\n",
       "      <td>0.393082</td>\n",
       "    </tr>\n",
       "    <tr>\n",
       "      <th>2</th>\n",
       "      <td>Disparate Impact</td>\n",
       "      <td>0.978114</td>\n",
       "    </tr>\n",
       "    <tr>\n",
       "      <th>3</th>\n",
       "      <td>Outcome Unfairess</td>\n",
       "      <td>0.488907</td>\n",
       "    </tr>\n",
       "    <tr>\n",
       "      <th>4</th>\n",
       "      <td>Average Odds Difference</td>\n",
       "      <td>-0.004250</td>\n",
       "    </tr>\n",
       "    <tr>\n",
       "      <th>5</th>\n",
       "      <td>Equal Opportunity Difference</td>\n",
       "      <td>-0.200791</td>\n",
       "    </tr>\n",
       "  </tbody>\n",
       "</table>\n",
       "</div>"
      ],
      "text/plain": [
       "                         Metric  Prejudice Remover\n",
       "0             Balanced Accuracy           0.443809\n",
       "1             Accuracy Equality           0.393082\n",
       "2              Disparate Impact           0.978114\n",
       "3             Outcome Unfairess           0.488907\n",
       "4       Average Odds Difference          -0.004250\n",
       "5  Equal Opportunity Difference          -0.200791"
      ]
     },
     "execution_count": 50,
     "metadata": {},
     "output_type": "execute_result"
    }
   ],
   "source": [
    "PR_results = {'Metric': ['Balanced Accuracy', 'Accuracy Equality', 'Disparate Impact', 'Outcome Unfairess', 'Average Odds Difference', 'Equal Opportunity Difference'],\n",
    "    'Prejudice Remover': [PR_bal_acc, PR_acc_equal, PR_disp_imp, PR_out_unf, PR_avg_odds, PR_eq_odds]}\n",
    "PR_results_df = pd.DataFrame(PR_results)\n",
    "df_to_json(filename = 'PR_results.json', df = PR_results_df)\n",
    "PR_results_df"
   ]
  },
  {
   "cell_type": "markdown",
   "metadata": {},
   "source": [
    "### Adversarial Debiasing"
   ]
  },
  {
   "cell_type": "code",
   "execution_count": 103,
   "metadata": {},
   "outputs": [],
   "source": [
    "# session.close()\n",
    "# tf.reset_default_graph()\n",
    "session = tf.Session()"
   ]
  },
  {
   "cell_type": "code",
   "execution_count": 104,
   "metadata": {},
   "outputs": [],
   "source": [
    "X, y = fetch_compas(binary_race = True)\n",
    "X.index = pd.MultiIndex.from_arrays(X.index.codes, names = X.index.names)\n",
    "y.index = pd.MultiIndex.from_arrays(y.index.codes, names = y.index.names)\n",
    "y = 1 - pd.Series(y.factorize(sort = True)[0], index = y.index)"
   ]
  },
  {
   "cell_type": "code",
   "execution_count": 105,
   "metadata": {},
   "outputs": [],
   "source": [
    "X_train, X_test, y_train, y_test = train_test_split(X, y, random_state = 1234567)\n",
    "data_preproc = make_column_transformer((OneHotEncoder(sparse = False, handle_unknown = 'ignore'), \n",
    "        X_train.dtypes == 'category'), remainder = StandardScaler())\n",
    "X_train = pd.DataFrame(data_preproc.fit_transform(X_train), index = X_train.index)\n",
    "X_test = pd.DataFrame(data_preproc.transform(X_test), index = X_test.index)"
   ]
  },
  {
   "cell_type": "markdown",
   "metadata": {},
   "source": [
    "**Hyperparameter Training: finding optimal adversary loss weight**"
   ]
  },
  {
   "cell_type": "code",
   "execution_count": 106,
   "metadata": {},
   "outputs": [],
   "source": [
    "def find_loss_weights(loss_weights):\n",
    "    weights = {'Adversarial Loss Weight': [], 'Mean Accuracy': []}\n",
    "    for weight in loss_weights:\n",
    "        ad = SKLearnAdversarialDebiasing(prot_attr = 'race', adversary_loss_weight = weight)\n",
    "        ad = ad.fit(X_train, y_train)\n",
    "        acc_score = ad.score(X_train, y_train)\n",
    "        weights['Adversarial Loss Weight'].append(weight)\n",
    "        weights['Mean Accuracy'].append(acc_score)\n",
    "    return pd.DataFrame(weights)"
   ]
  },
  {
   "cell_type": "code",
   "execution_count": 108,
   "metadata": {},
   "outputs": [],
   "source": [
    "loss_weights = [i for i in np.linspace(0.01, 1.0, 100)]\n",
    "weights = find_loss_weights(loss_weights = loss_weights)"
   ]
  },
  {
   "cell_type": "code",
   "execution_count": 98,
   "metadata": {},
   "outputs": [],
   "source": [
    "def plot_params(param, metric, param_data, best_x, best_y, title, file_name):\n",
    "    plt.figure(figsize = (12, 8))\n",
    "    sns.set_style('whitegrid')\n",
    "    ax = sns.lineplot(x = param, y = metric, data = param_data, color = '#6aac6c')\n",
    "    if param == 'Adversarial Loss Weight':\n",
    "        ax.annotate(s = ' x = {:.2f}, y = {:.2f}'.format(best_x, best_y), xy = (best_x, best_y))\n",
    "    elif param == 'Number of Hidden Units':\n",
    "        ax.annotate(s = ' x = {:}, \\n y = {:.2f}'.format(best_x, best_y), xy = (best_x, best_y))\n",
    "    plt.title(title)\n",
    "    plt.savefig(file_name, bbox_inches = 'tight')"
   ]
  },
  {
   "cell_type": "code",
   "execution_count": 109,
   "metadata": {},
   "outputs": [
    {
     "name": "stdout",
     "output_type": "stream",
     "text": [
      "    Adversarial Loss Weight  Mean Accuracy\n",
      "16                     0.17        0.78958\n"
     ]
    }
   ],
   "source": [
    "max = weights['Mean Accuracy'].max()\n",
    "weight = weights.loc[weights['Mean Accuracy'] == max]\n",
    "print(weight)"
   ]
  },
  {
   "cell_type": "code",
   "execution_count": 110,
   "metadata": {},
   "outputs": [
    {
     "data": {
      "image/png": "[encoded data removed]",
      "text/plain": [
       "<Figure size 864x576 with 1 Axes>"
      ]
     },
     "metadata": {},
     "output_type": "display_data"
    }
   ],
   "source": [
    "plot_params(param = 'Adversarial Loss Weight', metric = 'Mean Accuracy', \n",
    "    param_data = weights, best_x = 0.17, best_y = 0.78958,\n",
    "    file_name = 'debiased_params_weights.png',\n",
    "    title = 'Adversarial Debiasing Hyperparameter Tuning: Adversarial Loss Weight')"
   ]
  },
  {
   "cell_type": "markdown",
   "metadata": {},
   "source": [
    "**Hyperparameter Training: finding optimal number of hidden units**"
   ]
  },
  {
   "cell_type": "code",
   "execution_count": 111,
   "metadata": {},
   "outputs": [],
   "source": [
    "def find_hidden_units(num_hidden_units):\n",
    "    units = {'Number of Hidden Units': [], 'Mean Accuracy': []}\n",
    "    for unit in num_hidden_units:\n",
    "        ad = SKLearnAdversarialDebiasing(prot_attr = 'race', classifier_num_hidden_units = unit)\n",
    "        ad.fit(X_train, y_train)\n",
    "        acc_score = ad.score(X_train, y_train)\n",
    "        units['Number of Hidden Units'].append(unit)\n",
    "        units['Mean Accuracy'].append(acc_score)\n",
    "    return pd.DataFrame(units)"
   ]
  },
  {
   "cell_type": "code",
   "execution_count": 112,
   "metadata": {},
   "outputs": [],
   "source": [
    "num_hidden_units = [int(i) for i in np.linspace(1, 500, 100)]\n",
    "units = find_hidden_units(num_hidden_units = num_hidden_units)"
   ]
  },
  {
   "cell_type": "code",
   "execution_count": 113,
   "metadata": {},
   "outputs": [
    {
     "name": "stdout",
     "output_type": "stream",
     "text": [
      "    Number of Hidden Units  Mean Accuracy\n",
      "96                     484       0.810572\n"
     ]
    }
   ],
   "source": [
    "max = units['Mean Accuracy'].max()\n",
    "unit = units.loc[units['Mean Accuracy'] == max]\n",
    "print(unit)"
   ]
  },
  {
   "cell_type": "code",
   "execution_count": 114,
   "metadata": {},
   "outputs": [
    {
     "data": {
      "image/png": "[encoded data removed]",
      "text/plain": [
       "<Figure size 864x576 with 1 Axes>"
      ]
     },
     "metadata": {},
     "output_type": "display_data"
    }
   ],
   "source": [
    "plot_params(param = 'Number of Hidden Units', param_data = units, metric = 'Mean Accuracy',\n",
    "    title = 'Adversarial Debiasing Hyperparameter Tuning: Number of hidden units in the classifier', \n",
    "    file_name = 'debiased_params_units.png', best_x = 484, best_y = 0.810572)"
   ]
  },
  {
   "cell_type": "markdown",
   "metadata": {},
   "source": [
    "**Training AD model with optimal hyperparameters**"
   ]
  },
  {
   "cell_type": "code",
   "execution_count": 109,
   "metadata": {},
   "outputs": [],
   "source": [
    "session.close()\n",
    "tf.reset_default_graph()\n",
    "session = tf.Session()"
   ]
  },
  {
   "cell_type": "code",
   "execution_count": 110,
   "metadata": {},
   "outputs": [
    {
     "name": "stdout",
     "output_type": "stream",
     "text": [
      "WARNING:tensorflow:From /opt/anaconda3/lib/python3.7/site-packages/tensorflow/python/util/dispatch.py:1082: calling dropout (from tensorflow.python.ops.nn_ops) with keep_prob is deprecated and will be removed in a future version.\n",
      "Instructions for updating:\n",
      "Please use `rate` instead of `keep_prob`. Rate should be set to `rate = 1 - keep_prob`.\n",
      "epoch 0; iter: 0; batch classifier loss: 0.722300; batch adversarial loss: 0.682827\n",
      "epoch 0; iter: 200; batch classifier loss: 0.356867; batch adversarial loss: 0.707636\n",
      "epoch 0; iter: 400; batch classifier loss: 0.785977; batch adversarial loss: 0.778352\n",
      "epoch 1; iter: 0; batch classifier loss: 0.542411; batch adversarial loss: 0.734039\n",
      "epoch 1; iter: 200; batch classifier loss: 0.671310; batch adversarial loss: 0.689579\n",
      "epoch 1; iter: 400; batch classifier loss: 0.668131; batch adversarial loss: 0.641760\n",
      "epoch 2; iter: 0; batch classifier loss: 0.746552; batch adversarial loss: 0.684859\n",
      "epoch 2; iter: 200; batch classifier loss: 0.466131; batch adversarial loss: 0.711479\n",
      "epoch 2; iter: 400; batch classifier loss: 0.888480; batch adversarial loss: 0.631398\n",
      "epoch 3; iter: 0; batch classifier loss: 0.576691; batch adversarial loss: 0.706112\n",
      "epoch 3; iter: 200; batch classifier loss: 0.752144; batch adversarial loss: 0.660618\n",
      "epoch 3; iter: 400; batch classifier loss: 0.529915; batch adversarial loss: 0.661009\n",
      "epoch 4; iter: 0; batch classifier loss: 0.767163; batch adversarial loss: 0.583048\n",
      "epoch 4; iter: 200; batch classifier loss: 0.566433; batch adversarial loss: 0.678416\n",
      "epoch 4; iter: 400; batch classifier loss: 0.625862; batch adversarial loss: 0.541961\n",
      "epoch 5; iter: 0; batch classifier loss: 0.978240; batch adversarial loss: 0.626688\n",
      "epoch 5; iter: 200; batch classifier loss: 0.595284; batch adversarial loss: 0.665619\n",
      "epoch 5; iter: 400; batch classifier loss: 0.689626; batch adversarial loss: 0.544255\n",
      "epoch 6; iter: 0; batch classifier loss: 0.714566; batch adversarial loss: 0.566568\n",
      "epoch 6; iter: 200; batch classifier loss: 0.544150; batch adversarial loss: 0.645086\n",
      "epoch 6; iter: 400; batch classifier loss: 0.637072; batch adversarial loss: 0.601688\n",
      "epoch 7; iter: 0; batch classifier loss: 0.455096; batch adversarial loss: 0.600427\n",
      "epoch 7; iter: 200; batch classifier loss: 0.602200; batch adversarial loss: 0.678743\n",
      "epoch 7; iter: 400; batch classifier loss: 0.406912; batch adversarial loss: 0.600609\n",
      "epoch 8; iter: 0; batch classifier loss: 0.679362; batch adversarial loss: 0.524434\n",
      "epoch 8; iter: 200; batch classifier loss: 0.816267; batch adversarial loss: 0.752802\n",
      "epoch 8; iter: 400; batch classifier loss: 0.651119; batch adversarial loss: 0.801067\n",
      "epoch 9; iter: 0; batch classifier loss: 0.556864; batch adversarial loss: 0.600211\n",
      "epoch 9; iter: 200; batch classifier loss: 0.657951; batch adversarial loss: 0.700676\n",
      "epoch 9; iter: 400; batch classifier loss: 0.597898; batch adversarial loss: 0.671643\n",
      "epoch 10; iter: 0; batch classifier loss: 0.588104; batch adversarial loss: 0.582881\n",
      "epoch 10; iter: 200; batch classifier loss: 0.603078; batch adversarial loss: 0.460323\n",
      "epoch 10; iter: 400; batch classifier loss: 0.693130; batch adversarial loss: 0.566409\n",
      "epoch 11; iter: 0; batch classifier loss: 0.674684; batch adversarial loss: 0.689883\n",
      "epoch 11; iter: 200; batch classifier loss: 0.647810; batch adversarial loss: 0.573144\n",
      "epoch 11; iter: 400; batch classifier loss: 0.778752; batch adversarial loss: 0.671030\n",
      "epoch 12; iter: 0; batch classifier loss: 0.568783; batch adversarial loss: 0.644875\n",
      "epoch 12; iter: 200; batch classifier loss: 0.558091; batch adversarial loss: 0.691544\n",
      "epoch 12; iter: 400; batch classifier loss: 0.676244; batch adversarial loss: 0.739100\n",
      "epoch 13; iter: 0; batch classifier loss: 0.519855; batch adversarial loss: 0.712761\n",
      "epoch 13; iter: 200; batch classifier loss: 0.479457; batch adversarial loss: 0.787799\n",
      "epoch 13; iter: 400; batch classifier loss: 0.701952; batch adversarial loss: 0.544005\n",
      "epoch 14; iter: 0; batch classifier loss: 0.752171; batch adversarial loss: 0.703911\n",
      "epoch 14; iter: 200; batch classifier loss: 0.654051; batch adversarial loss: 0.648221\n",
      "epoch 14; iter: 400; batch classifier loss: 0.827031; batch adversarial loss: 0.642866\n",
      "epoch 15; iter: 0; batch classifier loss: 0.664187; batch adversarial loss: 0.657084\n",
      "epoch 15; iter: 200; batch classifier loss: 0.498635; batch adversarial loss: 0.717685\n",
      "epoch 15; iter: 400; batch classifier loss: 0.446700; batch adversarial loss: 0.565943\n",
      "epoch 16; iter: 0; batch classifier loss: 0.813805; batch adversarial loss: 0.736969\n",
      "epoch 16; iter: 200; batch classifier loss: 0.611396; batch adversarial loss: 0.850580\n",
      "epoch 16; iter: 400; batch classifier loss: 0.296466; batch adversarial loss: 0.640334\n",
      "epoch 17; iter: 0; batch classifier loss: 0.374729; batch adversarial loss: 0.563156\n",
      "epoch 17; iter: 200; batch classifier loss: 0.326428; batch adversarial loss: 0.570082\n",
      "epoch 17; iter: 400; batch classifier loss: 0.701695; batch adversarial loss: 0.516517\n",
      "epoch 18; iter: 0; batch classifier loss: 0.692915; batch adversarial loss: 0.734163\n",
      "epoch 18; iter: 200; batch classifier loss: 0.538273; batch adversarial loss: 0.760379\n",
      "epoch 18; iter: 400; batch classifier loss: 0.604534; batch adversarial loss: 0.742192\n",
      "epoch 19; iter: 0; batch classifier loss: 0.371790; batch adversarial loss: 0.661079\n",
      "epoch 19; iter: 200; batch classifier loss: 0.828477; batch adversarial loss: 0.668405\n",
      "epoch 19; iter: 400; batch classifier loss: 0.742263; batch adversarial loss: 0.537201\n",
      "epoch 20; iter: 0; batch classifier loss: 0.594788; batch adversarial loss: 0.654992\n",
      "epoch 20; iter: 200; batch classifier loss: 0.564475; batch adversarial loss: 0.760523\n",
      "epoch 20; iter: 400; batch classifier loss: 0.526076; batch adversarial loss: 0.680463\n",
      "epoch 21; iter: 0; batch classifier loss: 0.612893; batch adversarial loss: 0.467657\n",
      "epoch 21; iter: 200; batch classifier loss: 0.612046; batch adversarial loss: 0.700999\n",
      "epoch 21; iter: 400; batch classifier loss: 0.445364; batch adversarial loss: 0.723227\n",
      "epoch 22; iter: 0; batch classifier loss: 0.425005; batch adversarial loss: 0.654748\n",
      "epoch 22; iter: 200; batch classifier loss: 0.610099; batch adversarial loss: 0.562210\n",
      "epoch 22; iter: 400; batch classifier loss: 0.670736; batch adversarial loss: 0.614403\n",
      "epoch 23; iter: 0; batch classifier loss: 0.647322; batch adversarial loss: 0.696879\n",
      "epoch 23; iter: 200; batch classifier loss: 0.612155; batch adversarial loss: 0.666217\n",
      "epoch 23; iter: 400; batch classifier loss: 0.617463; batch adversarial loss: 0.628118\n",
      "epoch 24; iter: 0; batch classifier loss: 0.722606; batch adversarial loss: 0.741335\n",
      "epoch 24; iter: 200; batch classifier loss: 0.478668; batch adversarial loss: 0.627276\n",
      "epoch 24; iter: 400; batch classifier loss: 0.639984; batch adversarial loss: 0.904515\n",
      "epoch 25; iter: 0; batch classifier loss: 0.653265; batch adversarial loss: 0.638648\n",
      "epoch 25; iter: 200; batch classifier loss: 0.683878; batch adversarial loss: 0.550862\n",
      "epoch 25; iter: 400; batch classifier loss: 0.630929; batch adversarial loss: 0.774595\n",
      "epoch 26; iter: 0; batch classifier loss: 0.556834; batch adversarial loss: 0.710745\n",
      "epoch 26; iter: 200; batch classifier loss: 0.506051; batch adversarial loss: 0.692213\n",
      "epoch 26; iter: 400; batch classifier loss: 0.652176; batch adversarial loss: 0.599101\n",
      "epoch 27; iter: 0; batch classifier loss: 0.582526; batch adversarial loss: 0.645279\n",
      "epoch 27; iter: 200; batch classifier loss: 0.640054; batch adversarial loss: 0.734785\n",
      "epoch 27; iter: 400; batch classifier loss: 0.873889; batch adversarial loss: 0.625606\n",
      "epoch 28; iter: 0; batch classifier loss: 0.589254; batch adversarial loss: 0.759707\n",
      "epoch 28; iter: 200; batch classifier loss: 0.628730; batch adversarial loss: 0.571940\n",
      "epoch 28; iter: 400; batch classifier loss: 0.548677; batch adversarial loss: 0.747358\n",
      "epoch 29; iter: 0; batch classifier loss: 0.734997; batch adversarial loss: 0.802436\n",
      "epoch 29; iter: 200; batch classifier loss: 0.722933; batch adversarial loss: 0.853073\n",
      "epoch 29; iter: 400; batch classifier loss: 0.466549; batch adversarial loss: 0.823982\n",
      "epoch 30; iter: 0; batch classifier loss: 0.684976; batch adversarial loss: 0.775821\n",
      "epoch 30; iter: 200; batch classifier loss: 0.631314; batch adversarial loss: 0.637945\n",
      "epoch 30; iter: 400; batch classifier loss: 0.995270; batch adversarial loss: 0.831987\n",
      "epoch 31; iter: 0; batch classifier loss: 0.589783; batch adversarial loss: 0.570207\n",
      "epoch 31; iter: 200; batch classifier loss: 0.683733; batch adversarial loss: 0.632003\n",
      "epoch 31; iter: 400; batch classifier loss: 0.561660; batch adversarial loss: 0.603221\n",
      "epoch 32; iter: 0; batch classifier loss: 0.549527; batch adversarial loss: 0.773434\n",
      "epoch 32; iter: 200; batch classifier loss: 0.517434; batch adversarial loss: 0.550700\n",
      "epoch 32; iter: 400; batch classifier loss: 0.473133; batch adversarial loss: 0.679716\n",
      "epoch 33; iter: 0; batch classifier loss: 0.469272; batch adversarial loss: 0.549188\n",
      "epoch 33; iter: 200; batch classifier loss: 0.556276; batch adversarial loss: 0.677270\n",
      "epoch 33; iter: 400; batch classifier loss: 0.842242; batch adversarial loss: 0.713504\n",
      "epoch 34; iter: 0; batch classifier loss: 0.895979; batch adversarial loss: 0.531070\n",
      "epoch 34; iter: 200; batch classifier loss: 0.626171; batch adversarial loss: 0.709445\n",
      "epoch 34; iter: 400; batch classifier loss: 0.675774; batch adversarial loss: 0.740119\n",
      "epoch 35; iter: 0; batch classifier loss: 0.589330; batch adversarial loss: 0.532519\n",
      "epoch 35; iter: 200; batch classifier loss: 0.425781; batch adversarial loss: 0.796728\n",
      "epoch 35; iter: 400; batch classifier loss: 0.759642; batch adversarial loss: 0.538646\n",
      "epoch 36; iter: 0; batch classifier loss: 0.610354; batch adversarial loss: 0.692098\n",
      "epoch 36; iter: 200; batch classifier loss: 0.846874; batch adversarial loss: 0.545705\n",
      "epoch 36; iter: 400; batch classifier loss: 0.597689; batch adversarial loss: 0.673060\n",
      "epoch 37; iter: 0; batch classifier loss: 0.407495; batch adversarial loss: 0.553046\n",
      "epoch 37; iter: 200; batch classifier loss: 0.671959; batch adversarial loss: 0.697827\n",
      "epoch 37; iter: 400; batch classifier loss: 0.569609; batch adversarial loss: 0.646684\n",
      "epoch 38; iter: 0; batch classifier loss: 0.584574; batch adversarial loss: 0.630496\n",
      "epoch 38; iter: 200; batch classifier loss: 0.787048; batch adversarial loss: 0.699224\n",
      "epoch 38; iter: 400; batch classifier loss: 0.652029; batch adversarial loss: 0.518429\n",
      "epoch 39; iter: 0; batch classifier loss: 0.576775; batch adversarial loss: 0.653908\n",
      "epoch 39; iter: 200; batch classifier loss: 0.569749; batch adversarial loss: 0.585426\n",
      "epoch 39; iter: 400; batch classifier loss: 1.000390; batch adversarial loss: 0.776925\n",
      "epoch 40; iter: 0; batch classifier loss: 0.353207; batch adversarial loss: 0.546661\n",
      "epoch 40; iter: 200; batch classifier loss: 0.479371; batch adversarial loss: 0.638602\n",
      "epoch 40; iter: 400; batch classifier loss: 0.737227; batch adversarial loss: 0.574781\n",
      "epoch 41; iter: 0; batch classifier loss: 0.517152; batch adversarial loss: 0.804370\n",
      "epoch 41; iter: 200; batch classifier loss: 0.587985; batch adversarial loss: 0.710281\n",
      "epoch 41; iter: 400; batch classifier loss: 0.466644; batch adversarial loss: 0.513665\n",
      "epoch 42; iter: 0; batch classifier loss: 0.385159; batch adversarial loss: 0.702826\n",
      "epoch 42; iter: 200; batch classifier loss: 0.686074; batch adversarial loss: 0.619564\n",
      "epoch 42; iter: 400; batch classifier loss: 0.860208; batch adversarial loss: 0.825848\n",
      "epoch 43; iter: 0; batch classifier loss: 0.786983; batch adversarial loss: 0.705027\n",
      "epoch 43; iter: 200; batch classifier loss: 0.513315; batch adversarial loss: 0.689045\n",
      "epoch 43; iter: 400; batch classifier loss: 0.555030; batch adversarial loss: 0.566457\n",
      "epoch 44; iter: 0; batch classifier loss: 0.701176; batch adversarial loss: 0.699707\n",
      "epoch 44; iter: 200; batch classifier loss: 0.645525; batch adversarial loss: 0.625476\n",
      "epoch 44; iter: 400; batch classifier loss: 0.688041; batch adversarial loss: 0.576097\n",
      "epoch 45; iter: 0; batch classifier loss: 0.678355; batch adversarial loss: 0.717250\n",
      "epoch 45; iter: 200; batch classifier loss: 0.709993; batch adversarial loss: 0.674582\n",
      "epoch 45; iter: 400; batch classifier loss: 0.448859; batch adversarial loss: 0.698279\n",
      "epoch 46; iter: 0; batch classifier loss: 0.601248; batch adversarial loss: 0.719463\n",
      "epoch 46; iter: 200; batch classifier loss: 0.672044; batch adversarial loss: 0.768820\n",
      "epoch 46; iter: 400; batch classifier loss: 0.506842; batch adversarial loss: 0.758481\n",
      "epoch 47; iter: 0; batch classifier loss: 0.532211; batch adversarial loss: 0.690283\n",
      "epoch 47; iter: 200; batch classifier loss: 0.379974; batch adversarial loss: 0.542568\n",
      "epoch 47; iter: 400; batch classifier loss: 0.688267; batch adversarial loss: 0.719419\n",
      "epoch 48; iter: 0; batch classifier loss: 0.586016; batch adversarial loss: 0.629861\n",
      "epoch 48; iter: 200; batch classifier loss: 0.402445; batch adversarial loss: 0.617080\n",
      "epoch 48; iter: 400; batch classifier loss: 0.486531; batch adversarial loss: 0.674799\n",
      "epoch 49; iter: 0; batch classifier loss: 0.693865; batch adversarial loss: 0.617298\n",
      "epoch 49; iter: 200; batch classifier loss: 0.569603; batch adversarial loss: 0.688714\n",
      "epoch 49; iter: 400; batch classifier loss: 0.644945; batch adversarial loss: 0.811755\n",
      "epoch 50; iter: 0; batch classifier loss: 0.474821; batch adversarial loss: 0.502631\n",
      "epoch 50; iter: 200; batch classifier loss: 0.884158; batch adversarial loss: 0.618572\n",
      "epoch 50; iter: 400; batch classifier loss: 0.521047; batch adversarial loss: 0.541668\n",
      "epoch 51; iter: 0; batch classifier loss: 0.577260; batch adversarial loss: 0.724218\n",
      "epoch 51; iter: 200; batch classifier loss: 0.789214; batch adversarial loss: 0.624068\n",
      "epoch 51; iter: 400; batch classifier loss: 0.635635; batch adversarial loss: 0.636771\n",
      "epoch 52; iter: 0; batch classifier loss: 0.461025; batch adversarial loss: 0.487038\n",
      "epoch 52; iter: 200; batch classifier loss: 0.567386; batch adversarial loss: 0.564288\n",
      "epoch 52; iter: 400; batch classifier loss: 0.627902; batch adversarial loss: 0.778085\n",
      "epoch 53; iter: 0; batch classifier loss: 0.644499; batch adversarial loss: 0.713169\n",
      "epoch 53; iter: 200; batch classifier loss: 0.815929; batch adversarial loss: 0.710171\n",
      "epoch 53; iter: 400; batch classifier loss: 0.690572; batch adversarial loss: 0.640690\n",
      "epoch 54; iter: 0; batch classifier loss: 0.625046; batch adversarial loss: 0.516677\n",
      "epoch 54; iter: 200; batch classifier loss: 0.414669; batch adversarial loss: 0.714410\n",
      "epoch 54; iter: 400; batch classifier loss: 0.489230; batch adversarial loss: 0.521840\n",
      "epoch 55; iter: 0; batch classifier loss: 0.505188; batch adversarial loss: 0.646354\n",
      "epoch 55; iter: 200; batch classifier loss: 0.600114; batch adversarial loss: 0.819544\n",
      "epoch 55; iter: 400; batch classifier loss: 0.593411; batch adversarial loss: 0.687415\n",
      "epoch 56; iter: 0; batch classifier loss: 0.570076; batch adversarial loss: 0.646681\n",
      "epoch 56; iter: 200; batch classifier loss: 0.397062; batch adversarial loss: 0.596571\n",
      "epoch 56; iter: 400; batch classifier loss: 0.824185; batch adversarial loss: 0.599811\n",
      "epoch 57; iter: 0; batch classifier loss: 0.785379; batch adversarial loss: 0.665720\n",
      "epoch 57; iter: 200; batch classifier loss: 0.633829; batch adversarial loss: 0.721024\n",
      "epoch 57; iter: 400; batch classifier loss: 0.598525; batch adversarial loss: 0.642262\n",
      "epoch 58; iter: 0; batch classifier loss: 0.466113; batch adversarial loss: 0.636072\n",
      "epoch 58; iter: 200; batch classifier loss: 0.901247; batch adversarial loss: 0.513431\n",
      "epoch 58; iter: 400; batch classifier loss: 0.674125; batch adversarial loss: 0.622804\n",
      "epoch 59; iter: 0; batch classifier loss: 0.520190; batch adversarial loss: 0.697700\n",
      "epoch 59; iter: 200; batch classifier loss: 0.636563; batch adversarial loss: 0.608429\n",
      "epoch 59; iter: 400; batch classifier loss: 0.537345; batch adversarial loss: 0.588529\n",
      "epoch 60; iter: 0; batch classifier loss: 0.658955; batch adversarial loss: 0.576015\n",
      "epoch 60; iter: 200; batch classifier loss: 0.778124; batch adversarial loss: 0.613198\n",
      "epoch 60; iter: 400; batch classifier loss: 0.466074; batch adversarial loss: 0.605271\n",
      "epoch 61; iter: 0; batch classifier loss: 0.745699; batch adversarial loss: 0.804571\n",
      "epoch 61; iter: 200; batch classifier loss: 0.558304; batch adversarial loss: 0.754611\n",
      "epoch 61; iter: 400; batch classifier loss: 0.554161; batch adversarial loss: 0.560627\n",
      "epoch 62; iter: 0; batch classifier loss: 0.764766; batch adversarial loss: 0.621066\n",
      "epoch 62; iter: 200; batch classifier loss: 0.444428; batch adversarial loss: 0.536931\n",
      "epoch 62; iter: 400; batch classifier loss: 0.487530; batch adversarial loss: 0.654270\n",
      "epoch 63; iter: 0; batch classifier loss: 0.644418; batch adversarial loss: 0.782801\n",
      "epoch 63; iter: 200; batch classifier loss: 0.553937; batch adversarial loss: 0.654236\n",
      "epoch 63; iter: 400; batch classifier loss: 0.582014; batch adversarial loss: 0.725593\n",
      "epoch 64; iter: 0; batch classifier loss: 0.559568; batch adversarial loss: 0.730926\n",
      "epoch 64; iter: 200; batch classifier loss: 0.927593; batch adversarial loss: 0.489188\n",
      "epoch 64; iter: 400; batch classifier loss: 0.859086; batch adversarial loss: 0.608594\n",
      "epoch 65; iter: 0; batch classifier loss: 0.701923; batch adversarial loss: 0.696817\n",
      "epoch 65; iter: 200; batch classifier loss: 0.563215; batch adversarial loss: 0.557942\n",
      "epoch 65; iter: 400; batch classifier loss: 0.816757; batch adversarial loss: 0.612741\n",
      "epoch 66; iter: 0; batch classifier loss: 0.797289; batch adversarial loss: 0.597210\n",
      "epoch 66; iter: 200; batch classifier loss: 0.527309; batch adversarial loss: 0.619426\n",
      "epoch 66; iter: 400; batch classifier loss: 0.975174; batch adversarial loss: 0.767171\n",
      "epoch 67; iter: 0; batch classifier loss: 0.715513; batch adversarial loss: 0.648425\n",
      "epoch 67; iter: 200; batch classifier loss: 0.442910; batch adversarial loss: 0.810059\n",
      "epoch 67; iter: 400; batch classifier loss: 0.545226; batch adversarial loss: 0.781064\n",
      "epoch 68; iter: 0; batch classifier loss: 0.505250; batch adversarial loss: 0.673755\n",
      "epoch 68; iter: 200; batch classifier loss: 0.721425; batch adversarial loss: 0.662468\n",
      "epoch 68; iter: 400; batch classifier loss: 0.867120; batch adversarial loss: 0.637811\n",
      "epoch 69; iter: 0; batch classifier loss: 0.488782; batch adversarial loss: 0.671301\n",
      "epoch 69; iter: 200; batch classifier loss: 0.615226; batch adversarial loss: 0.660745\n",
      "epoch 69; iter: 400; batch classifier loss: 0.530017; batch adversarial loss: 0.611115\n",
      "epoch 70; iter: 0; batch classifier loss: 0.534563; batch adversarial loss: 0.541538\n",
      "epoch 70; iter: 200; batch classifier loss: 0.714622; batch adversarial loss: 0.765862\n",
      "epoch 70; iter: 400; batch classifier loss: 0.570318; batch adversarial loss: 0.612830\n",
      "epoch 71; iter: 0; batch classifier loss: 0.464321; batch adversarial loss: 0.556102\n",
      "epoch 71; iter: 200; batch classifier loss: 0.412350; batch adversarial loss: 0.623986\n",
      "epoch 71; iter: 400; batch classifier loss: 0.619857; batch adversarial loss: 0.752554\n",
      "epoch 72; iter: 0; batch classifier loss: 0.546193; batch adversarial loss: 0.575771\n",
      "epoch 72; iter: 200; batch classifier loss: 0.599754; batch adversarial loss: 0.626649\n",
      "epoch 72; iter: 400; batch classifier loss: 0.631494; batch adversarial loss: 0.602819\n",
      "epoch 73; iter: 0; batch classifier loss: 0.621020; batch adversarial loss: 0.631614\n",
      "epoch 73; iter: 200; batch classifier loss: 0.590585; batch adversarial loss: 0.779198\n",
      "epoch 73; iter: 400; batch classifier loss: 0.662024; batch adversarial loss: 0.688732\n",
      "epoch 74; iter: 0; batch classifier loss: 0.507105; batch adversarial loss: 0.709113\n",
      "epoch 74; iter: 200; batch classifier loss: 0.480722; batch adversarial loss: 0.723517\n",
      "epoch 74; iter: 400; batch classifier loss: 0.556154; batch adversarial loss: 0.562902\n",
      "epoch 75; iter: 0; batch classifier loss: 0.470273; batch adversarial loss: 0.822988\n",
      "epoch 75; iter: 200; batch classifier loss: 0.930763; batch adversarial loss: 0.547367\n",
      "epoch 75; iter: 400; batch classifier loss: 0.639809; batch adversarial loss: 0.606946\n",
      "epoch 76; iter: 0; batch classifier loss: 0.492943; batch adversarial loss: 0.706149\n",
      "epoch 76; iter: 200; batch classifier loss: 0.505459; batch adversarial loss: 0.635514\n",
      "epoch 76; iter: 400; batch classifier loss: 0.747503; batch adversarial loss: 0.603625\n",
      "epoch 77; iter: 0; batch classifier loss: 0.673543; batch adversarial loss: 0.621593\n",
      "epoch 77; iter: 200; batch classifier loss: 0.714431; batch adversarial loss: 0.764375\n",
      "epoch 77; iter: 400; batch classifier loss: 0.415525; batch adversarial loss: 0.792565\n",
      "epoch 78; iter: 0; batch classifier loss: 0.530719; batch adversarial loss: 0.626595\n",
      "epoch 78; iter: 200; batch classifier loss: 0.499242; batch adversarial loss: 0.509937\n",
      "epoch 78; iter: 400; batch classifier loss: 0.673647; batch adversarial loss: 0.800952\n",
      "epoch 79; iter: 0; batch classifier loss: 0.516074; batch adversarial loss: 0.692239\n",
      "epoch 79; iter: 200; batch classifier loss: 0.655845; batch adversarial loss: 0.796896\n",
      "epoch 79; iter: 400; batch classifier loss: 0.732192; batch adversarial loss: 0.606200\n",
      "epoch 80; iter: 0; batch classifier loss: 0.641883; batch adversarial loss: 0.673387\n",
      "epoch 80; iter: 200; batch classifier loss: 0.542889; batch adversarial loss: 0.597239\n",
      "epoch 80; iter: 400; batch classifier loss: 0.619372; batch adversarial loss: 0.716809\n",
      "epoch 81; iter: 0; batch classifier loss: 0.736959; batch adversarial loss: 0.713674\n",
      "epoch 81; iter: 200; batch classifier loss: 0.733492; batch adversarial loss: 0.671059\n",
      "epoch 81; iter: 400; batch classifier loss: 0.600767; batch adversarial loss: 0.517124\n",
      "epoch 82; iter: 0; batch classifier loss: 0.553711; batch adversarial loss: 0.796792\n",
      "epoch 82; iter: 200; batch classifier loss: 0.548763; batch adversarial loss: 0.846938\n",
      "epoch 82; iter: 400; batch classifier loss: 0.627041; batch adversarial loss: 0.693074\n",
      "epoch 83; iter: 0; batch classifier loss: 0.594283; batch adversarial loss: 0.735789\n",
      "epoch 83; iter: 200; batch classifier loss: 0.573231; batch adversarial loss: 0.686656\n",
      "epoch 83; iter: 400; batch classifier loss: 0.685955; batch adversarial loss: 0.625298\n",
      "epoch 84; iter: 0; batch classifier loss: 0.719965; batch adversarial loss: 0.638471\n",
      "epoch 84; iter: 200; batch classifier loss: 0.721312; batch adversarial loss: 0.453905\n",
      "epoch 84; iter: 400; batch classifier loss: 0.708461; batch adversarial loss: 0.570564\n",
      "epoch 85; iter: 0; batch classifier loss: 0.462957; batch adversarial loss: 0.689102\n",
      "epoch 85; iter: 200; batch classifier loss: 0.647206; batch adversarial loss: 0.525913\n",
      "epoch 85; iter: 400; batch classifier loss: 0.690037; batch adversarial loss: 0.654196\n",
      "epoch 86; iter: 0; batch classifier loss: 0.467849; batch adversarial loss: 0.711619\n",
      "epoch 86; iter: 200; batch classifier loss: 0.267303; batch adversarial loss: 0.591025\n",
      "epoch 86; iter: 400; batch classifier loss: 0.365882; batch adversarial loss: 0.611665\n",
      "epoch 87; iter: 0; batch classifier loss: 0.755777; batch adversarial loss: 0.703114\n",
      "epoch 87; iter: 200; batch classifier loss: 0.546926; batch adversarial loss: 0.616937\n",
      "epoch 87; iter: 400; batch classifier loss: 0.530340; batch adversarial loss: 0.700577\n",
      "epoch 88; iter: 0; batch classifier loss: 0.700978; batch adversarial loss: 0.747079\n",
      "epoch 88; iter: 200; batch classifier loss: 0.417932; batch adversarial loss: 0.616438\n",
      "epoch 88; iter: 400; batch classifier loss: 0.546967; batch adversarial loss: 0.665235\n",
      "epoch 89; iter: 0; batch classifier loss: 0.888843; batch adversarial loss: 0.653373\n",
      "epoch 89; iter: 200; batch classifier loss: 0.673088; batch adversarial loss: 0.735562\n",
      "epoch 89; iter: 400; batch classifier loss: 0.490652; batch adversarial loss: 0.570753\n",
      "epoch 90; iter: 0; batch classifier loss: 0.692727; batch adversarial loss: 0.589396\n",
      "epoch 90; iter: 200; batch classifier loss: 0.458555; batch adversarial loss: 0.649029\n",
      "epoch 90; iter: 400; batch classifier loss: 0.583566; batch adversarial loss: 0.629125\n",
      "epoch 91; iter: 0; batch classifier loss: 0.469956; batch adversarial loss: 0.751036\n",
      "epoch 91; iter: 200; batch classifier loss: 0.549269; batch adversarial loss: 0.731995\n",
      "epoch 91; iter: 400; batch classifier loss: 0.588849; batch adversarial loss: 0.680091\n",
      "epoch 92; iter: 0; batch classifier loss: 0.461976; batch adversarial loss: 0.756241\n",
      "epoch 92; iter: 200; batch classifier loss: 0.543704; batch adversarial loss: 0.525038\n",
      "epoch 92; iter: 400; batch classifier loss: 0.568297; batch adversarial loss: 0.593927\n",
      "epoch 93; iter: 0; batch classifier loss: 0.771348; batch adversarial loss: 0.682119\n",
      "epoch 93; iter: 200; batch classifier loss: 0.685844; batch adversarial loss: 0.686162\n",
      "epoch 93; iter: 400; batch classifier loss: 0.764073; batch adversarial loss: 0.612036\n",
      "epoch 94; iter: 0; batch classifier loss: 0.632574; batch adversarial loss: 0.752965\n",
      "epoch 94; iter: 200; batch classifier loss: 0.684648; batch adversarial loss: 0.619021\n",
      "epoch 94; iter: 400; batch classifier loss: 0.594112; batch adversarial loss: 0.543223\n",
      "epoch 95; iter: 0; batch classifier loss: 0.475499; batch adversarial loss: 0.590069\n",
      "epoch 95; iter: 200; batch classifier loss: 0.432565; batch adversarial loss: 0.560011\n",
      "epoch 95; iter: 400; batch classifier loss: 0.704215; batch adversarial loss: 0.691157\n",
      "epoch 96; iter: 0; batch classifier loss: 0.970775; batch adversarial loss: 0.675961\n",
      "epoch 96; iter: 200; batch classifier loss: 0.480511; batch adversarial loss: 0.567164\n",
      "epoch 96; iter: 400; batch classifier loss: 0.671059; batch adversarial loss: 0.502942\n",
      "epoch 97; iter: 0; batch classifier loss: 0.771783; batch adversarial loss: 0.669231\n",
      "epoch 97; iter: 200; batch classifier loss: 0.552961; batch adversarial loss: 0.745116\n",
      "epoch 97; iter: 400; batch classifier loss: 0.610997; batch adversarial loss: 0.705523\n",
      "epoch 98; iter: 0; batch classifier loss: 0.524531; batch adversarial loss: 0.776930\n",
      "epoch 98; iter: 200; batch classifier loss: 0.390227; batch adversarial loss: 0.526221\n",
      "epoch 98; iter: 400; batch classifier loss: 0.461014; batch adversarial loss: 0.742286\n",
      "epoch 99; iter: 0; batch classifier loss: 0.639003; batch adversarial loss: 0.714861\n",
      "epoch 99; iter: 200; batch classifier loss: 0.538774; batch adversarial loss: 0.523994\n",
      "epoch 99; iter: 400; batch classifier loss: 0.386590; batch adversarial loss: 0.588710\n"
     ]
    }
   ],
   "source": [
    "ad = AdversarialDebiasing(privileged_groups = privileged_groups, \n",
    "    unprivileged_groups = unprivileged_groups, scope_name = 'debiased_classifier', \n",
    "    debias = True, sess = session, num_epochs = 100, batch_size = 8,\n",
    "    classifier_num_hidden_units = 484, adversary_loss_weight = 0.17)\n",
    "debiased_scaler = StandardScaler()\n",
    "debiased_train = original_train.copy(deepcopy = True)\n",
    "debiased_train.features = debiased_scaler.fit_transform(debiased_train.features)\n",
    "ad = ad.fit(debiased_train)"
   ]
  },
  {
   "cell_type": "code",
   "execution_count": 111,
   "metadata": {},
   "outputs": [],
   "source": [
    "debiased_val = original_val.copy(deepcopy = True)\n",
    "debiased_val.features = debiased_scaler.transform(debiased_val.features)\n",
    "y_train_preds_db = ad.predict(debiased_train).scores"
   ]
  },
  {
   "cell_type": "code",
   "execution_count": 112,
   "metadata": {},
   "outputs": [],
   "source": [
    "AD_bal_acc_arr = []\n",
    "AD_disp_imp_arr = []\n",
    "AD_avg_odds_diff_arr = []\n",
    "AD_eq_opp_diff_arr = []\n",
    "AD_outcome_unfair_arr = []\n",
    "AD_acc_equal_arr = []"
   ]
  },
  {
   "cell_type": "code",
   "execution_count": 113,
   "metadata": {},
   "outputs": [
    {
     "data": {
      "text/markdown": [
       "#### Predictions from the original testing data"
      ],
      "text/plain": [
       "<IPython.core.display.Markdown object>"
      ]
     },
     "metadata": {},
     "output_type": "display_data"
    },
    {
     "name": "stderr",
     "output_type": "stream",
     "text": [
      "  0%|          | 0/100 [00:00<?, ?it/s]invalid value encountered in double_scalars\n",
      " 30%|███       | 30/100 [00:00<00:00, 143.37it/s]"
     ]
    },
    {
     "name": "stdout",
     "output_type": "stream",
     "text": [
      "Classification threshold used: 0.5445\n"
     ]
    },
    {
     "name": "stderr",
     "output_type": "stream",
     "text": [
      " 83%|████████▎ | 83/100 [00:00<00:00, 161.73it/s]"
     ]
    },
    {
     "name": "stdout",
     "output_type": "stream",
     "text": [
      "Balanced accuracy = 0.3445\n",
      "Statistical parity difference = 0.0233\n",
      "Disparate impact = 1.0415\n",
      "Average odds difference = -0.0169\n",
      "Equal opportunity difference = -0.0399\n",
      "Theil index = 0.4176\n"
     ]
    },
    {
     "name": "stderr",
     "output_type": "stream",
     "text": [
      "100%|██████████| 100/100 [00:00<00:00, 164.18it/s]\n"
     ]
    }
   ],
   "source": [
    "display(Markdown('#### Predictions from the original testing data'))\n",
    "print('Classification threshold used: %.4f' % best_class_thresh)\n",
    "\n",
    "for thresh in tqdm(class_thresh_arr):\n",
    "    if thresh == best_class_thresh:\n",
    "        disp = True\n",
    "    else:\n",
    "        disp = False\n",
    "\n",
    "    y_val_preds = (y_train_preds_db[:, pos_ind] > thresh).astype(np.float64)\n",
    "    debiased_test_preds = debiased_train.copy()\n",
    "    debiased_test_preds.labels = y_val_preds\n",
    "\n",
    "    ad_metric_test = compute_metrics(debiased_train, debiased_test_preds, \\\n",
    "        unprivileged_groups, privileged_groups, disp = disp)\n",
    "    ad_class_metric_test = ClassificationMetric(debiased_train, debiased_test_preds, \\\n",
    "        unprivileged_groups, privileged_groups)\n",
    "    \n",
    "    AD_bal_acc_arr.append(ad_metric_test['Balanced accuracy'])\n",
    "    AD_avg_odds_diff_arr.append(ad_metric_test['Average odds difference'])\n",
    "    AD_disp_imp_arr.append(ad_metric_test['Disparate impact'])\n",
    "    AD_eq_opp_diff_arr.append(ad_metric_test['Equal opportunity difference'])\n",
    "    AD_outcome_unfair_arr.append(ad_class_metric_test.false_discovery_rate_difference() \\\n",
    "        + ad_class_metric_test.false_positive_rate_difference())\n",
    "    AD_acc_equal_arr.append((ad_class_metric_test.true_positive_rate(privileged = True) + \\\n",
    "        ad_class_metric_test.true_negative_rate(privileged = True)) - \\\n",
    "            (ad_class_metric_test.true_positive_rate(privileged = False) + \\\n",
    "                ad_class_metric_test.true_negative_rate(privileged = False)))"
   ]
  },
  {
   "cell_type": "code",
   "execution_count": 114,
   "metadata": {},
   "outputs": [],
   "source": [
    "save_to_json(filename = 'AD_bal_acc_arr.json', data = AD_bal_acc_arr)\n",
    "save_to_json(filename = 'AD_disp_imp_arr.json', data = AD_disp_imp_arr)\n",
    "save_to_json(filename = 'AD_avg_odds_diff_arr.json', data = AD_avg_odds_diff_arr)\n",
    "save_to_json(filename = 'AD_eq_opp_diff_arr.json', data = AD_eq_opp_diff_arr)\n",
    "save_to_json(filename = 'AD_outcome_unfair_arr.json', data = AD_outcome_unfair_arr)\n",
    "save_to_json(filename = 'AD_acc_equal_arr.json', data = AD_acc_equal_arr)"
   ]
  },
  {
   "cell_type": "code",
   "execution_count": 115,
   "metadata": {},
   "outputs": [],
   "source": [
    "AD_bal_acc = np.interp(best_class_thresh, class_thresh_arr, AD_bal_acc_arr)\n",
    "AD_acc_equal = np.interp(best_class_thresh, class_thresh_arr, AD_acc_equal_arr)\n",
    "AD_disp_imp = np.interp(best_class_thresh, class_thresh_arr, AD_disp_imp_arr)\n",
    "AD_out_unf = np.interp(best_class_thresh, class_thresh_arr, AD_outcome_unfair_arr)\n",
    "AD_avg_odds = np.interp(best_class_thresh, class_thresh_arr, AD_avg_odds_diff_arr)\n",
    "AD_eq_odds = np.interp(best_class_thresh, class_thresh_arr, AD_eq_opp_diff_arr)"
   ]
  },
  {
   "cell_type": "code",
   "execution_count": 116,
   "metadata": {},
   "outputs": [
    {
     "data": {
      "text/html": [
       "<div>\n",
       "<style scoped>\n",
       "    .dataframe tbody tr th:only-of-type {\n",
       "        vertical-align: middle;\n",
       "    }\n",
       "\n",
       "    .dataframe tbody tr th {\n",
       "        vertical-align: top;\n",
       "    }\n",
       "\n",
       "    .dataframe thead th {\n",
       "        text-align: right;\n",
       "    }\n",
       "</style>\n",
       "<table border=\"1\" class=\"dataframe\">\n",
       "  <thead>\n",
       "    <tr style=\"text-align: right;\">\n",
       "      <th></th>\n",
       "      <th>Metric</th>\n",
       "      <th>Adversarial Debiasing</th>\n",
       "    </tr>\n",
       "  </thead>\n",
       "  <tbody>\n",
       "    <tr>\n",
       "      <th>0</th>\n",
       "      <td>Balanced Accuracy</td>\n",
       "      <td>0.344463</td>\n",
       "    </tr>\n",
       "    <tr>\n",
       "      <th>1</th>\n",
       "      <td>Accuracy Equality</td>\n",
       "      <td>0.045937</td>\n",
       "    </tr>\n",
       "    <tr>\n",
       "      <th>2</th>\n",
       "      <td>Disparate Impact</td>\n",
       "      <td>1.041508</td>\n",
       "    </tr>\n",
       "    <tr>\n",
       "      <th>3</th>\n",
       "      <td>Outcome Unfairess</td>\n",
       "      <td>0.164955</td>\n",
       "    </tr>\n",
       "    <tr>\n",
       "      <th>4</th>\n",
       "      <td>Average Odds Difference</td>\n",
       "      <td>-0.016933</td>\n",
       "    </tr>\n",
       "    <tr>\n",
       "      <th>5</th>\n",
       "      <td>Equal Opportunity Difference</td>\n",
       "      <td>-0.039901</td>\n",
       "    </tr>\n",
       "  </tbody>\n",
       "</table>\n",
       "</div>"
      ],
      "text/plain": [
       "                         Metric  Adversarial Debiasing\n",
       "0             Balanced Accuracy               0.344463\n",
       "1             Accuracy Equality               0.045937\n",
       "2              Disparate Impact               1.041508\n",
       "3             Outcome Unfairess               0.164955\n",
       "4       Average Odds Difference              -0.016933\n",
       "5  Equal Opportunity Difference              -0.039901"
      ]
     },
     "execution_count": 116,
     "metadata": {},
     "output_type": "execute_result"
    }
   ],
   "source": [
    "AD_results = {'Metric': ['Balanced Accuracy', 'Accuracy Equality', 'Disparate Impact', 'Outcome Unfairess', 'Average Odds Difference', 'Equal Opportunity Difference'],\n",
    "    'Adversarial Debiasing': [AD_bal_acc, AD_acc_equal, AD_disp_imp, AD_out_unf, AD_avg_odds, AD_eq_odds]}\n",
    "AD_results_df = pd.DataFrame(AD_results)\n",
    "df_to_json(filename = 'AD_results.json', df = AD_results_df)\n",
    "AD_results_df"
   ]
  },
  {
   "cell_type": "markdown",
   "metadata": {},
   "source": [
    "### Reject-option Classification - tune HP for DI"
   ]
  },
  {
   "cell_type": "code",
   "execution_count": 118,
   "metadata": {},
   "outputs": [],
   "source": [
    "pre_scaler = StandardScaler()\n",
    "pre_train = original_train.copy(deepcopy = True)\n",
    "pre_train_preds = original_train.copy(deepcopy = True)\n",
    "pre_X_train = pre_scaler.fit_transform(pre_train.features)\n",
    "pre_y_train = pre_train.labels.ravel()\n",
    "\n",
    "lr = LogisticRegression()\n",
    "lr.fit(pre_X_train, pre_y_train)\n",
    "y_train_preds_pre = lr.predict(pre_X_train)\n",
    "\n",
    "# positive class index\n",
    "pos_ind = np.where(lr.classes_ == pre_train.favorable_label)[0][0]\n",
    "pre_train_preds.labels = y_train_preds_pre\n",
    "\n",
    "pre_val = original_val.copy(deepcopy = True)\n",
    "pre_val_preds = original_val.copy(deepcopy = True)\n",
    "X_valid = pre_scaler.transform(pre_val_preds.features)\n",
    "y_valid = pre_val_preds.labels\n",
    "pre_val_preds.scores = lr.predict_proba(X_valid)[:,pos_ind].reshape(-1,1)\n",
    "\n",
    "pre_test = original_test.copy(deepcopy = True)\n",
    "pre_test_preds = original_test.copy(deepcopy = True)\n",
    "X_test = pre_scaler.transform(pre_test_preds.features)\n",
    "y_test = pre_test_preds.labels\n",
    "pre_test_preds.scores = lr.predict_proba(X_test)[:,pos_ind].reshape(-1,1)"
   ]
  },
  {
   "cell_type": "code",
   "execution_count": 119,
   "metadata": {},
   "outputs": [
    {
     "data": {
      "text/markdown": [
       "#### Without fairness constraints"
      ],
      "text/plain": [
       "<IPython.core.display.Markdown object>"
      ]
     },
     "metadata": {},
     "output_type": "display_data"
    },
    {
     "name": "stdout",
     "output_type": "stream",
     "text": [
      "Best balanced accuracy: 0.6582\n",
      "Optimal classification threshold: 0.5445\n"
     ]
    }
   ],
   "source": [
    "num_thresh = 100\n",
    "ba_arr = np.zeros(num_thresh)\n",
    "class_thresh_arr = np.linspace(0.01, 0.99, num_thresh)\n",
    "\n",
    "for idx, class_thresh in enumerate(class_thresh_arr):\n",
    "    \n",
    "    fav_inds = pre_val_preds.scores > class_thresh\n",
    "    pre_val_preds.labels[fav_inds] = pre_val_preds.favorable_label\n",
    "    pre_val_preds.labels[~fav_inds] = pre_val_preds.unfavorable_label\n",
    "    \n",
    "    pre_val_classified_metric = ClassificationMetric(pre_val,\n",
    "        pre_val_preds, unprivileged_groups=unprivileged_groups,\n",
    "        privileged_groups=privileged_groups)\n",
    "    \n",
    "    ba_arr[idx] = 0.5*(pre_val_classified_metric.true_positive_rate()\\\n",
    "                       + pre_val_classified_metric.true_negative_rate())\n",
    "\n",
    "best_ind = np.where(ba_arr == np.max(ba_arr))[0][0]\n",
    "best_class_thresh = class_thresh_arr[best_ind]\n",
    "\n",
    "display(Markdown('#### Without fairness constraints'))\n",
    "print(\"Best balanced accuracy: %.4f\" % np.max(ba_arr))\n",
    "print(\"Optimal classification threshold: %.4f\" % best_class_thresh)"
   ]
  },
  {
   "cell_type": "markdown",
   "metadata": {},
   "source": [
    "**Finding the fairness metric to be constrained**"
   ]
  },
  {
   "cell_type": "code",
   "execution_count": 120,
   "metadata": {},
   "outputs": [],
   "source": [
    "def find_fairness_metric(metric_names):\n",
    "    metrics = {'Metric': [], 'Optimal Classification Threshold': [], 'ROC Margin': []}\n",
    "    for metric in metric_names:\n",
    "        metrics['Metric'].append(metric)\n",
    "        roc = RejectOptionClassification(unprivileged_groups = unprivileged_groups, \n",
    "            privileged_groups = privileged_groups, low_class_thresh = 0.01, \n",
    "            high_class_thresh = 0.99, num_class_thresh = 100, num_ROC_margin = 50, \n",
    "            metric_name = metric, metric_ub = 0.05, metric_lb = -0.05)\n",
    "        roc = roc.fit(pre_val, pre_val_preds)\n",
    "        metrics['Optimal Classification Threshold'].append(roc.classification_threshold)\n",
    "        metrics['ROC Margin'].append(roc.ROC_margin)\n",
    "    return pd.DataFrame(metrics)"
   ]
  },
  {
   "cell_type": "code",
   "execution_count": 159,
   "metadata": {},
   "outputs": [
    {
     "data": {
      "text/html": [
       "<div>\n",
       "<style scoped>\n",
       "    .dataframe tbody tr th:only-of-type {\n",
       "        vertical-align: middle;\n",
       "    }\n",
       "\n",
       "    .dataframe tbody tr th {\n",
       "        vertical-align: top;\n",
       "    }\n",
       "\n",
       "    .dataframe thead th {\n",
       "        text-align: right;\n",
       "    }\n",
       "</style>\n",
       "<table border=\"1\" class=\"dataframe\">\n",
       "  <thead>\n",
       "    <tr style=\"text-align: right;\">\n",
       "      <th></th>\n",
       "      <th>Metric</th>\n",
       "      <th>Optimal Classification Threshold</th>\n",
       "      <th>ROC Margin</th>\n",
       "    </tr>\n",
       "  </thead>\n",
       "  <tbody>\n",
       "    <tr>\n",
       "      <th>0</th>\n",
       "      <td>Average odds difference</td>\n",
       "      <td>0.554444</td>\n",
       "      <td>0.036372</td>\n",
       "    </tr>\n",
       "    <tr>\n",
       "      <th>1</th>\n",
       "      <td>Statistical parity difference</td>\n",
       "      <td>0.584141</td>\n",
       "      <td>0.076382</td>\n",
       "    </tr>\n",
       "    <tr>\n",
       "      <th>2</th>\n",
       "      <td>Equal opportunity difference</td>\n",
       "      <td>0.554444</td>\n",
       "      <td>0.036372</td>\n",
       "    </tr>\n",
       "  </tbody>\n",
       "</table>\n",
       "</div>"
      ],
      "text/plain": [
       "                          Metric  Optimal Classification Threshold  ROC Margin\n",
       "0        Average odds difference                          0.554444    0.036372\n",
       "1  Statistical parity difference                          0.584141    0.076382\n",
       "2   Equal opportunity difference                          0.554444    0.036372"
      ]
     },
     "execution_count": 159,
     "metadata": {},
     "output_type": "execute_result"
    }
   ],
   "source": [
    "metric_names = ['Average odds difference', 'Statistical parity difference', 'Equal opportunity difference']\n",
    "find_fairness_metric(metric_names = metric_names)"
   ]
  },
  {
   "cell_type": "code",
   "execution_count": 160,
   "metadata": {},
   "outputs": [],
   "source": [
    "def find_metric_bounds(upperbounds, lowerbounds):\n",
    "    bounds = {'Upper Bound': [], 'Lower Bound': [], 'Optimal Classification Threshold': [], 'ROC Margin': [], 'Tradeoff': []}\n",
    "    for (lower, upper) in [(lower, upper) for lower in lowerbounds for upper in upperbounds]:\n",
    "        roc = RejectOptionClassification(unprivileged_groups = unprivileged_groups, \n",
    "            privileged_groups = privileged_groups, low_class_thresh = 0.01, \n",
    "            high_class_thresh = 0.99, num_class_thresh = 100, num_ROC_margin = 50, \n",
    "            metric_name = 'Equal opportunity difference', metric_ub = upper, metric_lb = lower)\n",
    "        roc = roc.fit(pre_val, pre_val_preds)\n",
    "        bounds['Upper Bound'].append(upper)\n",
    "        bounds['Lower Bound'].append(lower)\n",
    "        bounds['Optimal Classification Threshold'].append(roc.classification_threshold)\n",
    "        bounds['ROC Margin'].append(roc.ROC_margin)\n",
    "        bounds['Tradeoff'].append(roc.classification_threshold - roc.ROC_margin)\n",
    "    return pd.DataFrame(bounds)"
   ]
  },
  {
   "cell_type": "code",
   "execution_count": 161,
   "metadata": {},
   "outputs": [],
   "source": [
    "lowerbounds = [-1, -0.5, -0.1, -0.05, -0.01]\n",
    "upperbounds = [1, 0.5, 0.1, 0.05, 0.01]\n",
    "bounds = find_metric_bounds(upperbounds = upperbounds, lowerbounds = lowerbounds)"
   ]
  },
  {
   "cell_type": "code",
   "execution_count": 121,
   "metadata": {},
   "outputs": [],
   "source": [
    "# we want to choose fairness metric which maximises the classification threshold while satisfying the fairness constraint, therefore SPD has been chosen\n",
    "# we want to choose upper and lower bounds that maximises the classification threshold while satisfying the fairness constraint, therefore ub = and lb = has been chosen\n",
    "roc = RejectOptionClassification(unprivileged_groups = unprivileged_groups, \n",
    "    privileged_groups = privileged_groups, low_class_thresh = 0.01, \n",
    "    high_class_thresh = 0.99, num_class_thresh = 100, num_ROC_margin = 50, \n",
    "    metric_name = 'Statistical parity difference', metric_ub = 0.01, metric_lb = -0.01)\n",
    "roc = roc.fit(pre_val, pre_val_preds)"
   ]
  },
  {
   "cell_type": "code",
   "execution_count": 122,
   "metadata": {},
   "outputs": [
    {
     "data": {
      "text/markdown": [
       "#### With fairness constraints"
      ],
      "text/plain": [
       "<IPython.core.display.Markdown object>"
      ]
     },
     "metadata": {},
     "output_type": "display_data"
    },
    {
     "name": "stdout",
     "output_type": "stream",
     "text": [
      "Optimal classification threshold (with fairness constraints) = 0.6732\n",
      "Optimal ROC margin = 0.0734\n"
     ]
    }
   ],
   "source": [
    "display(Markdown('#### With fairness constraints'))\n",
    "print(\"Optimal classification threshold (with fairness constraints) = %.4f\" % roc.classification_threshold)\n",
    "print(\"Optimal ROC margin = %.4f\" % roc.ROC_margin)"
   ]
  },
  {
   "cell_type": "code",
   "execution_count": 123,
   "metadata": {},
   "outputs": [
    {
     "data": {
      "text/markdown": [
       "#### Transformed predictions - with fairness constraints"
      ],
      "text/plain": [
       "<IPython.core.display.Markdown object>"
      ]
     },
     "metadata": {},
     "output_type": "display_data"
    },
    {
     "name": "stdout",
     "output_type": "stream",
     "text": [
      "Balanced accuracy = 0.6441\n",
      "Statistical parity difference = 0.0018\n",
      "Disparate impact = 1.0070\n",
      "Average odds difference = 0.0393\n",
      "Equal opportunity difference = 0.0324\n",
      "Theil index = 0.4175\n"
     ]
    }
   ],
   "source": [
    "post_val_preds = roc.predict(pre_val_preds)\n",
    "display(Markdown('#### Transformed predictions - with fairness constraints'))\n",
    "\n",
    "post_roc_metric = compute_metrics(pre_val, post_val_preds, \n",
    "    unprivileged_groups = unprivileged_groups, privileged_groups = privileged_groups)"
   ]
  },
  {
   "cell_type": "code",
   "execution_count": 124,
   "metadata": {},
   "outputs": [
    {
     "data": {
      "text/markdown": [
       "#### Transformed predictions - with fairness constraints"
      ],
      "text/plain": [
       "<IPython.core.display.Markdown object>"
      ]
     },
     "metadata": {},
     "output_type": "display_data"
    },
    {
     "name": "stdout",
     "output_type": "stream",
     "text": [
      "Balanced accuracy = 0.6119\n",
      "Statistical parity difference = 0.0144\n",
      "Disparate impact = 1.0611\n",
      "Average odds difference = 0.0397\n",
      "Equal opportunity difference = 0.0529\n",
      "Theil index = 0.4310\n"
     ]
    }
   ],
   "source": [
    "post_test_preds = roc.predict(pre_test_preds)\n",
    "display(Markdown('#### Transformed predictions - with fairness constraints'))\n",
    "\n",
    "post_roc_metric = compute_metrics(original_test, post_test_preds, \n",
    "    unprivileged_groups = unprivileged_groups, privileged_groups = privileged_groups)"
   ]
  },
  {
   "cell_type": "code",
   "execution_count": 54,
   "metadata": {},
   "outputs": [],
   "source": [
    "ROC_bal_acc_arr = []\n",
    "ROC_disp_imp_arr = []\n",
    "ROC_avg_odds_diff_arr = []\n",
    "ROC_eq_opp_diff_arr = []\n",
    "ROC_outcome_unfair_arr = []\n",
    "ROC_acc_equal_arr = []"
   ]
  },
  {
   "cell_type": "code",
   "execution_count": 55,
   "metadata": {},
   "outputs": [],
   "source": [
    "save_to_json(filename = 'ROC_bal_acc_arr.json', data = ROC_bal_acc_arr)\n",
    "save_to_json(filename = 'ROC_disp_imp_arr.json', data = ROC_disp_imp_arr)\n",
    "save_to_json(filename = 'ROC_avg_odds_diff_arr.json', data = ROC_avg_odds_diff_arr)\n",
    "save_to_json(filename = 'ROC_eq_opp_diff_arr.json', data = ROC_eq_opp_diff_arr)\n",
    "save_to_json(filename = 'ROC_outcome_unfair_arr.json', data = ROC_outcome_unfair_arr)\n",
    "save_to_json(filename = 'ROC_acc_equal_arr.json', data = ROC_acc_equal_arr)"
   ]
  },
  {
   "cell_type": "code",
   "execution_count": 56,
   "metadata": {},
   "outputs": [
    {
     "name": "stdout",
     "output_type": "stream",
     "text": [
      "0.6732323232323232\n",
      "0.5445454545454546\n"
     ]
    }
   ],
   "source": [
    "print(roc.classification_threshold)\n",
    "print(best_class_thresh)"
   ]
  },
  {
   "cell_type": "code",
   "execution_count": 125,
   "metadata": {},
   "outputs": [
    {
     "name": "stderr",
     "output_type": "stream",
     "text": [
      " 68%|██████▊   | 68/100 [00:00<00:00, 317.73it/s]invalid value encountered in double_scalars\n",
      "100%|██████████| 100/100 [00:00<00:00, 359.29it/s]"
     ]
    },
    {
     "name": "stdout",
     "output_type": "stream",
     "text": [
      "Balanced accuracy = 0.6185\n",
      "Statistical parity difference = -0.2917\n",
      "Disparate impact = 0.3670\n",
      "Average odds difference = -0.2623\n",
      "Equal opportunity difference = -0.3437\n",
      "Theil index = 0.3991\n"
     ]
    },
    {
     "name": "stderr",
     "output_type": "stream",
     "text": [
      "\n"
     ]
    }
   ],
   "source": [
    "best_class_thresh = roc.classification_threshold\n",
    "\n",
    "for thresh in tqdm(class_thresh_arr):\n",
    "    if thresh == best_class_thresh:\n",
    "        disp = True\n",
    "    else:\n",
    "        disp = False\n",
    "   \n",
    "    fav_inds = post_test_preds.scores > thresh\n",
    "\n",
    "    post_test_preds.labels[fav_inds] = post_test_preds.favorable_label\n",
    "    post_test_preds.labels[~fav_inds] = post_test_preds.unfavorable_label\n",
    "\n",
    "    roc_metric_test = compute_metrics(original_test, post_test_preds, \n",
    "        unprivileged_groups = unprivileged_groups, privileged_groups = privileged_groups, disp = disp)\n",
    "    roc_class_metric_test = ClassificationMetric(original_test, post_test_preds, \\\n",
    "        unprivileged_groups, privileged_groups)\n",
    "\n",
    "    ROC_bal_acc_arr.append(roc_metric_test['Balanced accuracy'])\n",
    "    ROC_avg_odds_diff_arr.append(roc_metric_test['Average odds difference'])\n",
    "    ROC_disp_imp_arr.append(roc_metric_test['Disparate impact'])\n",
    "    ROC_eq_opp_diff_arr.append(roc_metric_test['Equal opportunity difference'])\n",
    "    ROC_outcome_unfair_arr.append(roc_class_metric_test.false_discovery_rate_difference() \\\n",
    "        + roc_class_metric_test.false_positive_rate_difference())\n",
    "    ROC_acc_equal_arr.append((roc_class_metric_test.true_positive_rate(privileged = True) + \\\n",
    "        roc_class_metric_test.true_negative_rate(privileged = True)) - \\\n",
    "            (roc_class_metric_test.true_positive_rate(privileged = False) + \\\n",
    "                roc_class_metric_test.true_negative_rate(privileged = False)))"
   ]
  },
  {
   "cell_type": "code",
   "execution_count": 126,
   "metadata": {},
   "outputs": [
    {
     "ename": "ValueError",
     "evalue": "fp and xp are not of the same length.",
     "output_type": "error",
     "traceback": [
      "\u001b[0;31m---------------------------------------------------------------------------\u001b[0m",
      "\u001b[0;31mValueError\u001b[0m                                Traceback (most recent call last)",
      "\u001b[0;32m<ipython-input-126-9e0586d5b6e0>\u001b[0m in \u001b[0;36m<module>\u001b[0;34m\u001b[0m\n\u001b[0;32m----> 1\u001b[0;31m \u001b[0mROC_bal_acc\u001b[0m \u001b[0;34m=\u001b[0m \u001b[0mnp\u001b[0m\u001b[0;34m.\u001b[0m\u001b[0minterp\u001b[0m\u001b[0;34m(\u001b[0m\u001b[0mbest_class_thresh\u001b[0m\u001b[0;34m,\u001b[0m \u001b[0mclass_thresh_arr\u001b[0m\u001b[0;34m,\u001b[0m \u001b[0mROC_bal_acc_arr\u001b[0m\u001b[0;34m)\u001b[0m\u001b[0;34m\u001b[0m\u001b[0;34m\u001b[0m\u001b[0m\n\u001b[0m\u001b[1;32m      2\u001b[0m \u001b[0mROC_acc_equal\u001b[0m \u001b[0;34m=\u001b[0m \u001b[0mnp\u001b[0m\u001b[0;34m.\u001b[0m\u001b[0minterp\u001b[0m\u001b[0;34m(\u001b[0m\u001b[0mbest_class_thresh\u001b[0m\u001b[0;34m,\u001b[0m \u001b[0mclass_thresh_arr\u001b[0m\u001b[0;34m,\u001b[0m \u001b[0mROC_acc_equal_arr\u001b[0m\u001b[0;34m)\u001b[0m\u001b[0;34m\u001b[0m\u001b[0;34m\u001b[0m\u001b[0m\n\u001b[1;32m      3\u001b[0m \u001b[0mROC_disp_imp\u001b[0m \u001b[0;34m=\u001b[0m \u001b[0mnp\u001b[0m\u001b[0;34m.\u001b[0m\u001b[0minterp\u001b[0m\u001b[0;34m(\u001b[0m\u001b[0mbest_class_thresh\u001b[0m\u001b[0;34m,\u001b[0m \u001b[0mclass_thresh_arr\u001b[0m\u001b[0;34m,\u001b[0m \u001b[0mROC_disp_imp_arr\u001b[0m\u001b[0;34m)\u001b[0m\u001b[0;34m\u001b[0m\u001b[0;34m\u001b[0m\u001b[0m\n\u001b[1;32m      4\u001b[0m \u001b[0mROC_out_unf\u001b[0m \u001b[0;34m=\u001b[0m \u001b[0mnp\u001b[0m\u001b[0;34m.\u001b[0m\u001b[0minterp\u001b[0m\u001b[0;34m(\u001b[0m\u001b[0mbest_class_thresh\u001b[0m\u001b[0;34m,\u001b[0m \u001b[0mclass_thresh_arr\u001b[0m\u001b[0;34m,\u001b[0m \u001b[0mROC_outcome_unfair_arr\u001b[0m\u001b[0;34m)\u001b[0m\u001b[0;34m\u001b[0m\u001b[0;34m\u001b[0m\u001b[0m\n\u001b[1;32m      5\u001b[0m \u001b[0mROC_avg_odds\u001b[0m \u001b[0;34m=\u001b[0m \u001b[0mnp\u001b[0m\u001b[0;34m.\u001b[0m\u001b[0minterp\u001b[0m\u001b[0;34m(\u001b[0m\u001b[0mbest_class_thresh\u001b[0m\u001b[0;34m,\u001b[0m \u001b[0mclass_thresh_arr\u001b[0m\u001b[0;34m,\u001b[0m \u001b[0mROC_avg_odds_diff_arr\u001b[0m\u001b[0;34m)\u001b[0m\u001b[0;34m\u001b[0m\u001b[0;34m\u001b[0m\u001b[0m\n",
      "\u001b[0;32m<__array_function__ internals>\u001b[0m in \u001b[0;36minterp\u001b[0;34m(*args, **kwargs)\u001b[0m\n",
      "\u001b[0;32m/opt/anaconda3/lib/python3.7/site-packages/numpy/lib/function_base.py\u001b[0m in \u001b[0;36minterp\u001b[0;34m(x, xp, fp, left, right, period)\u001b[0m\n\u001b[1;32m   1437\u001b[0m         \u001b[0mfp\u001b[0m \u001b[0;34m=\u001b[0m \u001b[0mnp\u001b[0m\u001b[0;34m.\u001b[0m\u001b[0mconcatenate\u001b[0m\u001b[0;34m(\u001b[0m\u001b[0;34m(\u001b[0m\u001b[0mfp\u001b[0m\u001b[0;34m[\u001b[0m\u001b[0;34m-\u001b[0m\u001b[0;36m1\u001b[0m\u001b[0;34m:\u001b[0m\u001b[0;34m]\u001b[0m\u001b[0;34m,\u001b[0m \u001b[0mfp\u001b[0m\u001b[0;34m,\u001b[0m \u001b[0mfp\u001b[0m\u001b[0;34m[\u001b[0m\u001b[0;36m0\u001b[0m\u001b[0;34m:\u001b[0m\u001b[0;36m1\u001b[0m\u001b[0;34m]\u001b[0m\u001b[0;34m)\u001b[0m\u001b[0;34m)\u001b[0m\u001b[0;34m\u001b[0m\u001b[0;34m\u001b[0m\u001b[0m\n\u001b[1;32m   1438\u001b[0m \u001b[0;34m\u001b[0m\u001b[0m\n\u001b[0;32m-> 1439\u001b[0;31m     \u001b[0;32mreturn\u001b[0m \u001b[0minterp_func\u001b[0m\u001b[0;34m(\u001b[0m\u001b[0mx\u001b[0m\u001b[0;34m,\u001b[0m \u001b[0mxp\u001b[0m\u001b[0;34m,\u001b[0m \u001b[0mfp\u001b[0m\u001b[0;34m,\u001b[0m \u001b[0mleft\u001b[0m\u001b[0;34m,\u001b[0m \u001b[0mright\u001b[0m\u001b[0;34m)\u001b[0m\u001b[0;34m\u001b[0m\u001b[0;34m\u001b[0m\u001b[0m\n\u001b[0m\u001b[1;32m   1440\u001b[0m \u001b[0;34m\u001b[0m\u001b[0m\n\u001b[1;32m   1441\u001b[0m \u001b[0;34m\u001b[0m\u001b[0m\n",
      "\u001b[0;31mValueError\u001b[0m: fp and xp are not of the same length."
     ]
    }
   ],
   "source": [
    "ROC_bal_acc = np.interp(best_class_thresh, class_thresh_arr, ROC_bal_acc_arr)\n",
    "ROC_acc_equal = np.interp(best_class_thresh, class_thresh_arr, ROC_acc_equal_arr)\n",
    "ROC_disp_imp = np.interp(best_class_thresh, class_thresh_arr, ROC_disp_imp_arr)\n",
    "ROC_out_unf = np.interp(best_class_thresh, class_thresh_arr, ROC_outcome_unfair_arr)\n",
    "ROC_avg_odds = np.interp(best_class_thresh, class_thresh_arr, ROC_avg_odds_diff_arr)\n",
    "ROC_eq_odds = np.interp(best_class_thresh, class_thresh_arr, ROC_eq_opp_diff_arr)"
   ]
  },
  {
   "cell_type": "code",
   "execution_count": 59,
   "metadata": {},
   "outputs": [
    {
     "data": {
      "text/html": [
       "<div>\n",
       "<style scoped>\n",
       "    .dataframe tbody tr th:only-of-type {\n",
       "        vertical-align: middle;\n",
       "    }\n",
       "\n",
       "    .dataframe tbody tr th {\n",
       "        vertical-align: top;\n",
       "    }\n",
       "\n",
       "    .dataframe thead th {\n",
       "        text-align: right;\n",
       "    }\n",
       "</style>\n",
       "<table border=\"1\" class=\"dataframe\">\n",
       "  <thead>\n",
       "    <tr style=\"text-align: right;\">\n",
       "      <th></th>\n",
       "      <th>Metric</th>\n",
       "      <th>Reject-option Classification</th>\n",
       "    </tr>\n",
       "  </thead>\n",
       "  <tbody>\n",
       "    <tr>\n",
       "      <th>0</th>\n",
       "      <td>Balanced Accuracy</td>\n",
       "      <td>0.587425</td>\n",
       "    </tr>\n",
       "    <tr>\n",
       "      <th>1</th>\n",
       "      <td>Accuracy Equality</td>\n",
       "      <td>0.057353</td>\n",
       "    </tr>\n",
       "    <tr>\n",
       "      <th>2</th>\n",
       "      <td>Disparate Impact</td>\n",
       "      <td>0.620155</td>\n",
       "    </tr>\n",
       "    <tr>\n",
       "      <th>3</th>\n",
       "      <td>Outcome Unfairess</td>\n",
       "      <td>0.029671</td>\n",
       "    </tr>\n",
       "    <tr>\n",
       "      <th>4</th>\n",
       "      <td>Average Odds Difference</td>\n",
       "      <td>-0.082626</td>\n",
       "    </tr>\n",
       "    <tr>\n",
       "      <th>5</th>\n",
       "      <td>Equal Opportunity Difference</td>\n",
       "      <td>-0.111302</td>\n",
       "    </tr>\n",
       "  </tbody>\n",
       "</table>\n",
       "</div>"
      ],
      "text/plain": [
       "                         Metric  Reject-option Classification\n",
       "0             Balanced Accuracy                      0.587425\n",
       "1             Accuracy Equality                      0.057353\n",
       "2              Disparate Impact                      0.620155\n",
       "3             Outcome Unfairess                      0.029671\n",
       "4       Average Odds Difference                     -0.082626\n",
       "5  Equal Opportunity Difference                     -0.111302"
      ]
     },
     "execution_count": 59,
     "metadata": {},
     "output_type": "execute_result"
    }
   ],
   "source": [
    "ROC_results = {'Metric': ['Balanced Accuracy', 'Accuracy Equality', 'Disparate Impact', 'Outcome Unfairess', 'Average Odds Difference', 'Equal Opportunity Difference'],\n",
    "    'Reject-option Classification': [ROC_bal_acc, ROC_acc_equal, ROC_disp_imp, ROC_out_unf, ROC_avg_odds, ROC_eq_odds]}\n",
    "ROC_results_df = pd.DataFrame(ROC_results)\n",
    "df_to_json(filename = 'ROC_results.json', df = ROC_results_df)\n",
    "ROC_results_df"
   ]
  },
  {
   "cell_type": "markdown",
   "metadata": {},
   "source": [
    "### Calibrated Equalised-odds Difference"
   ]
  },
  {
   "cell_type": "code",
   "execution_count": 13,
   "metadata": {},
   "outputs": [],
   "source": [
    "pre_scaler = StandardScaler()\n",
    "pre_train = original_train.copy(deepcopy = True)\n",
    "pre_train_preds = original_train.copy(deepcopy = True)\n",
    "pre_X_train = pre_scaler.fit_transform(pre_train.features)\n",
    "pre_y_train = pre_train.labels.ravel()\n",
    "\n",
    "lr = LogisticRegression()\n",
    "lr.fit(pre_X_train, pre_y_train)\n",
    "y_train_preds_pre = lr.predict(pre_X_train)\n",
    "\n",
    "# positive class index\n",
    "pos_ind = np.where(lr.classes_ == pre_train.favorable_label)[0][0]\n",
    "pre_train_preds.labels = y_train_preds_pre\n",
    "\n",
    "pre_val = original_val.copy(deepcopy = True)\n",
    "pre_val_preds = original_val.copy(deepcopy = True)\n",
    "X_valid = pre_scaler.transform(pre_val_preds.features)\n",
    "y_valid = pre_val_preds.labels\n",
    "pre_val_preds.scores = lr.predict_proba(X_valid)[:,pos_ind].reshape(-1,1)\n",
    "\n",
    "pre_test = original_test.copy(deepcopy = True)\n",
    "pre_test_preds = original_test.copy(deepcopy = True)\n",
    "X_test = pre_scaler.transform(pre_test_preds.features)\n",
    "y_test = pre_test_preds.labels\n",
    "pre_test_preds.scores = lr.predict_proba(X_test)[:,pos_ind].reshape(-1,1)"
   ]
  },
  {
   "cell_type": "code",
   "execution_count": 14,
   "metadata": {},
   "outputs": [],
   "source": [
    "num_thresh = 100\n",
    "ba_arr = np.zeros(num_thresh)\n",
    "class_thresh_arr = np.linspace(0.01, 0.99, num_thresh)\n",
    "\n",
    "for idx, class_thresh in enumerate(class_thresh_arr):\n",
    "    \n",
    "    fav_inds = pre_val_preds.scores > class_thresh\n",
    "    pre_val_preds.labels[fav_inds] = pre_val_preds.favorable_label\n",
    "    pre_val_preds.labels[~fav_inds] = pre_val_preds.unfavorable_label\n",
    "    \n",
    "    pre_val_classified_metric = ClassificationMetric(pre_val,\n",
    "        pre_val_preds, unprivileged_groups=unprivileged_groups,\n",
    "        privileged_groups=privileged_groups)\n",
    "    \n",
    "    ba_arr[idx] = 0.5*(pre_val_classified_metric.true_positive_rate()\\\n",
    "                       + pre_val_classified_metric.true_negative_rate())\n",
    "\n",
    "best_ind = np.where(ba_arr == np.max(ba_arr))[0][0]\n",
    "best_class_thresh = class_thresh_arr[best_ind]"
   ]
  },
  {
   "cell_type": "code",
   "execution_count": 15,
   "metadata": {},
   "outputs": [],
   "source": [
    "pre_val_metric = ClassificationMetric(pre_val, pre_val_preds, unprivileged_groups = unprivileged_groups, \n",
    "    privileged_groups = privileged_groups)\n",
    "pre_test_metric = ClassificationMetric(pre_test, pre_test_preds, unprivileged_groups = unprivileged_groups, \n",
    "    privileged_groups = privileged_groups)"
   ]
  },
  {
   "cell_type": "code",
   "execution_count": 16,
   "metadata": {},
   "outputs": [],
   "source": [
    "def get_cost_constraint(constraints, dataset):\n",
    "    validation_constraints = {'Cost Constraint': [], 'Difference in GFPR': [], 'Difference in GFNR': []}\n",
    "    testing_constraints = {'Cost Constraint': [], 'Difference in GFPR': [], 'Difference in GFNR': []}\n",
    "    if dataset == 'Validation':\n",
    "        for constraint in constraints:\n",
    "            ceo = CalibratedEqOddsPostprocessing(privileged_groups = privileged_groups, unprivileged_groups = unprivileged_groups, \n",
    "                cost_constraint = constraint, seed = 12345679)\n",
    "            ceo.fit(pre_val, pre_val_preds)\n",
    "            post_val_preds = ceo.predict(pre_val_preds)\n",
    "            post_val_metric = ClassificationMetric(pre_val_preds, post_val_preds, unprivileged_groups = unprivileged_groups, \n",
    "                privileged_groups = privileged_groups)\n",
    "            validation_constraints['Cost Constraint'].append(constraint)\n",
    "            validation_constraints['Difference in GFPR'].append(post_val_metric.difference(post_val_metric.generalized_false_positive_rate))\n",
    "            validation_constraints['Difference in GFNR'].append(post_val_metric.difference(post_val_metric.generalized_false_negative_rate))\n",
    "        return pd.DataFrame(validation_constraints)\n",
    "    elif dataset == 'Testing':\n",
    "        for constraint in constraints:\n",
    "            ceo = CalibratedEqOddsPostprocessing(privileged_groups = privileged_groups, unprivileged_groups = unprivileged_groups, \n",
    "                cost_constraint = constraint, seed = 12345679)\n",
    "            ceo.fit(pre_test, pre_test_preds)\n",
    "            post_test_preds = ceo.predict(pre_test_preds)\n",
    "            post_test_metric = ClassificationMetric(pre_test_preds, post_test_preds, unprivileged_groups = unprivileged_groups, \n",
    "                privileged_groups = privileged_groups)\n",
    "            testing_constraints['Cost Constraint'].append(constraint)\n",
    "            testing_constraints['Difference in GFPR'].append(post_test_metric.difference(post_test_metric.generalized_false_positive_rate))\n",
    "            testing_constraints['Difference in GFNR'].append(post_test_metric.difference(post_test_metric.generalized_false_negative_rate))       \n",
    "        return pd.DataFrame(testing_constraints)"
   ]
  },
  {
   "cell_type": "code",
   "execution_count": 17,
   "metadata": {},
   "outputs": [
    {
     "name": "stderr",
     "output_type": "stream",
     "text": [
      "invalid value encountered in double_scalars\n",
      "invalid value encountered in double_scalars\n"
     ]
    },
    {
     "data": {
      "text/html": [
       "<div>\n",
       "<style scoped>\n",
       "    .dataframe tbody tr th:only-of-type {\n",
       "        vertical-align: middle;\n",
       "    }\n",
       "\n",
       "    .dataframe tbody tr th {\n",
       "        vertical-align: top;\n",
       "    }\n",
       "\n",
       "    .dataframe thead th {\n",
       "        text-align: right;\n",
       "    }\n",
       "</style>\n",
       "<table border=\"1\" class=\"dataframe\">\n",
       "  <thead>\n",
       "    <tr style=\"text-align: right;\">\n",
       "      <th></th>\n",
       "      <th>Cost Constraint</th>\n",
       "      <th>Difference in GFPR</th>\n",
       "      <th>Difference in GFNR</th>\n",
       "    </tr>\n",
       "  </thead>\n",
       "  <tbody>\n",
       "    <tr>\n",
       "      <th>0</th>\n",
       "      <td>fpr</td>\n",
       "      <td>-0.141941</td>\n",
       "      <td>NaN</td>\n",
       "    </tr>\n",
       "    <tr>\n",
       "      <th>1</th>\n",
       "      <td>fnr</td>\n",
       "      <td>-0.127628</td>\n",
       "      <td>NaN</td>\n",
       "    </tr>\n",
       "    <tr>\n",
       "      <th>2</th>\n",
       "      <td>weighted</td>\n",
       "      <td>-0.130849</td>\n",
       "      <td>NaN</td>\n",
       "    </tr>\n",
       "  </tbody>\n",
       "</table>\n",
       "</div>"
      ],
      "text/plain": [
       "  Cost Constraint  Difference in GFPR  Difference in GFNR\n",
       "0             fpr           -0.141941                 NaN\n",
       "1             fnr           -0.127628                 NaN\n",
       "2        weighted           -0.130849                 NaN"
      ]
     },
     "execution_count": 17,
     "metadata": {},
     "output_type": "execute_result"
    }
   ],
   "source": [
    "constraints = ['fpr', 'fnr', 'weighted']\n",
    "get_cost_constraint(constraints = constraints, dataset = 'Validation')"
   ]
  },
  {
   "cell_type": "code",
   "execution_count": 18,
   "metadata": {},
   "outputs": [
    {
     "data": {
      "text/html": [
       "<div>\n",
       "<style scoped>\n",
       "    .dataframe tbody tr th:only-of-type {\n",
       "        vertical-align: middle;\n",
       "    }\n",
       "\n",
       "    .dataframe tbody tr th {\n",
       "        vertical-align: top;\n",
       "    }\n",
       "\n",
       "    .dataframe thead th {\n",
       "        text-align: right;\n",
       "    }\n",
       "</style>\n",
       "<table border=\"1\" class=\"dataframe\">\n",
       "  <thead>\n",
       "    <tr style=\"text-align: right;\">\n",
       "      <th></th>\n",
       "      <th>Cost Constraint</th>\n",
       "      <th>Difference in GFPR</th>\n",
       "      <th>Difference in GFNR</th>\n",
       "    </tr>\n",
       "  </thead>\n",
       "  <tbody>\n",
       "    <tr>\n",
       "      <th>0</th>\n",
       "      <td>fpr</td>\n",
       "      <td>-0.063466</td>\n",
       "      <td>0.204623</td>\n",
       "    </tr>\n",
       "    <tr>\n",
       "      <th>1</th>\n",
       "      <td>fnr</td>\n",
       "      <td>-0.156242</td>\n",
       "      <td>0.042271</td>\n",
       "    </tr>\n",
       "    <tr>\n",
       "      <th>2</th>\n",
       "      <td>weighted</td>\n",
       "      <td>-0.122506</td>\n",
       "      <td>0.092406</td>\n",
       "    </tr>\n",
       "  </tbody>\n",
       "</table>\n",
       "</div>"
      ],
      "text/plain": [
       "  Cost Constraint  Difference in GFPR  Difference in GFNR\n",
       "0             fpr           -0.063466            0.204623\n",
       "1             fnr           -0.156242            0.042271\n",
       "2        weighted           -0.122506            0.092406"
      ]
     },
     "execution_count": 18,
     "metadata": {},
     "output_type": "execute_result"
    }
   ],
   "source": [
    "get_cost_constraint(constraints = constraints, dataset = 'Testing')"
   ]
  },
  {
   "cell_type": "code",
   "execution_count": 19,
   "metadata": {},
   "outputs": [],
   "source": [
    "ceo = CalibratedEqOddsPostprocessing(privileged_groups = privileged_groups, \n",
    "    unprivileged_groups = unprivileged_groups, cost_constraint = 'weighted')\n",
    "ceo.fit(pre_val, pre_val_preds)\n",
    "post_val_preds = ceo.predict(pre_val_preds)\n",
    "post_test_preds = ceo.predict(pre_test_preds)"
   ]
  },
  {
   "cell_type": "code",
   "execution_count": 20,
   "metadata": {},
   "outputs": [],
   "source": [
    "post_val_metric = ClassificationMetric(pre_val, post_val_preds, unprivileged_groups = unprivileged_groups, \n",
    "    privileged_groups = privileged_groups)\n",
    "post_test_metric = ClassificationMetric(pre_test, post_test_preds, unprivileged_groups = unprivileged_groups, \n",
    "    privileged_groups = privileged_groups)"
   ]
  },
  {
   "cell_type": "code",
   "execution_count": 21,
   "metadata": {},
   "outputs": [],
   "source": [
    "assert np.abs(post_val_metric.difference(post_val_metric.generalized_false_negative_rate)) < \\\n",
    "    np.abs(pre_val_metric.difference(pre_val_metric.generalized_false_negative_rate))"
   ]
  },
  {
   "cell_type": "code",
   "execution_count": 22,
   "metadata": {},
   "outputs": [],
   "source": [
    "assert np.abs(post_test_metric.difference(post_test_metric.generalized_false_negative_rate)) < \\\n",
    "    np.abs(pre_test_metric.difference(pre_test_metric.generalized_false_negative_rate))"
   ]
  },
  {
   "cell_type": "code",
   "execution_count": 23,
   "metadata": {},
   "outputs": [],
   "source": [
    "CEOD_bal_acc_arr = []\n",
    "CEOD_disp_imp_arr = []\n",
    "CEOD_avg_odds_diff_arr = []\n",
    "CEOD_eq_opp_diff_arr = []\n",
    "CEOD_outcome_unfair_arr = []\n",
    "CEOD_acc_equal_arr = []"
   ]
  },
  {
   "cell_type": "code",
   "execution_count": 24,
   "metadata": {},
   "outputs": [
    {
     "data": {
      "text/markdown": [
       "#### Predictions from the original testing data"
      ],
      "text/plain": [
       "<IPython.core.display.Markdown object>"
      ]
     },
     "metadata": {},
     "output_type": "display_data"
    },
    {
     "name": "stderr",
     "output_type": "stream",
     "text": [
      " 35%|███▌      | 35/100 [00:00<00:00, 348.72it/s]"
     ]
    },
    {
     "name": "stdout",
     "output_type": "stream",
     "text": [
      "Classification threshold used: 0.5445\n",
      "Balanced accuracy = 0.6613\n",
      "Statistical parity difference = -0.4748"
     ]
    },
    {
     "name": "stderr",
     "output_type": "stream",
     "text": [
      " 55%|█████▌    | 55/100 [00:00<00:00, 227.93it/s]invalid value encountered in double_scalars\n",
      "100%|██████████| 100/100 [00:00<00:00, 270.88it/s]"
     ]
    },
    {
     "name": "stdout",
     "output_type": "stream",
     "text": [
      "\n",
      "Disparate impact = 0.4083\n",
      "Average odds difference = -0.4461\n",
      "Equal opportunity difference = -0.4064\n",
      "Theil index = 0.2305\n"
     ]
    },
    {
     "name": "stderr",
     "output_type": "stream",
     "text": [
      "\n"
     ]
    }
   ],
   "source": [
    "display(Markdown('#### Predictions from the original testing data'))\n",
    "print('Classification threshold used: %.4f' % best_class_thresh)\n",
    "\n",
    "for thresh in tqdm(class_thresh_arr):\n",
    "    if thresh == best_class_thresh:\n",
    "        disp = True\n",
    "    else:\n",
    "        disp = False\n",
    "\n",
    "    fav_inds = post_test_preds.scores > thresh\n",
    "    post_test_preds.labels[fav_inds] = post_test_preds.favorable_label\n",
    "    post_test_preds.labels[~fav_inds] = post_test_preds.unfavorable_label\n",
    "    \n",
    "    ceod_metric_test = compute_metrics(pre_test, post_test_preds, \\\n",
    "        unprivileged_groups, privileged_groups, disp = disp)\n",
    "    ceod_class_metric_test = ClassificationMetric(pre_test, post_test_preds, \\\n",
    "        unprivileged_groups, privileged_groups)\n",
    "    \n",
    "    CEOD_bal_acc_arr.append(ceod_metric_test['Balanced accuracy'])\n",
    "    CEOD_avg_odds_diff_arr.append(ceod_metric_test['Average odds difference'])\n",
    "    CEOD_disp_imp_arr.append(ceod_metric_test['Disparate impact'])\n",
    "    CEOD_eq_opp_diff_arr.append(ceod_metric_test['Equal opportunity difference'])\n",
    "    CEOD_outcome_unfair_arr.append(ceod_class_metric_test.false_discovery_rate_difference() \\\n",
    "        + ceod_class_metric_test.false_positive_rate_difference())\n",
    "    CEOD_acc_equal_arr.append((ceod_class_metric_test.true_positive_rate(privileged = True) + \\\n",
    "        ceod_class_metric_test.true_negative_rate(privileged = True)) - \\\n",
    "            (ceod_class_metric_test.true_positive_rate(privileged = False) + \\\n",
    "                ceod_class_metric_test.true_negative_rate(privileged = False)))"
   ]
  },
  {
   "cell_type": "code",
   "execution_count": 25,
   "metadata": {},
   "outputs": [],
   "source": [
    "save_to_json(filename = 'CEOD_bal_acc_arr.json', data = CEOD_bal_acc_arr)\n",
    "save_to_json(filename = 'CEOD_disp_imp_arr.json', data = CEOD_disp_imp_arr)\n",
    "save_to_json(filename = 'CEOD_avg_odds_diff_arr.json', data = CEOD_avg_odds_diff_arr)\n",
    "save_to_json(filename = 'CEOD_eq_opp_diff_arr.json', data = CEOD_eq_opp_diff_arr)\n",
    "save_to_json(filename = 'CEOD_outcome_unfair_arr.json', data = CEOD_outcome_unfair_arr)\n",
    "save_to_json(filename = 'CEOD_acc_equal_arr.json', data = CEOD_acc_equal_arr)"
   ]
  },
  {
   "cell_type": "code",
   "execution_count": 26,
   "metadata": {},
   "outputs": [],
   "source": [
    "CEOD_bal_acc = np.interp(best_class_thresh, class_thresh_arr, CEOD_bal_acc_arr)\n",
    "CEOD_acc_equal = np.interp(best_class_thresh, class_thresh_arr, CEOD_acc_equal_arr)\n",
    "CEOD_disp_imp = np.interp(best_class_thresh, class_thresh_arr, CEOD_disp_imp_arr)\n",
    "CEOD_out_unf = np.interp(best_class_thresh, class_thresh_arr, CEOD_outcome_unfair_arr)\n",
    "CEOD_avg_odds = np.interp(best_class_thresh, class_thresh_arr, CEOD_avg_odds_diff_arr)\n",
    "CEOD_eq_odds = np.interp(best_class_thresh, class_thresh_arr, CEOD_eq_opp_diff_arr)"
   ]
  },
  {
   "cell_type": "code",
   "execution_count": 27,
   "metadata": {},
   "outputs": [
    {
     "data": {
      "text/html": [
       "<div>\n",
       "<style scoped>\n",
       "    .dataframe tbody tr th:only-of-type {\n",
       "        vertical-align: middle;\n",
       "    }\n",
       "\n",
       "    .dataframe tbody tr th {\n",
       "        vertical-align: top;\n",
       "    }\n",
       "\n",
       "    .dataframe thead th {\n",
       "        text-align: right;\n",
       "    }\n",
       "</style>\n",
       "<table border=\"1\" class=\"dataframe\">\n",
       "  <thead>\n",
       "    <tr style=\"text-align: right;\">\n",
       "      <th></th>\n",
       "      <th>Metric</th>\n",
       "      <th>Calibrated Equal Odds</th>\n",
       "    </tr>\n",
       "  </thead>\n",
       "  <tbody>\n",
       "    <tr>\n",
       "      <th>0</th>\n",
       "      <td>Balanced Accuracy</td>\n",
       "      <td>0.661269</td>\n",
       "    </tr>\n",
       "    <tr>\n",
       "      <th>1</th>\n",
       "      <td>Accuracy Equality</td>\n",
       "      <td>-0.079483</td>\n",
       "    </tr>\n",
       "    <tr>\n",
       "      <th>2</th>\n",
       "      <td>Disparate Impact</td>\n",
       "      <td>0.408339</td>\n",
       "    </tr>\n",
       "    <tr>\n",
       "      <th>3</th>\n",
       "      <td>Outcome Unfairess</td>\n",
       "      <td>-0.534208</td>\n",
       "    </tr>\n",
       "    <tr>\n",
       "      <th>4</th>\n",
       "      <td>Average Odds Difference</td>\n",
       "      <td>-0.446130</td>\n",
       "    </tr>\n",
       "    <tr>\n",
       "      <th>5</th>\n",
       "      <td>Equal Opportunity Difference</td>\n",
       "      <td>-0.406388</td>\n",
       "    </tr>\n",
       "  </tbody>\n",
       "</table>\n",
       "</div>"
      ],
      "text/plain": [
       "                         Metric  Calibrated Equal Odds\n",
       "0             Balanced Accuracy               0.661269\n",
       "1             Accuracy Equality              -0.079483\n",
       "2              Disparate Impact               0.408339\n",
       "3             Outcome Unfairess              -0.534208\n",
       "4       Average Odds Difference              -0.446130\n",
       "5  Equal Opportunity Difference              -0.406388"
      ]
     },
     "execution_count": 27,
     "metadata": {},
     "output_type": "execute_result"
    }
   ],
   "source": [
    "CEOD_results = {'Metric': ['Balanced Accuracy', 'Accuracy Equality', 'Disparate Impact', 'Outcome Unfairess', 'Average Odds Difference', 'Equal Opportunity Difference'],\n",
    "    'Calibrated Equal Odds': [CEOD_bal_acc, CEOD_acc_equal, CEOD_disp_imp, CEOD_out_unf, CEOD_avg_odds, CEOD_eq_odds]}\n",
    "CEOD_results_df = pd.DataFrame(CEOD_results)\n",
    "df_to_json(filename = 'CEOD_results.json', df = CEOD_results_df)\n",
    "CEOD_results_df"
   ]
  },
  {
   "cell_type": "markdown",
   "metadata": {},
   "source": [
    "## Cross-model Comparison"
   ]
  },
  {
   "cell_type": "markdown",
   "metadata": {},
   "source": [
    "### Results at the best classification threshold"
   ]
  },
  {
   "cell_type": "code",
   "execution_count": 28,
   "metadata": {},
   "outputs": [],
   "source": [
    "LR = json_to_data(filename = 'LR_results.json')\n",
    "RW = json_to_data(filename = 'RW_results.json')\n",
    "AD = json_to_data(filename = 'AD_results.json')\n",
    "PR = json_to_data(filename = 'PR_results.json')\n",
    "ROC = json_to_data(filename = 'ROC_results.json')\n",
    "CEOD = json_to_data(filename = 'CEOD_results.json')"
   ]
  },
  {
   "cell_type": "code",
   "execution_count": 29,
   "metadata": {},
   "outputs": [],
   "source": [
    "RW = RW.drop(columns = ['Metric'], axis = 1)\n",
    "AD = AD.drop(columns = ['Metric'], axis = 1)\n",
    "PR = PR.drop(columns = ['Metric'], axis = 1)\n",
    "ROC = ROC.drop(columns = ['Metric'], axis = 1)\n",
    "CEOD = CEOD.drop(columns = ['Metric'], axis = 1)"
   ]
  },
  {
   "cell_type": "code",
   "execution_count": 30,
   "metadata": {},
   "outputs": [
    {
     "data": {
      "text/html": [
       "<div>\n",
       "<style scoped>\n",
       "    .dataframe tbody tr th:only-of-type {\n",
       "        vertical-align: middle;\n",
       "    }\n",
       "\n",
       "    .dataframe tbody tr th {\n",
       "        vertical-align: top;\n",
       "    }\n",
       "\n",
       "    .dataframe thead th {\n",
       "        text-align: right;\n",
       "    }\n",
       "</style>\n",
       "<table border=\"1\" class=\"dataframe\">\n",
       "  <thead>\n",
       "    <tr style=\"text-align: right;\">\n",
       "      <th></th>\n",
       "      <th>Metric</th>\n",
       "      <th>Logistic Regression</th>\n",
       "      <th>Reweighing</th>\n",
       "      <th>Adversarial Debiasing</th>\n",
       "      <th>Prejudice Remover</th>\n",
       "      <th>Reject-option Classification</th>\n",
       "      <th>Calibrated Equal Odds</th>\n",
       "    </tr>\n",
       "  </thead>\n",
       "  <tbody>\n",
       "    <tr>\n",
       "      <th>0</th>\n",
       "      <td>Balanced Accuracy</td>\n",
       "      <td>0.654122</td>\n",
       "      <td>0.635750</td>\n",
       "      <td>0.344321</td>\n",
       "      <td>0.494713</td>\n",
       "      <td>0.623943</td>\n",
       "      <td>0.661269</td>\n",
       "    </tr>\n",
       "    <tr>\n",
       "      <th>1</th>\n",
       "      <td>Accuracy Equality</td>\n",
       "      <td>-0.115145</td>\n",
       "      <td>-0.109287</td>\n",
       "      <td>0.049692</td>\n",
       "      <td>0.264205</td>\n",
       "      <td>-0.021493</td>\n",
       "      <td>-0.079483</td>\n",
       "    </tr>\n",
       "    <tr>\n",
       "      <th>2</th>\n",
       "      <td>Disparate Impact</td>\n",
       "      <td>0.639496</td>\n",
       "      <td>1.036927</td>\n",
       "      <td>0.936972</td>\n",
       "      <td>1.086932</td>\n",
       "      <td>0.398426</td>\n",
       "      <td>0.408339</td>\n",
       "    </tr>\n",
       "    <tr>\n",
       "      <th>3</th>\n",
       "      <td>Outcome Unfairess</td>\n",
       "      <td>-0.241506</td>\n",
       "      <td>0.090454</td>\n",
       "      <td>0.130411</td>\n",
       "      <td>0.472035</td>\n",
       "      <td>-0.364666</td>\n",
       "      <td>-0.534208</td>\n",
       "    </tr>\n",
       "    <tr>\n",
       "      <th>4</th>\n",
       "      <td>Average Odds Difference</td>\n",
       "      <td>-0.222403</td>\n",
       "      <td>0.052132</td>\n",
       "      <td>-0.068714</td>\n",
       "      <td>0.046864</td>\n",
       "      <td>-0.369857</td>\n",
       "      <td>-0.446130</td>\n",
       "    </tr>\n",
       "    <tr>\n",
       "      <th>5</th>\n",
       "      <td>Equal Opportunity Difference</td>\n",
       "      <td>-0.164830</td>\n",
       "      <td>0.106776</td>\n",
       "      <td>-0.093561</td>\n",
       "      <td>-0.085238</td>\n",
       "      <td>-0.359111</td>\n",
       "      <td>-0.406388</td>\n",
       "    </tr>\n",
       "  </tbody>\n",
       "</table>\n",
       "</div>"
      ],
      "text/plain": [
       "                         Metric  Logistic Regression  Reweighing  \\\n",
       "0             Balanced Accuracy             0.654122    0.635750   \n",
       "1             Accuracy Equality            -0.115145   -0.109287   \n",
       "2              Disparate Impact             0.639496    1.036927   \n",
       "3             Outcome Unfairess            -0.241506    0.090454   \n",
       "4       Average Odds Difference            -0.222403    0.052132   \n",
       "5  Equal Opportunity Difference            -0.164830    0.106776   \n",
       "\n",
       "   Adversarial Debiasing  Prejudice Remover  Reject-option Classification  \\\n",
       "0               0.344321           0.494713                      0.623943   \n",
       "1               0.049692           0.264205                     -0.021493   \n",
       "2               0.936972           1.086932                      0.398426   \n",
       "3               0.130411           0.472035                     -0.364666   \n",
       "4              -0.068714           0.046864                     -0.369857   \n",
       "5              -0.093561          -0.085238                     -0.359111   \n",
       "\n",
       "   Calibrated Equal Odds  \n",
       "0               0.661269  \n",
       "1              -0.079483  \n",
       "2               0.408339  \n",
       "3              -0.534208  \n",
       "4              -0.446130  \n",
       "5              -0.406388  "
      ]
     },
     "execution_count": 30,
     "metadata": {},
     "output_type": "execute_result"
    }
   ],
   "source": [
    "results = pd.concat([LR, RW, AD, PR, ROC, CEOD], axis = 1)\n",
    "results"
   ]
  },
  {
   "cell_type": "code",
   "execution_count": 146,
   "metadata": {},
   "outputs": [],
   "source": [
    "bal_accs = {'Method': ['Logistic Regression', 'Reweighing', 'Adversarial Debiasing', 'Prejudice Remover', 'Reject-option', 'Calibrated Equal-odds'], \n",
    "    'Result': [LR_bal_acc, RW_bal_acc, AD_bal_acc, PR_bal_acc, ROC_bal_acc, CEOD_bal_acc]}\n",
    "bal_accs = pd.DataFrame(bal_accs)\n",
    "acc_eqs = {'Method': ['Logistic Regression', 'Reweighing', 'Adversarial Debiasing', 'Prejudice Remover', 'Reject-option', 'Calibrated Equal-odds'], \n",
    "    'Result': [LR_acc_equal, RW_acc_equal, AD_acc_equal, PR_acc_equal, ROC_acc_equal, CEOD_acc_equal]}\n",
    "acc_eqs = pd.DataFrame(acc_eqs)\n",
    "disp_imps = {'Method': ['Logistic Regression', 'Reweighing', 'Adversarial Debiasing', 'Prejudice Remover', 'Reject-option', 'Calibrated Equal-odds'], \n",
    "    'Result': [LR_disp_imp, RW_disp_imp, AD_disp_imp, PR_disp_imp, ROC_disp_imp, CEOD_disp_imp]}\n",
    "disp_imps = pd.DataFrame(disp_imps)\n",
    "out_unfs = {'Method': ['Logistic Regression', 'Reweighing', 'Adversarial Debiasing', 'Prejudice Remover', 'Reject-option', 'Calibrated Equal-odds'], \n",
    "    'Result': [LR_out_unf, RW_out_unf, AD_out_unf, PR_out_unf, ROC_out_unf, CEOD_out_unf]}\n",
    "out_unfs = pd.DataFrame(out_unfs)\n",
    "avg_odds = {'Method': ['Logistic Regression', 'Reweighing', 'Adversarial Debiasing', 'Prejudice Remover', 'Reject-option', 'Calibrated Equal-odds'], \n",
    "    'Result': [LR_avg_odds, RW_avg_odds, AD_avg_odds, PR_avg_odds, ROC_avg_odds, CEOD_avg_odds]}\n",
    "avg_odds = pd.DataFrame(avg_odds)\n",
    "eq_opps = {'Method': ['Logistic Regression', 'Reweighing', 'Adversarial Debiasing', 'Prejudice Remover', 'Reject-option', 'Calibrated Equal-odds'], \n",
    "    'Result': [LR_eq_odds, RW_eq_odds, AD_eq_odds, PR_eq_odds, ROC_eq_odds, CEOD_eq_odds]}\n",
    "eq_opps = pd.DataFrame(eq_opps)"
   ]
  },
  {
   "cell_type": "markdown",
   "metadata": {},
   "source": [
    "### Results across the classification thresholds"
   ]
  },
  {
   "cell_type": "code",
   "execution_count": 152,
   "metadata": {},
   "outputs": [],
   "source": [
    "def plot_results(x, y, data, metricname, order, saveto):\n",
    "    plt.figure(figsize = (12, 8))\n",
    "    sns.set_style('whitegrid')\n",
    "    ax = sns.barplot(x = x, y = y, data = data, \n",
    "        palette = sns.color_palette('Greens_r', 6), order = order)\n",
    "    for val in ax.patches:\n",
    "        ax.annotate(format(val.get_height(), '.4f'), (val.get_x() + val.get_width() / 2., val.get_height()), \n",
    "            ha = 'center', va = 'center', xytext = (0, 9), textcoords = 'offset points')\n",
    "    ax.set_ylabel(metricname)\n",
    "    plt.savefig(saveto, bbox_inches = 'tight')"
   ]
  },
  {
   "cell_type": "code",
   "execution_count": 153,
   "metadata": {},
   "outputs": [
    {
     "data": {
      "image/png": "[encoded data removed]",
      "text/plain": [
       "<Figure size 864x576 with 1 Axes>"
      ]
     },
     "metadata": {},
     "output_type": "display_data"
    }
   ],
   "source": [
    "plot_results(x = 'Method', y = 'Result', data = bal_accs, \n",
    "    metricname = 'Balanced Accuracy', saveto = 'RES_BAL_ACC.png',\n",
    "    order = bal_accs.sort_values('Result', ascending = False).Method)"
   ]
  },
  {
   "cell_type": "code",
   "execution_count": 156,
   "metadata": {},
   "outputs": [
    {
     "data": {
      "image/png": "[encoded data removed]",
      "text/plain": [
       "<Figure size 864x576 with 1 Axes>"
      ]
     },
     "metadata": {},
     "output_type": "display_data"
    }
   ],
   "source": [
    "plot_results(x = 'Method', y = 'Result', data = acc_eqs, \n",
    "    metricname = 'Overall Accuracy Equality', saveto = 'RES_ACC_EQS.png',\n",
    "    order = acc_eqs.sort_values('Result', ascending = False).Method)"
   ]
  },
  {
   "cell_type": "code",
   "execution_count": 157,
   "metadata": {},
   "outputs": [
    {
     "data": {
      "image/png": "[encoded data removed]",
      "text/plain": [
       "<Figure size 864x576 with 1 Axes>"
      ]
     },
     "metadata": {},
     "output_type": "display_data"
    }
   ],
   "source": [
    "plot_results(x = 'Method', y = 'Result', data = disp_imps, \n",
    "    metricname = 'Disparate Impact', saveto = 'RES_DISP_IMPS.png',\n",
    "    order = disp_imps.sort_values('Result', ascending = False).Method)"
   ]
  },
  {
   "cell_type": "code",
   "execution_count": 158,
   "metadata": {},
   "outputs": [
    {
     "data": {
      "image/png": "[encoded data removed]",
      "text/plain": [
       "<Figure size 864x576 with 1 Axes>"
      ]
     },
     "metadata": {},
     "output_type": "display_data"
    }
   ],
   "source": [
    "plot_results(x = 'Method', y = 'Result', data = eq_opps, \n",
    "    metricname = 'Equal Opportunity Difference', saveto = 'RES_EQ_OPPS.png',\n",
    "    order = eq_opps.sort_values('Result', ascending = False).Method)"
   ]
  },
  {
   "cell_type": "code",
   "execution_count": 159,
   "metadata": {},
   "outputs": [
    {
     "data": {
      "image/png": "[encoded data removed]",
      "text/plain": [
       "<Figure size 864x576 with 1 Axes>"
      ]
     },
     "metadata": {},
     "output_type": "display_data"
    }
   ],
   "source": [
    "plot_results(x = 'Method', y = 'Result', data = avg_odds, \n",
    "    metricname = 'Average Odds Difference', saveto = 'RES_AVG_ODDS.png',\n",
    "    order = avg_odds.sort_values('Result', ascending = False).Method)"
   ]
  },
  {
   "cell_type": "code",
   "execution_count": 160,
   "metadata": {},
   "outputs": [
    {
     "data": {
      "image/png": "[encoded data removed]",
      "text/plain": [
       "<Figure size 864x576 with 1 Axes>"
      ]
     },
     "metadata": {},
     "output_type": "display_data"
    }
   ],
   "source": [
    "plot_results(x = 'Method', y = 'Result', data = out_unfs, \n",
    "    metricname = 'Outcome Unfairness', saveto = 'RES_OUT_UNFS.png',\n",
    "    order = out_unfs.sort_values('Result', ascending = False).Method)"
   ]
  },
  {
   "cell_type": "markdown",
   "metadata": {},
   "source": [
    "#### Plot from .json"
   ]
  },
  {
   "cell_type": "code",
   "execution_count": 68,
   "metadata": {},
   "outputs": [],
   "source": [
    "def plot_results_from_json(filenames, metricname, saveto, set_lims, xlimits, ylimits):\n",
    "    plt.figure(figsize = (12, 8))\n",
    "    sns.set_style('whitegrid')\n",
    "    palette = sns.color_palette('Set2', 6)\n",
    "    for i, filename in enumerate(filenames):\n",
    "        with open(os.path.join(FILES, filename)) as file:\n",
    "            metric_threshs = json.load(file)\n",
    "            ax = sns.lineplot(x = class_thresh_arr, y = metric_threshs, color = palette[i])\n",
    "    ax.axvline(best_class_thresh, color = 'k', linestyle = ':')\n",
    "    ax.set_xlabel('Classification Thresholds', fontsize = 14, fontweight = 'bold')\n",
    "    ax.set_ylabel(metricname, fontsize = 14, fontweight = 'bold')\n",
    "    if set_lims == True:\n",
    "        ax.set_xlim(xlimits)\n",
    "        ax.set_ylim(ylimits)\n",
    "    plt.legend(['Logisitic Regression', 'Reweighing', 'Adversarial Debiasing', \\\n",
    "        'Prejudice Remover', 'Reject-option Classification', 'Calibrated Equal-Odds'])\n",
    "    plt.savefig(saveto, bbox_inches = 'tight')"
   ]
  },
  {
   "cell_type": "code",
   "execution_count": 67,
   "metadata": {},
   "outputs": [],
   "source": [
    "# plot_results_from_json(filenames = ['LR_bal_acc_arr.json', 'RW_bal_acc_arr.json', 'AD_bal_acc_arr.json', \n",
    "#     'PR_bal_acc_arr.json', 'ROC_bal_acc_arr.json', 'CEOD_bal_acc_arr.json'], \n",
    "#     xlimits = (0.0, 1.0), ylimits = (0.0, 1.0), set_lims = False, \n",
    "#     metricname = 'Balanced Accuracy', saveto = 'RES_balanced_accuracy.png')"
   ]
  },
  {
   "cell_type": "code",
   "execution_count": 66,
   "metadata": {},
   "outputs": [],
   "source": [
    "# plot_results_from_json(filenames = ['LR_acc_equal_arr.json', 'RW_acc_equal_arr.json', 'AD_acc_equal_arr.json', \n",
    "#     'PR_acc_equal_arr.json', 'ROC_acc_equal_arr.json', 'CEOD_acc_equal_arr.json'],\n",
    "#     xlimits = (0.0, 1.0), ylimits = (0.0, 1.0), set_lims = False,\n",
    "#     metricname = 'Accuracy Equality', saveto = 'RES_accuracy_equality.png')"
   ]
  },
  {
   "cell_type": "code",
   "execution_count": 65,
   "metadata": {},
   "outputs": [],
   "source": [
    "# plot_results_from_json(filenames = ['LR_avg_odds_diff_arr.json', 'RW_avg_odds_diff_arr.json', 'AD_avg_odds_diff_arr.json', \n",
    "#     'PR_avg_odds_diff_arr.json', 'ROC_avg_odds_diff_arr.json', 'CEOD_avg_odds_diff_arr.json'], \n",
    "#     xlimits = (0.0, 1.0), ylimits = (0.0, 1.0), set_lims = False,\n",
    "#     metricname = 'Average Odds Difference', saveto = 'RES_average_odds.png')"
   ]
  },
  {
   "cell_type": "code",
   "execution_count": 64,
   "metadata": {},
   "outputs": [],
   "source": [
    "# plot_results_from_json(filenames = ['LR_eq_opp_diff_arr.json', 'RW_eq_opp_diff_arr.json', 'AD_eq_opp_diff_arr.json', \n",
    "#     'PR_eq_opp_diff_arr.json', 'ROC_eq_opp_diff_arr.json', 'CEOD_eq_opp_diff_arr.json'], \n",
    "#     xlimits = (0.0, 1.0), ylimits = (0.0, 1.0), set_lims = False,\n",
    "#     metricname = 'Equal Opportunity Difference', saveto = 'RES_equal_opps.png')"
   ]
  },
  {
   "cell_type": "code",
   "execution_count": 63,
   "metadata": {},
   "outputs": [],
   "source": [
    "# plot_results_from_json(filenames = ['LR_outcome_unfair_arr.json', 'RW_outcome_unfair_arr.json', 'AD_outcome_unfair_arr.json', \n",
    "#     'PR_outcome_unfair_arr.json', 'ROC_outcome_unfair_arr.json', 'CEOD_outcome_unfair_arr.json'],\n",
    "#     xlimits = (0.0, 1.0), ylimits = (0.0, 1.0), set_lims = False,\n",
    "#     metricname = 'Outcome Unfairness', saveto = 'RES_outcome_unfair.png')"
   ]
  },
  {
   "cell_type": "code",
   "execution_count": 62,
   "metadata": {},
   "outputs": [],
   "source": [
    "# plot_results_from_json(filenames = ['LR_disp_imp_arr.json', 'RW_disp_imp_arr.json', 'AD_disp_imp_arr.json', \n",
    "#     'PR_disp_imp_arr.json', 'ROC_disp_imp_arr.json', 'CEOD_disp_imp_arr.json'], \n",
    "#     xlimits = (0.0, 1.0), ylimits = (-0.1, 1.5), set_lims = True,\n",
    "#     metricname = 'Disparate Impact', saveto = 'RES_disp_imp.png')"
   ]
  },
  {
   "cell_type": "code",
   "execution_count": null,
   "metadata": {},
   "outputs": [],
   "source": []
  }
 ],
 "metadata": {
  "interpreter": {
   "hash": "40d3a090f54c6569ab1632332b64b2c03c39dcf918b08424e98f38b5ae0af88f"
  },
  "kernelspec": {
   "display_name": "Python 3.7.4 ('base')",
   "language": "python",
   "name": "python3"
  },
  "language_info": {
   "codemirror_mode": {
    "name": "ipython",
    "version": 3
   },
   "file_extension": ".py",
   "mimetype": "text/x-python",
   "name": "python",
   "nbconvert_exporter": "python",
   "pygments_lexer": "ipython3",
   "version": "3.7.4"
  },
  "orig_nbformat": 4
 },
 "nbformat": 4,
 "nbformat_minor": 2
}

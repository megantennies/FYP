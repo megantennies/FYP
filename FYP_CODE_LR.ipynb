{
 "cells": [
  {
   "cell_type": "markdown",
   "metadata": {},
   "source": [
    "Imports"
   ]
  },
  {
   "cell_type": "code",
   "execution_count": 2,
   "metadata": {},
   "outputs": [],
   "source": [
    "# !pip install scipy==1.6.0\n",
    "# !pip install matplotlib==3.1.0"
   ]
  },
  {
   "cell_type": "code",
   "execution_count": 48,
   "metadata": {},
   "outputs": [],
   "source": [
    "import os, json, random\n",
    "random.seed(1)\n",
    "import numpy as np\n",
    "import pandas as pd\n",
    "import seaborn as sns\n",
    "from IPython.display import Markdown, display, Image\n",
    "from tqdm import tqdm\n",
    "from collections import OrderedDict\n",
    "import matplotlib.pyplot as plt\n",
    "%matplotlib inline"
   ]
  },
  {
   "cell_type": "code",
   "execution_count": 49,
   "metadata": {},
   "outputs": [],
   "source": [
    "# AIF360\n",
    "import aif360\n",
    "from aif360.datasets import CompasDataset\n",
    "from aif360.sklearn.datasets import fetch_compas\n",
    "# fairness metrics\n",
    "from aif360.metrics import BinaryLabelDatasetMetric, ClassificationMetric, DatasetMetric\n",
    "from aif360.metrics.common_utils import compute_metrics\n",
    "from aif360.metrics.utils import compute_num_instances\n",
    "# data preprocessing\n",
    "from aif360.algorithms.preprocessing.optim_preproc_helpers.data_preproc_functions import load_preproc_data_compas\n",
    "# explainers\n",
    "from aif360.explainers import MetricTextExplainer\n",
    "# bias mitigation techniques\n",
    "from aif360.algorithms.preprocessing import Reweighing\n",
    "from aif360.algorithms.inprocessing import AdversarialDebiasing, PrejudiceRemover, GerryFairClassifier\n",
    "from aif360.sklearn.inprocessing import AdversarialDebiasing as SKLearnAdversarialDebiasing\n",
    "from aif360.algorithms.inprocessing.gerryfair.clean import array_to_tuple\n",
    "from aif360.algorithms.inprocessing.gerryfair.auditor import Auditor\n",
    "from aif360.algorithms.postprocessing import CalibratedEqOddsPostprocessing, RejectOptionClassification\n",
    "from aif360.sklearn.utils import check_inputs, check_groups"
   ]
  },
  {
   "cell_type": "code",
   "execution_count": 50,
   "metadata": {},
   "outputs": [],
   "source": [
    "# TensorFlow\n",
    "import tensorflow\n",
    "import tensorflow.compat.v1 as tf\n",
    "tf.compat.v1.disable_eager_execution()"
   ]
  },
  {
   "cell_type": "code",
   "execution_count": 51,
   "metadata": {},
   "outputs": [],
   "source": [
    "import sklearn\n",
    "# scalers\n",
    "from sklearn.preprocessing import StandardScaler, MinMaxScaler, MaxAbsScaler, OneHotEncoder\n",
    "from sklearn.compose import make_column_transformer\n",
    "# classifiers\n",
    "from sklearn.linear_model import LogisticRegression\n",
    "from sklearn.ensemble import RandomForestClassifier\n",
    "from sklearn import svm, tree, linear_model\n",
    "# metrics\n",
    "from sklearn.metrics import accuracy_score, roc_curve, classification_report, confusion_matrix\n",
    "# kernels\n",
    "from sklearn.kernel_ridge import KernelRidge\n",
    "\n",
    "from sklearn.decomposition import PCA, FactorAnalysis\n",
    "from sklearn.datasets import make_blobs\n",
    "from sklearn.pipeline import make_pipeline\n",
    "from sklearn.model_selection import train_test_split, GridSearchCV, RepeatedStratifiedKFold\n",
    "from sklearn.inspection import permutation_importance"
   ]
  },
  {
   "cell_type": "markdown",
   "metadata": {},
   "source": [
    "Helper Functions"
   ]
  },
  {
   "cell_type": "code",
   "execution_count": 52,
   "metadata": {},
   "outputs": [],
   "source": [
    "FILES = '/Users/megantennies/FYP/saved data'"
   ]
  },
  {
   "cell_type": "code",
   "execution_count": 53,
   "metadata": {},
   "outputs": [],
   "source": [
    "def save_to_json(filename, data):\n",
    "    with open(os.path.join(FILES, filename), 'w') as write:\n",
    "        json.dump(data, write)"
   ]
  },
  {
   "cell_type": "code",
   "execution_count": 54,
   "metadata": {},
   "outputs": [],
   "source": [
    "def json_to_df(filename):\n",
    "    with open(os.path.join(FILES, filename), 'r') as load:\n",
    "        data = json.load(load)\n",
    "        df = pd.read_json(data, orient = 'split')\n",
    "    return df"
   ]
  },
  {
   "cell_type": "code",
   "execution_count": 55,
   "metadata": {},
   "outputs": [],
   "source": [
    "def df_to_json(filename, df):\n",
    "    df.to_json(os.path.join(FILES, filename), orient = 'split', \n",
    "    compression = 'infer', index = True)"
   ]
  },
  {
   "cell_type": "markdown",
   "metadata": {},
   "source": [
    "Data"
   ]
  },
  {
   "cell_type": "code",
   "execution_count": 57,
   "metadata": {},
   "outputs": [],
   "source": [
    "privileged_groups = [{'race': 1}]\n",
    "unprivileged_groups = [{'race': 0}]\n",
    "original_dataset = load_preproc_data_compas(['race'])"
   ]
  },
  {
   "cell_type": "code",
   "execution_count": 58,
   "metadata": {},
   "outputs": [],
   "source": [
    "default_mappings = {'label_maps': [{1.0: 'Recid', 0.0: 'Non-Recid'}], \n",
    "    'protected_attribute_maps': [{1.0: 'Male', 0.0: 'Female'}, \n",
    "    {1.0: 'White', 0.0: 'Non-White'}]}\n",
    "metrics = ['Statistical parity difference', 'Average odds difference', \n",
    "    'Equal opportunity difference']"
   ]
  },
  {
   "cell_type": "code",
   "execution_count": 59,
   "metadata": {},
   "outputs": [],
   "source": [
    "original_train, original_val_test = original_dataset.split([0.7], shuffle = True)\n",
    "original_val, original_test = original_val_test.split([0.5], shuffle = True)"
   ]
  },
  {
   "cell_type": "code",
   "execution_count": 60,
   "metadata": {},
   "outputs": [],
   "source": [
    "def describe(train = None, val = None, test = None):\n",
    "    if train is not None:\n",
    "        display(Markdown('#### Training dataset shape'))\n",
    "        print(train.features.shape)\n",
    "    if val is not None:\n",
    "        display(Markdown('#### Validation dataset shape'))\n",
    "        print(val.features.shape)\n",
    "    display(Markdown('#### Test dataset shape'))\n",
    "    print(test.features.shape)\n",
    "    display(Markdown('#### Favorable and unfavorable labels'))\n",
    "    print(test.favorable_label, test.unfavorable_label)\n",
    "    display(Markdown('#### Protected attribute names'))\n",
    "    print(test.protected_attribute_names)\n",
    "    display(Markdown('#### Privileged and unprivileged protected attribute values'))\n",
    "    print(test.privileged_protected_attributes, test.unprivileged_protected_attributes)\n",
    "    display(Markdown(\"#### Dataset feature names\"))\n",
    "    print(train.feature_names)"
   ]
  },
  {
   "cell_type": "code",
   "execution_count": 61,
   "metadata": {},
   "outputs": [
    {
     "data": {
      "text/markdown": [
       "#### Training dataset shape"
      ],
      "text/plain": [
       "<IPython.core.display.Markdown object>"
      ]
     },
     "metadata": {},
     "output_type": "display_data"
    },
    {
     "name": "stdout",
     "output_type": "stream",
     "text": [
      "(3694, 10)\n"
     ]
    },
    {
     "data": {
      "text/markdown": [
       "#### Validation dataset shape"
      ],
      "text/plain": [
       "<IPython.core.display.Markdown object>"
      ]
     },
     "metadata": {},
     "output_type": "display_data"
    },
    {
     "name": "stdout",
     "output_type": "stream",
     "text": [
      "(792, 10)\n"
     ]
    },
    {
     "data": {
      "text/markdown": [
       "#### Test dataset shape"
      ],
      "text/plain": [
       "<IPython.core.display.Markdown object>"
      ]
     },
     "metadata": {},
     "output_type": "display_data"
    },
    {
     "name": "stdout",
     "output_type": "stream",
     "text": [
      "(792, 10)\n"
     ]
    },
    {
     "data": {
      "text/markdown": [
       "#### Favorable and unfavorable labels"
      ],
      "text/plain": [
       "<IPython.core.display.Markdown object>"
      ]
     },
     "metadata": {},
     "output_type": "display_data"
    },
    {
     "name": "stdout",
     "output_type": "stream",
     "text": [
      "0.0 1.0\n"
     ]
    },
    {
     "data": {
      "text/markdown": [
       "#### Protected attribute names"
      ],
      "text/plain": [
       "<IPython.core.display.Markdown object>"
      ]
     },
     "metadata": {},
     "output_type": "display_data"
    },
    {
     "name": "stdout",
     "output_type": "stream",
     "text": [
      "['race']\n"
     ]
    },
    {
     "data": {
      "text/markdown": [
       "#### Privileged and unprivileged protected attribute values"
      ],
      "text/plain": [
       "<IPython.core.display.Markdown object>"
      ]
     },
     "metadata": {},
     "output_type": "display_data"
    },
    {
     "name": "stdout",
     "output_type": "stream",
     "text": [
      "[array([1.])] [array([0.])]\n"
     ]
    },
    {
     "data": {
      "text/markdown": [
       "#### Dataset feature names"
      ],
      "text/plain": [
       "<IPython.core.display.Markdown object>"
      ]
     },
     "metadata": {},
     "output_type": "display_data"
    },
    {
     "name": "stdout",
     "output_type": "stream",
     "text": [
      "['sex', 'race', 'age_cat=25 to 45', 'age_cat=Greater than 45', 'age_cat=Less than 25', 'priors_count=0', 'priors_count=1 to 3', 'priors_count=More than 3', 'c_charge_degree=F', 'c_charge_degree=M']\n"
     ]
    }
   ],
   "source": [
    "describe(original_train, original_val, original_test)"
   ]
  },
  {
   "cell_type": "code",
   "execution_count": 62,
   "metadata": {},
   "outputs": [],
   "source": [
    "original_metric = BinaryLabelDatasetMetric(original_train, \n",
    "    unprivileged_groups = unprivileged_groups, \n",
    "    privileged_groups = privileged_groups)"
   ]
  },
  {
   "cell_type": "code",
   "execution_count": 63,
   "metadata": {},
   "outputs": [
    {
     "data": {
      "text/markdown": [
       "#### Original COMPAS training data"
      ],
      "text/plain": [
       "<IPython.core.display.Markdown object>"
      ]
     },
     "metadata": {},
     "output_type": "display_data"
    },
    {
     "name": "stdout",
     "output_type": "stream",
     "text": [
      "Training data: Difference in mean outcomes between unprivileged and privileged groups = -0.133986\n",
      "Validation data: Difference in mean outcomes between unprivileged and privileged groups = -0.137431\n",
      "Testing data: Difference in mean outcomes between unprivileged and privileged groups = -0.117521\n"
     ]
    }
   ],
   "source": [
    "original_explainer = MetricTextExplainer(original_metric)\n",
    "display(Markdown('#### Original COMPAS training data'))\n",
    "\n",
    "original_train_metric = BinaryLabelDatasetMetric(original_train, \n",
    "    unprivileged_groups = unprivileged_groups, privileged_groups = privileged_groups)\n",
    "print('Training data: Difference in mean outcomes between unprivileged and privileged groups = %f' % original_train_metric.mean_difference())\n",
    "\n",
    "original_val_metric = BinaryLabelDatasetMetric(original_val, \n",
    "    unprivileged_groups = unprivileged_groups, privileged_groups = privileged_groups)\n",
    "print('Validation data: Difference in mean outcomes between unprivileged and privileged groups = %f' % original_val_metric.mean_difference())\n",
    "\n",
    "original_test_metric = BinaryLabelDatasetMetric(original_test, \n",
    "    unprivileged_groups = unprivileged_groups, privileged_groups = privileged_groups)\n",
    "print('Testing data: Difference in mean outcomes between unprivileged and privileged groups = %f' % original_test_metric.mean_difference())"
   ]
  },
  {
   "cell_type": "markdown",
   "metadata": {},
   "source": [
    "LR"
   ]
  },
  {
   "cell_type": "code",
   "execution_count": 64,
   "metadata": {},
   "outputs": [],
   "source": [
    "original_scaler = StandardScaler()\n",
    "X_train = original_scaler.fit_transform(original_train.features)\n",
    "y_train = original_train.labels.ravel()\n",
    "w_train = original_train.instance_weights.ravel()"
   ]
  },
  {
   "cell_type": "code",
   "execution_count": 65,
   "metadata": {},
   "outputs": [],
   "source": [
    "lr = LogisticRegression()\n",
    "lr.fit(X_train, y_train, sample_weight = original_train.instance_weights)\n",
    "y_train_preds = lr.predict(X_train)"
   ]
  },
  {
   "cell_type": "code",
   "execution_count": 66,
   "metadata": {},
   "outputs": [],
   "source": [
    "pos_ind = np.where(lr.classes_ == original_train.favorable_label)[0][0]"
   ]
  },
  {
   "cell_type": "code",
   "execution_count": 67,
   "metadata": {},
   "outputs": [],
   "source": [
    "original_train_preds = original_train.copy()\n",
    "original_train_preds.labels = y_train_preds\n",
    "\n",
    "original_val_preds = original_val.copy(deepcopy = True)\n",
    "X_val = original_scaler.transform(original_val_preds.features)\n",
    "y_val = original_val_preds.labels\n",
    "original_val_preds.scores = lr.predict_proba(X_val)[:, pos_ind].reshape(-1, 1)\n",
    "\n",
    "original_test_preds = original_test.copy(deepcopy = True)\n",
    "X_test = original_scaler.transform(original_test_preds.features)\n",
    "y_test = original_test_preds.labels\n",
    "original_test_preds.scores = lr.predict_proba(X_test)[:, pos_ind].reshape(-1, 1)"
   ]
  },
  {
   "cell_type": "code",
   "execution_count": 68,
   "metadata": {},
   "outputs": [],
   "source": [
    "num_thresh = 100\n",
    "bal_arr = np.zeros(num_thresh)\n",
    "class_thresh_arr = np.linspace(0.01, 0.99, num_thresh)\n",
    "\n",
    "for idx, class_thresh in enumerate(class_thresh_arr):\n",
    "    fav_inds = original_val_preds.scores > class_thresh\n",
    "    original_val_preds.labels[fav_inds] = original_val_preds.favorable_label\n",
    "    original_val_preds.labels[~fav_inds] = original_val_preds.unfavorable_label\n",
    "\n",
    "    original_val_metric = ClassificationMetric(original_val, \n",
    "        original_val_preds, unprivileged_groups = unprivileged_groups, \n",
    "        privileged_groups = privileged_groups)\n",
    "\n",
    "    bal_arr[idx] = 0.5 * (original_val_metric.true_positive_rate() \n",
    "        + original_val_metric.true_negative_rate())"
   ]
  },
  {
   "cell_type": "code",
   "execution_count": 69,
   "metadata": {},
   "outputs": [
    {
     "data": {
      "text/markdown": [
       "#### Original COMPAS data"
      ],
      "text/plain": [
       "<IPython.core.display.Markdown object>"
      ]
     },
     "metadata": {},
     "output_type": "display_data"
    },
    {
     "name": "stdout",
     "output_type": "stream",
     "text": [
      "Best balanced accuracy (no transforming): 0.6628\n",
      "Optimal classification threshold (no transforming): 0.5742\n"
     ]
    }
   ],
   "source": [
    "best_ind = np.where(bal_arr == np.max(bal_arr))[0][0]\n",
    "best_class_thresh = class_thresh_arr[best_ind]\n",
    "\n",
    "display(Markdown('#### Original COMPAS data'))\n",
    "print('Best balanced accuracy (no transforming): %.4f' % np.max(bal_arr))\n",
    "print('Optimal classification threshold (no transforming): %.4f' % best_class_thresh)"
   ]
  },
  {
   "cell_type": "code",
   "execution_count": 70,
   "metadata": {},
   "outputs": [],
   "source": [
    "bal_acc_arr = []\n",
    "disp_imp_arr = []\n",
    "avg_odds_diff_arr = []\n",
    "eq_opp_diff_arr = []\n",
    "outcome_unfair_arr = []\n",
    "acc_equal_arr = []"
   ]
  },
  {
   "cell_type": "code",
   "execution_count": 71,
   "metadata": {},
   "outputs": [
    {
     "data": {
      "text/markdown": [
       "#### Predictions from the original testing data"
      ],
      "text/plain": [
       "<IPython.core.display.Markdown object>"
      ]
     },
     "metadata": {},
     "output_type": "display_data"
    },
    {
     "name": "stderr",
     "output_type": "stream",
     "text": [
      " 33%|███▎      | 33/100 [00:00<00:00, 319.21it/s]"
     ]
    },
    {
     "name": "stdout",
     "output_type": "stream",
     "text": [
      "Classification threshold used: 0.5742\n",
      "Balanced accuracy = 0.6416\n",
      "Statistical parity difference = -0.3326\n",
      "Disparate impact = 0.4516\n",
      "Average odds difference = -0.3064\n",
      "Equal opportunity difference = -0.2763\n",
      "Theil index = 0.3204\n"
     ]
    },
    {
     "name": "stderr",
     "output_type": "stream",
     "text": [
      " 75%|███████▌  | 75/100 [00:00<00:00, 342.59it/s]invalid value encountered in double_scalars\n",
      "100%|██████████| 100/100 [00:00<00:00, 374.93it/s]\n"
     ]
    }
   ],
   "source": [
    "display(Markdown('#### Predictions from the original testing data'))\n",
    "print('Classification threshold used: %.4f' % best_class_thresh)\n",
    "\n",
    "for thresh in tqdm(class_thresh_arr):\n",
    "    if thresh == best_class_thresh:\n",
    "        disp = True\n",
    "    else:\n",
    "        disp = False\n",
    "    fav_inds = original_test_preds.scores > thresh\n",
    "    original_test_preds.labels[fav_inds] = original_test_preds.favorable_label\n",
    "    original_test_preds.labels[~fav_inds] = original_test_preds.unfavorable_label\n",
    "    \n",
    "    metric_test = compute_metrics(original_test, original_test_preds, \\\n",
    "        unprivileged_groups, privileged_groups, disp = disp)\n",
    "    class_metric_test = ClassificationMetric(original_test, original_test_preds, \\\n",
    "        unprivileged_groups, privileged_groups)\n",
    "    \n",
    "    bal_acc_arr.append(metric_test['Balanced accuracy'])\n",
    "    avg_odds_diff_arr.append(metric_test['Average odds difference'])\n",
    "    disp_imp_arr.append(metric_test['Disparate impact'])\n",
    "    eq_opp_diff_arr.append(metric_test['Equal opportunity difference'])\n",
    "    outcome_unfair_arr.append(class_metric_test.false_discovery_rate_difference() \\\n",
    "        + class_metric_test.false_positive_rate_difference())\n",
    "    acc_equal_arr.append((class_metric_test.true_positive_rate(privileged = False) + \\\n",
    "        class_metric_test.true_negative_rate(privileged = False)) - \\\n",
    "            (class_metric_test.true_positive_rate(privileged = True) + \\\n",
    "                class_metric_test.true_negative_rate(privileged = True)))"
   ]
  },
  {
   "cell_type": "code",
   "execution_count": 90,
   "metadata": {},
   "outputs": [],
   "source": [
    "save_to_json(filename = 'LR_bal_acc_arr.json', data = bal_acc_arr)\n",
    "save_to_json(filename = 'LR_disp_imp_arr.json', data = disp_imp_arr)\n",
    "save_to_json(filename = 'LR_avg_odds_diff_arr.json', data = avg_odds_diff_arr)\n",
    "save_to_json(filename = 'LR_eq_opp_diff_arr.json', data = eq_opp_diff_arr)\n",
    "save_to_json(filename = 'LR_outcome_unfair_arr.json', data = outcome_unfair_arr)\n",
    "save_to_json(filename = 'LR_acc_equal_arr.json', data = acc_equal_arr)"
   ]
  },
  {
   "cell_type": "code",
   "execution_count": 72,
   "metadata": {},
   "outputs": [],
   "source": [
    "LR_bal_acc = np.interp(best_class_thresh, class_thresh_arr, bal_acc_arr)\n",
    "LR_acc_equal = np.interp(best_class_thresh, class_thresh_arr, acc_equal_arr)\n",
    "LR_disp_imp = np.interp(best_class_thresh, class_thresh_arr, disp_imp_arr)\n",
    "LR_out_unf = np.interp(best_class_thresh, class_thresh_arr, outcome_unfair_arr)\n",
    "LR_avg_odds = np.interp(best_class_thresh, class_thresh_arr, avg_odds_diff_arr)\n",
    "LR_eq_odds = np.interp(best_class_thresh, class_thresh_arr, eq_opp_diff_arr)"
   ]
  },
  {
   "cell_type": "code",
   "execution_count": 73,
   "metadata": {},
   "outputs": [
    {
     "data": {
      "text/html": [
       "<div>\n",
       "<style scoped>\n",
       "    .dataframe tbody tr th:only-of-type {\n",
       "        vertical-align: middle;\n",
       "    }\n",
       "\n",
       "    .dataframe tbody tr th {\n",
       "        vertical-align: top;\n",
       "    }\n",
       "\n",
       "    .dataframe thead th {\n",
       "        text-align: right;\n",
       "    }\n",
       "</style>\n",
       "<table border=\"1\" class=\"dataframe\">\n",
       "  <thead>\n",
       "    <tr style=\"text-align: right;\">\n",
       "      <th></th>\n",
       "      <th>Metric</th>\n",
       "      <th>Logistic Regression</th>\n",
       "    </tr>\n",
       "  </thead>\n",
       "  <tbody>\n",
       "    <tr>\n",
       "      <th>0</th>\n",
       "      <td>Balanced Accuracy</td>\n",
       "      <td>0.641571</td>\n",
       "    </tr>\n",
       "    <tr>\n",
       "      <th>1</th>\n",
       "      <td>Accuracy Equality</td>\n",
       "      <td>0.060266</td>\n",
       "    </tr>\n",
       "    <tr>\n",
       "      <th>2</th>\n",
       "      <td>Disparate Impact</td>\n",
       "      <td>0.451576</td>\n",
       "    </tr>\n",
       "    <tr>\n",
       "      <th>3</th>\n",
       "      <td>Outcome Unfairess</td>\n",
       "      <td>-0.382995</td>\n",
       "    </tr>\n",
       "    <tr>\n",
       "      <th>4</th>\n",
       "      <td>Average Odds Difference</td>\n",
       "      <td>-0.306441</td>\n",
       "    </tr>\n",
       "    <tr>\n",
       "      <th>5</th>\n",
       "      <td>Equal Opportunity Difference</td>\n",
       "      <td>-0.276307</td>\n",
       "    </tr>\n",
       "  </tbody>\n",
       "</table>\n",
       "</div>"
      ],
      "text/plain": [
       "                         Metric  Logistic Regression\n",
       "0             Balanced Accuracy             0.641571\n",
       "1             Accuracy Equality             0.060266\n",
       "2              Disparate Impact             0.451576\n",
       "3             Outcome Unfairess            -0.382995\n",
       "4       Average Odds Difference            -0.306441\n",
       "5  Equal Opportunity Difference            -0.276307"
      ]
     },
     "execution_count": 73,
     "metadata": {},
     "output_type": "execute_result"
    }
   ],
   "source": [
    "LR_results = {'Metric': ['Balanced Accuracy', 'Accuracy Equality', 'Disparate Impact', 'Outcome Unfairess', 'Average Odds Difference', 'Equal Opportunity Difference'],\n",
    "    'Logistic Regression': [LR_bal_acc, LR_acc_equal, LR_disp_imp, LR_out_unf, LR_avg_odds, LR_eq_odds]}\n",
    "LR_results_df = pd.DataFrame(LR_results)\n",
    "LR_results_df"
   ]
  },
  {
   "cell_type": "code",
   "execution_count": 74,
   "metadata": {},
   "outputs": [],
   "source": [
    "df_to_json(filename = 'LR_results.json', df = LR_results_df)"
   ]
  },
  {
   "cell_type": "markdown",
   "metadata": {},
   "source": [
    "COMPARISON"
   ]
  },
  {
   "cell_type": "code",
   "execution_count": 75,
   "metadata": {},
   "outputs": [],
   "source": [
    "def json_to_data(filename):\n",
    "    with open(os.path.join(FILES, filename)) as file:\n",
    "        data = json.load(file)\n",
    "    df = pd.DataFrame(columns = data['columns'], data = data['data'])\n",
    "    return df"
   ]
  },
  {
   "cell_type": "code",
   "execution_count": 76,
   "metadata": {},
   "outputs": [],
   "source": [
    "LR = json_to_data(filename = 'LR_results.json')\n",
    "RW = json_to_data(filename = 'RW_results.json')\n",
    "AD = json_to_data(filename = 'AD_results.json')\n",
    "PR = json_to_data(filename = 'PR_results.json')\n",
    "ROC = json_to_data(filename = 'ROC_results.json')\n",
    "CEOD = json_to_data(filename = 'CEOD_results.json')"
   ]
  },
  {
   "cell_type": "code",
   "execution_count": 77,
   "metadata": {},
   "outputs": [],
   "source": [
    "RW = RW.drop(columns = ['Metric'], axis = 1)\n",
    "AD = AD.drop(columns = ['Metric'], axis = 1)\n",
    "PR = PR.drop(columns = ['Metric'], axis = 1)\n",
    "ROC = ROC.drop(columns = ['Metric'], axis = 1)\n",
    "CEOD = CEOD.drop(columns = ['Metric'], axis = 1)"
   ]
  },
  {
   "cell_type": "code",
   "execution_count": 78,
   "metadata": {},
   "outputs": [
    {
     "data": {
      "text/html": [
       "<div>\n",
       "<style scoped>\n",
       "    .dataframe tbody tr th:only-of-type {\n",
       "        vertical-align: middle;\n",
       "    }\n",
       "\n",
       "    .dataframe tbody tr th {\n",
       "        vertical-align: top;\n",
       "    }\n",
       "\n",
       "    .dataframe thead th {\n",
       "        text-align: right;\n",
       "    }\n",
       "</style>\n",
       "<table border=\"1\" class=\"dataframe\">\n",
       "  <thead>\n",
       "    <tr style=\"text-align: right;\">\n",
       "      <th></th>\n",
       "      <th>Metric</th>\n",
       "      <th>Logistic Regression</th>\n",
       "      <th>Reweighing</th>\n",
       "      <th>Adversarial Debiasing</th>\n",
       "      <th>Prejudice Remover</th>\n",
       "      <th>Reject-option Classification</th>\n",
       "      <th>Calibrated Equal Odds</th>\n",
       "    </tr>\n",
       "  </thead>\n",
       "  <tbody>\n",
       "    <tr>\n",
       "      <th>0</th>\n",
       "      <td>Balanced Accuracy</td>\n",
       "      <td>0.641571</td>\n",
       "      <td>0.638525</td>\n",
       "      <td>0.342027</td>\n",
       "      <td>0.521757</td>\n",
       "      <td>0.661921</td>\n",
       "      <td>0.674342</td>\n",
       "    </tr>\n",
       "    <tr>\n",
       "      <th>1</th>\n",
       "      <td>Accuracy Equality</td>\n",
       "      <td>0.060266</td>\n",
       "      <td>0.228116</td>\n",
       "      <td>-0.073757</td>\n",
       "      <td>-0.296931</td>\n",
       "      <td>0.008119</td>\n",
       "      <td>0.044767</td>\n",
       "    </tr>\n",
       "    <tr>\n",
       "      <th>2</th>\n",
       "      <td>Disparate Impact</td>\n",
       "      <td>0.451576</td>\n",
       "      <td>0.830641</td>\n",
       "      <td>0.961528</td>\n",
       "      <td>0.993250</td>\n",
       "      <td>0.453693</td>\n",
       "      <td>0.591625</td>\n",
       "    </tr>\n",
       "    <tr>\n",
       "      <th>3</th>\n",
       "      <td>Outcome Unfairess</td>\n",
       "      <td>-0.382995</td>\n",
       "      <td>-0.145885</td>\n",
       "      <td>0.150370</td>\n",
       "      <td>0.491171</td>\n",
       "      <td>-0.341977</td>\n",
       "      <td>-0.191008</td>\n",
       "    </tr>\n",
       "    <tr>\n",
       "      <th>4</th>\n",
       "      <td>Average Odds Difference</td>\n",
       "      <td>-0.306441</td>\n",
       "      <td>-0.097485</td>\n",
       "      <td>-0.061080</td>\n",
       "      <td>0.024089</td>\n",
       "      <td>-0.344151</td>\n",
       "      <td>-0.252650</td>\n",
       "    </tr>\n",
       "    <tr>\n",
       "      <th>5</th>\n",
       "      <td>Equal Opportunity Difference</td>\n",
       "      <td>-0.276307</td>\n",
       "      <td>0.016573</td>\n",
       "      <td>-0.097959</td>\n",
       "      <td>-0.124376</td>\n",
       "      <td>-0.340092</td>\n",
       "      <td>-0.230266</td>\n",
       "    </tr>\n",
       "  </tbody>\n",
       "</table>\n",
       "</div>"
      ],
      "text/plain": [
       "                         Metric  Logistic Regression  Reweighing  \\\n",
       "0             Balanced Accuracy             0.641571    0.638525   \n",
       "1             Accuracy Equality             0.060266    0.228116   \n",
       "2              Disparate Impact             0.451576    0.830641   \n",
       "3             Outcome Unfairess            -0.382995   -0.145885   \n",
       "4       Average Odds Difference            -0.306441   -0.097485   \n",
       "5  Equal Opportunity Difference            -0.276307    0.016573   \n",
       "\n",
       "   Adversarial Debiasing  Prejudice Remover  Reject-option Classification  \\\n",
       "0               0.342027           0.521757                      0.661921   \n",
       "1              -0.073757          -0.296931                      0.008119   \n",
       "2               0.961528           0.993250                      0.453693   \n",
       "3               0.150370           0.491171                     -0.341977   \n",
       "4              -0.061080           0.024089                     -0.344151   \n",
       "5              -0.097959          -0.124376                     -0.340092   \n",
       "\n",
       "   Calibrated Equal Odds  \n",
       "0               0.674342  \n",
       "1               0.044767  \n",
       "2               0.591625  \n",
       "3              -0.191008  \n",
       "4              -0.252650  \n",
       "5              -0.230266  "
      ]
     },
     "execution_count": 78,
     "metadata": {},
     "output_type": "execute_result"
    }
   ],
   "source": [
    "results = pd.concat([LR, RW, AD, PR, ROC, CEOD], axis = 1)\n",
    "results"
   ]
  },
  {
   "cell_type": "code",
   "execution_count": 103,
   "metadata": {},
   "outputs": [],
   "source": [
    "def plot_results(filenames, metricname, saveto):\n",
    "    plt.figure(figsize = (12, 8))\n",
    "    sns.set_style('whitegrid')\n",
    "    palette = sns.color_palette('Greens', 6)\n",
    "    for i, filename in enumerate(filenames):\n",
    "        with open(os.path.join(FILES, filename)) as file:\n",
    "            metric_threshs = json.load(file)\n",
    "            ax = sns.lineplot(x = class_thresh_arr, y = metric_threshs, color = palette[i])\n",
    "    ax.axvline(best_class_thresh, color = 'k', linestyle = ':')\n",
    "    ax.set_xlabel('Classification Thresholds', fontsize = 14, fontweight = 'bold')\n",
    "    ax.set_ylabel(metricname, fontsize = 14, fontweight = 'bold')\n",
    "    plt.legend(['Logisitic Regression', 'Reweighing', 'Adversarial Debiasing', \\\n",
    "        'Prejudice Remover', 'Reject-option Classification', 'Calibrated Equal-Odds'])\n",
    "    plt.savefig(saveto, bbox_inches = 'tight')"
   ]
  },
  {
   "cell_type": "code",
   "execution_count": 104,
   "metadata": {},
   "outputs": [
    {
     "data": {
      "image/png": "[encoded data removed]",
      "text/plain": [
       "<Figure size 864x576 with 1 Axes>"
      ]
     },
     "metadata": {},
     "output_type": "display_data"
    }
   ],
   "source": [
    "plot_results(filenames = ['LR_bal_acc_arr.json', 'RW_bal_acc_arr.json', 'AD_bal_acc_arr.json', \n",
    "    'PR_bal_acc_arr.json', 'ROC_bal_acc_arr.json', 'CEOD_bal_acc_arr.json'],\n",
    "    metricname = 'Balanced Accuracy', saveto = 'RES_balanced_accuracy.png')"
   ]
  },
  {
   "cell_type": "code",
   "execution_count": null,
   "metadata": {},
   "outputs": [],
   "source": [
    "plot_results(filenames = ['LR_bal_acc_arr.json', 'RW_bal_acc_arr.json', 'AD_bal_acc_arr.json', \n",
    "    'PR_bal_acc_arr.json', 'ROC_bal_acc_arr.json', 'CEOD_bal_acc_arr.json'],\n",
    "    metricname = 'Balanced Accuracy', saveto = 'RES_balanced_accuracy.png')"
   ]
  },
  {
   "cell_type": "code",
   "execution_count": 79,
   "metadata": {},
   "outputs": [
    {
     "name": "stderr",
     "output_type": "stream",
     "text": [
      "Pass the following variables as keyword args: x, y. From version 0.12, the only valid positional argument will be `data`, and passing other arguments without an explicit keyword will result in an error or misinterpretation.\n"
     ]
    },
    {
     "data": {
      "image/png": "[encoded data removed]",
      "text/plain": [
       "<Figure size 864x576 with 1 Axes>"
      ]
     },
     "metadata": {
      "needs_background": "light"
     },
     "output_type": "display_data"
    }
   ],
   "source": [
    "plt.figure(figsize = (12, 8))\n",
    "ax = sns.lineplot(class_thresh_arr, bal_acc_arr, color = '#a4ce9e')"
   ]
  },
  {
   "cell_type": "code",
   "execution_count": null,
   "metadata": {},
   "outputs": [],
   "source": []
  }
 ],
 "metadata": {
  "interpreter": {
   "hash": "40d3a090f54c6569ab1632332b64b2c03c39dcf918b08424e98f38b5ae0af88f"
  },
  "kernelspec": {
   "display_name": "Python 3.7.4 ('base')",
   "language": "python",
   "name": "python3"
  },
  "language_info": {
   "codemirror_mode": {
    "name": "ipython",
    "version": 3
   },
   "file_extension": ".py",
   "mimetype": "text/x-python",
   "name": "python",
   "nbconvert_exporter": "python",
   "pygments_lexer": "ipython3",
   "version": "3.7.4"
  },
  "orig_nbformat": 4
 },
 "nbformat": 4,
 "nbformat_minor": 2
}
